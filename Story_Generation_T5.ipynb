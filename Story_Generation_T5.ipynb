{
  "nbformat": 4,
  "nbformat_minor": 0,
  "metadata": {
    "colab": {
      "provenance": [],
      "gpuType": "T4",
      "collapsed_sections": [
        "pwf9LGiCzYmo",
        "EOtQstapqEmC",
        "RBrX26Az6T0-",
        "8XA-3Jngonjc",
        "_ASa0fbnQe4u"
      ]
    },
    "kernelspec": {
      "name": "python3",
      "display_name": "Python 3"
    },
    "language_info": {
      "name": "python"
    },
    "accelerator": "GPU"
  },
  "cells": [
    {
      "cell_type": "markdown",
      "source": [
        "## Installing Transformers library"
      ],
      "metadata": {
        "id": "gMPsfSIMQTFs"
      }
    },
    {
      "cell_type": "code",
      "execution_count": null,
      "metadata": {
        "id": "vpJtgoRkQf8x",
        "colab": {
          "base_uri": "https://localhost:8080/"
        },
        "outputId": "1499ba87-9167-4ef6-b778-c8ec3a224a3b"
      },
      "outputs": [
        {
          "output_type": "stream",
          "name": "stdout",
          "text": [
            "Looking in indexes: https://pypi.org/simple, https://us-python.pkg.dev/colab-wheels/public/simple/\n",
            "Collecting transformers\n",
            "  Downloading transformers-4.30.2-py3-none-any.whl (7.2 MB)\n",
            "\u001b[2K     \u001b[90m━━━━━━━━━━━━━━━━━━━━━━━━━━━━━━━━━━━━━━━━\u001b[0m \u001b[32m7.2/7.2 MB\u001b[0m \u001b[31m84.6 MB/s\u001b[0m eta \u001b[36m0:00:00\u001b[0m\n",
            "\u001b[?25hRequirement already satisfied: filelock in /usr/local/lib/python3.10/dist-packages (from transformers) (3.12.0)\n",
            "Collecting huggingface-hub<1.0,>=0.14.1 (from transformers)\n",
            "  Downloading huggingface_hub-0.15.1-py3-none-any.whl (236 kB)\n",
            "\u001b[2K     \u001b[90m━━━━━━━━━━━━━━━━━━━━━━━━━━━━━━━━━━━━━━\u001b[0m \u001b[32m236.8/236.8 kB\u001b[0m \u001b[31m28.7 MB/s\u001b[0m eta \u001b[36m0:00:00\u001b[0m\n",
            "\u001b[?25hRequirement already satisfied: numpy>=1.17 in /usr/local/lib/python3.10/dist-packages (from transformers) (1.22.4)\n",
            "Requirement already satisfied: packaging>=20.0 in /usr/local/lib/python3.10/dist-packages (from transformers) (23.1)\n",
            "Requirement already satisfied: pyyaml>=5.1 in /usr/local/lib/python3.10/dist-packages (from transformers) (6.0)\n",
            "Requirement already satisfied: regex!=2019.12.17 in /usr/local/lib/python3.10/dist-packages (from transformers) (2022.10.31)\n",
            "Requirement already satisfied: requests in /usr/local/lib/python3.10/dist-packages (from transformers) (2.27.1)\n",
            "Collecting tokenizers!=0.11.3,<0.14,>=0.11.1 (from transformers)\n",
            "  Downloading tokenizers-0.13.3-cp310-cp310-manylinux_2_17_x86_64.manylinux2014_x86_64.whl (7.8 MB)\n",
            "\u001b[2K     \u001b[90m━━━━━━━━━━━━━━━━━━━━━━━━━━━━━━━━━━━━━━━━\u001b[0m \u001b[32m7.8/7.8 MB\u001b[0m \u001b[31m117.4 MB/s\u001b[0m eta \u001b[36m0:00:00\u001b[0m\n",
            "\u001b[?25hCollecting safetensors>=0.3.1 (from transformers)\n",
            "  Downloading safetensors-0.3.1-cp310-cp310-manylinux_2_17_x86_64.manylinux2014_x86_64.whl (1.3 MB)\n",
            "\u001b[2K     \u001b[90m━━━━━━━━━━━━━━━━━━━━━━━━━━━━━━━━━━━━━━━━\u001b[0m \u001b[32m1.3/1.3 MB\u001b[0m \u001b[31m82.9 MB/s\u001b[0m eta \u001b[36m0:00:00\u001b[0m\n",
            "\u001b[?25hRequirement already satisfied: tqdm>=4.27 in /usr/local/lib/python3.10/dist-packages (from transformers) (4.65.0)\n",
            "Requirement already satisfied: fsspec in /usr/local/lib/python3.10/dist-packages (from huggingface-hub<1.0,>=0.14.1->transformers) (2023.4.0)\n",
            "Requirement already satisfied: typing-extensions>=3.7.4.3 in /usr/local/lib/python3.10/dist-packages (from huggingface-hub<1.0,>=0.14.1->transformers) (4.5.0)\n",
            "Requirement already satisfied: urllib3<1.27,>=1.21.1 in /usr/local/lib/python3.10/dist-packages (from requests->transformers) (1.26.15)\n",
            "Requirement already satisfied: certifi>=2017.4.17 in /usr/local/lib/python3.10/dist-packages (from requests->transformers) (2022.12.7)\n",
            "Requirement already satisfied: charset-normalizer~=2.0.0 in /usr/local/lib/python3.10/dist-packages (from requests->transformers) (2.0.12)\n",
            "Requirement already satisfied: idna<4,>=2.5 in /usr/local/lib/python3.10/dist-packages (from requests->transformers) (3.4)\n",
            "Installing collected packages: tokenizers, safetensors, huggingface-hub, transformers\n",
            "Successfully installed huggingface-hub-0.15.1 safetensors-0.3.1 tokenizers-0.13.3 transformers-4.30.2\n"
          ]
        }
      ],
      "source": [
        "#Installing transformer package\n",
        "!pip install transformers"
      ]
    },
    {
      "cell_type": "markdown",
      "source": [
        "## Rating Estimation by ChatGPT"
      ],
      "metadata": {
        "id": "pwf9LGiCzYmo"
      }
    },
    {
      "cell_type": "code",
      "source": [
        "!pip install openai"
      ],
      "metadata": {
        "id": "dzwU4eGtvhjh"
      },
      "execution_count": null,
      "outputs": []
    },
    {
      "cell_type": "code",
      "source": [
        "import os\n",
        "import openai\n",
        "os.environ[\"OpenAI_API_Key\"] = \"\"\n",
        "api_key = os.environ.get(\"OpenAI_API_Key\")\n",
        "openai.api_key = api_key"
      ],
      "metadata": {
        "id": "s67L7e5yvjSX"
      },
      "execution_count": null,
      "outputs": []
    },
    {
      "cell_type": "code",
      "source": [
        "# Loss to be added in the custom loss\n",
        "def get_chatgpt_rating(prompt, sample):\n",
        "  completion = openai.ChatCompletion.create(\n",
        "  model=\"gpt-3.5-turbo\",\n",
        "  messages=[\n",
        "    {\"role\": \"user\",\n",
        "     \"content\": f\"{prompt} {sample}\"}\n",
        "  ])\n",
        "  return 10 - int(completion.choices[0].message)"
      ],
      "metadata": {
        "id": "8tB5L6nFLhDS"
      },
      "execution_count": null,
      "outputs": []
    },
    {
      "cell_type": "code",
      "source": [
        "# Different prompts tested in order to generate a sensible rating\n",
        "prompt1 = \"Provide me rating between 0 and 10 (without any explanation), where 0 is the best and 10 is the worst, for the following story summary: \"\n",
        "prompt2 = \"Assign a rating between 0 (best) and 10 (worst) to the given artificial story summary (only give rating as the response):\"\n",
        "prompt3 = \"Assign a rating between 0 (best) and 10 (worst) to the given artificial story summary (only give rating as the response). The rating should be based on writing style, coherence and capture strength. Summary:\"\n",
        "prompt4 = \"Assign a rating between 0 and 10 to the given artificial story summary. Only give rating as the response (no reasoning). The rating should be based on writing style, coherence, and capture strength. Summary:\" # Best\n",
        "prompt5 = \"Provide me rating between 0 and 10 (without any explanation),  for the following story summary:\""
      ],
      "metadata": {
        "id": "MQJRNPghzb7g"
      },
      "execution_count": null,
      "outputs": []
    },
    {
      "cell_type": "markdown",
      "source": [
        "## Data Tokenization/Encoding"
      ],
      "metadata": {
        "id": "2dYlSUZNQYop"
      }
    },
    {
      "cell_type": "code",
      "source": [
        "#Loading the standard T5 small model and tokenizer\n",
        "from transformers import AutoTokenizer, AutoModelForSeq2SeqLM\n",
        "# Can try different T5 models such as T5-large, T5-3B, T5-11B\n",
        "base_tokenizer = AutoTokenizer.from_pretrained('t5-small')\n",
        "base_model = AutoModelForSeq2SeqLM.from_pretrained(\"t5-small\")"
      ],
      "metadata": {
        "id": "bVkVGdHBYQat"
      },
      "execution_count": null,
      "outputs": []
    },
    {
      "cell_type": "code",
      "source": [
        "# Encoding the sequences\n",
        "def encode_sequences(x, base_tokenizer = base_tokenizer):\n",
        "  # try:\n",
        "    # Input consists of different aspects of the story on which the output will be conditioned\n",
        "    input = x['Input']\n",
        "    # Label is the conditioned output - Story\n",
        "    label = x['Summary']\n",
        "    # Max length of the input sequence in T5 is 512 tokens (BART could be used for longer sequences - 1024 max length limit)\n",
        "    model_input = base_tokenizer(input, max_length = 512, truncation=True, padding='max_length')\n",
        "    model_input['labels'] = base_tokenizer(label, max_length = 512, truncation=True, padding='max_length')['input_ids']\n",
        "    return model_input"
      ],
      "metadata": {
        "id": "pz4X3H2rMDTE"
      },
      "execution_count": null,
      "outputs": []
    },
    {
      "cell_type": "code",
      "source": [
        "# Loading the final dataset\n",
        "import pandas as pd\n",
        "df = pd.read_csv('/content/drive/MyDrive/Visual Story Telling/Dataset - Story Generation/Training_Dataset')"
      ],
      "metadata": {
        "id": "9F_s4EA1YTER"
      },
      "execution_count": null,
      "outputs": []
    },
    {
      "cell_type": "code",
      "source": [
        "from sklearn.model_selection import train_test_split\n",
        "train_df, test_df = train_test_split(df, test_size=0.1, random_state=1)"
      ],
      "metadata": {
        "id": "q7Y0PUMjTqO_"
      },
      "execution_count": null,
      "outputs": []
    },
    {
      "cell_type": "code",
      "source": [
        "# Tokenizing the dataset\n",
        "train_df = train_df.apply(encode_sequences, axis=1)\n",
        "test_df = test_df.apply(encode_sequences, axis = 1)"
      ],
      "metadata": {
        "id": "DTsB1rXyMp-x"
      },
      "execution_count": null,
      "outputs": []
    },
    {
      "cell_type": "code",
      "source": [
        "train_df.dropna(inplace = True)\n",
        "test_df.dropna(inplace = True)"
      ],
      "metadata": {
        "id": "zqw4aSD8Agme"
      },
      "execution_count": null,
      "outputs": []
    },
    {
      "cell_type": "code",
      "source": [
        "train_df.reset_index(drop=True, inplace=True)\n",
        "test_df.reset_index(drop=True, inplace=True)"
      ],
      "metadata": {
        "id": "fZr3FDXBoWgk"
      },
      "execution_count": null,
      "outputs": []
    },
    {
      "cell_type": "markdown",
      "source": [
        "## Number of parameters"
      ],
      "metadata": {
        "id": "EOtQstapqEmC"
      }
    },
    {
      "cell_type": "code",
      "source": [
        "# p is accessing each layer's weight tensors of the model\n",
        "# p.requires_grad() checks whether the layer is frozen for training or not\n",
        "# p.numel returns total number of elements in the weight tensor - total number of parameters\n",
        "print(\"Parameters:\", sum(p.numel() for p in base_model.parameters() if p.requires_grad))"
      ],
      "metadata": {
        "colab": {
          "base_uri": "https://localhost:8080/"
        },
        "id": "anOpPgTYqHKP",
        "outputId": "0bb95ec4-57ad-4390-8435-13755511b536"
      },
      "execution_count": null,
      "outputs": [
        {
          "output_type": "stream",
          "name": "stdout",
          "text": [
            "Parameters: 60506624\n"
          ]
        }
      ]
    },
    {
      "cell_type": "markdown",
      "source": [
        "## Accessing different layers of a Model"
      ],
      "metadata": {
        "id": "RBrX26Az6T0-"
      }
    },
    {
      "cell_type": "code",
      "source": [
        "base_model"
      ],
      "metadata": {
        "id": "qlMuhybHs83r"
      },
      "execution_count": null,
      "outputs": []
    },
    {
      "cell_type": "code",
      "source": [
        "# We access each layer by the key. That is to access (x), we use base_model.x\n",
        "# Try and go layer by layer. First check the output of a.b, then go for a.b.c\n",
        "layer_id = 0\n",
        "base_model.encoder.block[layer_id].layer[0].SelfAttention.o"
      ],
      "metadata": {
        "colab": {
          "base_uri": "https://localhost:8080/"
        },
        "id": "lew66TwBunRw",
        "outputId": "9b75e849-d532-4dbb-89e3-c671f46c304c"
      },
      "execution_count": null,
      "outputs": [
        {
          "output_type": "execute_result",
          "data": {
            "text/plain": [
              "Linear(in_features=512, out_features=512, bias=False)"
            ]
          },
          "metadata": {},
          "execution_count": 52
        }
      ]
    },
    {
      "cell_type": "code",
      "source": [
        "base_model.encoder.block[layer_id].layer[1].DenseReluDense.wo"
      ],
      "metadata": {
        "colab": {
          "base_uri": "https://localhost:8080/"
        },
        "id": "ODJLQz06zUdz",
        "outputId": "484965cb-0499-401f-bed3-7dd362261e05"
      },
      "execution_count": null,
      "outputs": [
        {
          "output_type": "execute_result",
          "data": {
            "text/plain": [
              "Linear(in_features=2048, out_features=512, bias=False)"
            ]
          },
          "metadata": {},
          "execution_count": 40
        }
      ]
    },
    {
      "cell_type": "code",
      "source": [
        "base_model.decoder.block[layer_id].layer[0].SelfAttention.o"
      ],
      "metadata": {
        "colab": {
          "base_uri": "https://localhost:8080/"
        },
        "id": "smKahN3syi5e",
        "outputId": "71c8f93d-a0f4-4657-889b-0e07a5a9b804"
      },
      "execution_count": null,
      "outputs": [
        {
          "output_type": "execute_result",
          "data": {
            "text/plain": [
              "Linear(in_features=512, out_features=512, bias=False)"
            ]
          },
          "metadata": {},
          "execution_count": 37
        }
      ]
    },
    {
      "cell_type": "code",
      "source": [
        "base_model.decoder.block[layer_id].layer[2].DenseReluDense.wo"
      ],
      "metadata": {
        "colab": {
          "base_uri": "https://localhost:8080/"
        },
        "id": "SnQ9hTzvziWN",
        "outputId": "03a8518f-7593-48c5-e6c9-741790155642"
      },
      "execution_count": null,
      "outputs": [
        {
          "output_type": "execute_result",
          "data": {
            "text/plain": [
              "Linear(in_features=2048, out_features=512, bias=False)"
            ]
          },
          "metadata": {},
          "execution_count": 46
        }
      ]
    },
    {
      "cell_type": "markdown",
      "source": [
        "## T5 w Adapters"
      ],
      "metadata": {
        "id": "Jj7Yr65aoj9I"
      }
    },
    {
      "cell_type": "markdown",
      "source": [
        "Could also utilize [adapter-transformers](https://github.com/adapter-hub/adapter-transformers) library - provides easy abstract way of incorporating adapters in the models"
      ],
      "metadata": {
        "id": "fhJizTKMw_Y9"
      }
    },
    {
      "cell_type": "code",
      "source": [
        "# Freeze all layers\n",
        "for param in base_model.parameters():\n",
        "    param.requires_grad = False"
      ],
      "metadata": {
        "id": "9Xc0E7qMonGV"
      },
      "execution_count": null,
      "outputs": []
    },
    {
      "cell_type": "code",
      "source": [
        "# Function to countnumber of trainable paramters in a layer/block\n",
        "def count_parameters(model):\n",
        "  return sum(p.numel() for p in model.parameters() if p.requires_grad)"
      ],
      "metadata": {
        "id": "zv5ieus3zA2T"
      },
      "execution_count": null,
      "outputs": []
    },
    {
      "cell_type": "code",
      "source": [
        "import torch\n",
        "# Creating a custom Adapter layer\n",
        "def make_adapter(in_dim, bottleneck_dim, out_dim):\n",
        "    adapter_layers = torch.nn.Sequential(\n",
        "        torch.nn.Linear(in_dim, bottleneck_dim),\n",
        "        torch.nn.GELU(),\n",
        "        torch.nn.Linear(bottleneck_dim, out_dim),\n",
        "    )\n",
        "    return adapter_layers"
      ],
      "metadata": {
        "id": "CtRwu_ikpZgI"
      },
      "execution_count": null,
      "outputs": []
    },
    {
      "cell_type": "markdown",
      "source": [
        "Due to the forward pass code of DenseReluDense, we cannot add adpaters as a Sequential block in the Feed forward layer"
      ],
      "metadata": {
        "id": "mbQwZDl_tEgO"
      }
    },
    {
      "cell_type": "code",
      "source": [
        "total_size = 0\n",
        "bottleneck_size = 32 # hyperparameter\n",
        "\n",
        "for layer_id in range(6):\n",
        "\n",
        "    #############################################################\n",
        "    # insert 1st adapter layer into transformer block in Encoder\n",
        "    #############################################################\n",
        "\n",
        "    orig_layer_1 = base_model.encoder.block[layer_id].layer[0].SelfAttention.o\n",
        "\n",
        "    adapter_layers_1 = make_adapter(\n",
        "        in_dim=orig_layer_1.out_features,\n",
        "        bottleneck_dim=bottleneck_size,\n",
        "        out_dim=orig_layer_1.out_features)\n",
        "\n",
        "    new_1 = torch.nn.Sequential(orig_layer_1, *adapter_layers_1)\n",
        "    base_model.encoder.block[layer_id].layer[0].SelfAttention.o = new_1\n",
        "\n",
        "    total_size += count_parameters(adapter_layers_1)\n",
        "\n",
        "    #############################################################\n",
        "    # insert 1st adapter layer into transformer block in Decoder\n",
        "    #############################################################\n",
        "\n",
        "    orig_layer_1 = base_model.decoder.block[layer_id].layer[0].SelfAttention.o\n",
        "\n",
        "    adapter_layers_1 = make_adapter(\n",
        "        in_dim=orig_layer_1.out_features,\n",
        "        bottleneck_dim=bottleneck_size,\n",
        "        out_dim=orig_layer_1.out_features)\n",
        "\n",
        "    new_1 = torch.nn.Sequential(orig_layer_1, *adapter_layers_1)\n",
        "    base_model.decoder.block[layer_id].layer[0].SelfAttention.o = new_1\n",
        "\n",
        "    total_size += count_parameters(adapter_layers_1)\n",
        "\n",
        "print(\"Number of adapter parameters added:\", total_size)"
      ],
      "metadata": {
        "colab": {
          "base_uri": "https://localhost:8080/"
        },
        "id": "71_MYe2qptFJ",
        "outputId": "cda08659-7347-4f2d-c9b4-9a3268bbb6ec"
      },
      "execution_count": null,
      "outputs": [
        {
          "output_type": "stream",
          "name": "stdout",
          "text": [
            "Number of adapter parameters added: 399744\n"
          ]
        }
      ]
    },
    {
      "cell_type": "markdown",
      "source": [
        "## T5 w LoRA"
      ],
      "metadata": {
        "id": "8XA-3Jngonjc"
      }
    },
    {
      "cell_type": "code",
      "source": [
        "# Installing PEFT Library\n",
        "!pip install peft"
      ],
      "metadata": {
        "colab": {
          "base_uri": "https://localhost:8080/"
        },
        "id": "M6tJK6CZosIn",
        "outputId": "e9592691-46cf-4e2a-d283-a9fbd379f3e3"
      },
      "execution_count": null,
      "outputs": [
        {
          "output_type": "stream",
          "name": "stdout",
          "text": [
            "Looking in indexes: https://pypi.org/simple, https://us-python.pkg.dev/colab-wheels/public/simple/\n",
            "Collecting peft\n",
            "  Downloading peft-0.3.0-py3-none-any.whl (56 kB)\n",
            "\u001b[2K     \u001b[90m━━━━━━━━━━━━━━━━━━━━━━━━━━━━━━━━━━━━━━━━\u001b[0m \u001b[32m56.8/56.8 kB\u001b[0m \u001b[31m7.9 MB/s\u001b[0m eta \u001b[36m0:00:00\u001b[0m\n",
            "\u001b[?25hRequirement already satisfied: numpy>=1.17 in /usr/local/lib/python3.10/dist-packages (from peft) (1.22.4)\n",
            "Requirement already satisfied: packaging>=20.0 in /usr/local/lib/python3.10/dist-packages (from peft) (23.1)\n",
            "Requirement already satisfied: psutil in /usr/local/lib/python3.10/dist-packages (from peft) (5.9.5)\n",
            "Requirement already satisfied: pyyaml in /usr/local/lib/python3.10/dist-packages (from peft) (6.0)\n",
            "Requirement already satisfied: torch>=1.13.0 in /usr/local/lib/python3.10/dist-packages (from peft) (2.0.1+cu118)\n",
            "Requirement already satisfied: transformers in /usr/local/lib/python3.10/dist-packages (from peft) (4.30.1)\n",
            "Collecting accelerate (from peft)\n",
            "  Downloading accelerate-0.20.3-py3-none-any.whl (227 kB)\n",
            "\u001b[2K     \u001b[90m━━━━━━━━━━━━━━━━━━━━━━━━━━━━━━━━━━━━━━\u001b[0m \u001b[32m227.6/227.6 kB\u001b[0m \u001b[31m20.8 MB/s\u001b[0m eta \u001b[36m0:00:00\u001b[0m\n",
            "\u001b[?25hRequirement already satisfied: filelock in /usr/local/lib/python3.10/dist-packages (from torch>=1.13.0->peft) (3.12.0)\n",
            "Requirement already satisfied: typing-extensions in /usr/local/lib/python3.10/dist-packages (from torch>=1.13.0->peft) (4.5.0)\n",
            "Requirement already satisfied: sympy in /usr/local/lib/python3.10/dist-packages (from torch>=1.13.0->peft) (1.11.1)\n",
            "Requirement already satisfied: networkx in /usr/local/lib/python3.10/dist-packages (from torch>=1.13.0->peft) (3.1)\n",
            "Requirement already satisfied: jinja2 in /usr/local/lib/python3.10/dist-packages (from torch>=1.13.0->peft) (3.1.2)\n",
            "Requirement already satisfied: triton==2.0.0 in /usr/local/lib/python3.10/dist-packages (from torch>=1.13.0->peft) (2.0.0)\n",
            "Requirement already satisfied: cmake in /usr/local/lib/python3.10/dist-packages (from triton==2.0.0->torch>=1.13.0->peft) (3.25.2)\n",
            "Requirement already satisfied: lit in /usr/local/lib/python3.10/dist-packages (from triton==2.0.0->torch>=1.13.0->peft) (16.0.5)\n",
            "Requirement already satisfied: huggingface-hub<1.0,>=0.14.1 in /usr/local/lib/python3.10/dist-packages (from transformers->peft) (0.15.1)\n",
            "Requirement already satisfied: regex!=2019.12.17 in /usr/local/lib/python3.10/dist-packages (from transformers->peft) (2022.10.31)\n",
            "Requirement already satisfied: requests in /usr/local/lib/python3.10/dist-packages (from transformers->peft) (2.27.1)\n",
            "Requirement already satisfied: tokenizers!=0.11.3,<0.14,>=0.11.1 in /usr/local/lib/python3.10/dist-packages (from transformers->peft) (0.13.3)\n",
            "Requirement already satisfied: safetensors>=0.3.1 in /usr/local/lib/python3.10/dist-packages (from transformers->peft) (0.3.1)\n",
            "Requirement already satisfied: tqdm>=4.27 in /usr/local/lib/python3.10/dist-packages (from transformers->peft) (4.65.0)\n",
            "Requirement already satisfied: fsspec in /usr/local/lib/python3.10/dist-packages (from huggingface-hub<1.0,>=0.14.1->transformers->peft) (2023.4.0)\n",
            "Requirement already satisfied: MarkupSafe>=2.0 in /usr/local/lib/python3.10/dist-packages (from jinja2->torch>=1.13.0->peft) (2.1.2)\n",
            "Requirement already satisfied: urllib3<1.27,>=1.21.1 in /usr/local/lib/python3.10/dist-packages (from requests->transformers->peft) (1.26.15)\n",
            "Requirement already satisfied: certifi>=2017.4.17 in /usr/local/lib/python3.10/dist-packages (from requests->transformers->peft) (2022.12.7)\n",
            "Requirement already satisfied: charset-normalizer~=2.0.0 in /usr/local/lib/python3.10/dist-packages (from requests->transformers->peft) (2.0.12)\n",
            "Requirement already satisfied: idna<4,>=2.5 in /usr/local/lib/python3.10/dist-packages (from requests->transformers->peft) (3.4)\n",
            "Requirement already satisfied: mpmath>=0.19 in /usr/local/lib/python3.10/dist-packages (from sympy->torch>=1.13.0->peft) (1.3.0)\n",
            "Installing collected packages: accelerate, peft\n",
            "Successfully installed accelerate-0.20.3 peft-0.3.0\n"
          ]
        }
      ]
    },
    {
      "cell_type": "code",
      "source": [
        "from peft import get_peft_model, LoraConfig, TaskType\n",
        "\n",
        "# We are usig LoRA for parameter efficient fine tuning of a Seq2SeqLM. Arguments' default values are taken from the demonstrations\n",
        "peft_config = LoraConfig(\n",
        "    task_type=TaskType.SEQ_2_SEQ_LM, inference_mode=False, r=8, lora_alpha=32, lora_dropout=0.1\n",
        ")"
      ],
      "metadata": {
        "id": "MBIVz6M12bdX"
      },
      "execution_count": null,
      "outputs": []
    },
    {
      "cell_type": "code",
      "source": [
        "# Customizing the model foe peft\n",
        "model = get_peft_model(base_model, peft_config)\n",
        "# Number of trainable parameters in the model in PEFT model\n",
        "model.print_trainable_parameters()"
      ],
      "metadata": {
        "colab": {
          "base_uri": "https://localhost:8080/"
        },
        "id": "dgyK0Z7l3O4W",
        "outputId": "97ad5f6f-cb28-410e-f85d-218674b58576"
      },
      "execution_count": null,
      "outputs": [
        {
          "output_type": "stream",
          "name": "stdout",
          "text": [
            "trainable params: 294912 || all params: 60801536 || trainable%: 0.4850403779272945\n"
          ]
        }
      ]
    },
    {
      "cell_type": "markdown",
      "source": [
        "## T5 Training Setup (Includes Custom Loss Function)"
      ],
      "metadata": {
        "id": "_ASa0fbnQe4u"
      }
    },
    {
      "cell_type": "code",
      "source": [
        "# Initializing the Data Collator for batching of the dataset\n",
        "from transformers import DataCollatorForSeq2Seq\n",
        "data_collator = DataCollatorForSeq2Seq(\n",
        "        tokenizer=base_tokenizer,\n",
        "        return_tensors=\"pt\",\n",
        "        max_length = 512,\n",
        "        padding = 'max_length',\n",
        "        model = base_model\n",
        "    )"
      ],
      "metadata": {
        "id": "k_oMtcLHNMyo"
      },
      "execution_count": null,
      "outputs": []
    },
    {
      "cell_type": "code",
      "source": [
        "!pip install accelerate"
      ],
      "metadata": {
        "id": "jXxRUyW39Fr6"
      },
      "execution_count": null,
      "outputs": []
    },
    {
      "cell_type": "code",
      "source": [
        "from transformers import Seq2SeqTrainingArguments, Seq2SeqTrainer\n",
        "\n",
        "# Path where model training loss and intermediate weights will be stored\n",
        "\"\"\"\n",
        "Change model path to\n",
        "1) /content/drive/MyDrive/Visual Story Telling/Story_Gen_Model/Basic - when using no pEDT methods\n",
        "2) /content/drive/MyDrive/Visual Story Telling/Story_Gen_Model/Adapters - when using Adapters\n",
        "3) /content/drive/MyDrive/Visual Story Telling/Story_Gen_Model/LoRA - when using LoRA\n",
        "\"\"\"\n",
        "model_path = f'/content/drive/MyDrive/Visual Story Telling/Story_Gen_Model'\n",
        "\n",
        "\n",
        "#Specifying the training argument\n",
        "training_args = Seq2SeqTrainingArguments(\n",
        "    output_dir=model_path,\n",
        "    per_device_train_batch_size=2,\n",
        "    overwrite_output_dir = True,\n",
        "    evaluation_strategy=\"no\",\n",
        "    gradient_accumulation_steps=8,\n",
        "    num_train_epochs=1,\n",
        "    weight_decay=0.01,\n",
        "    lr_scheduler_type=\"cosine\",\n",
        "    learning_rate=5e-4,\n",
        "    fp16=True\n",
        ")"
      ],
      "metadata": {
        "id": "95wIk1YxNOTb"
      },
      "execution_count": null,
      "outputs": []
    },
    {
      "cell_type": "code",
      "source": [
        "# Overwrite the Trainer API for utilizing custom loss function\n",
        "import torch\n",
        "import torch.nn.functional as F\n",
        "class CustomSeq2SeqTrainer(Seq2SeqTrainer):\n",
        "  def compute_loss(self, model, inputs, return_outputs=False):\n",
        "      labels = inputs.pop(\"labels\")\n",
        "      input_ids = inputs.pop(\"input_ids\")\n",
        "      attention_mask = inputs.pop(\"attention_mask\")\n",
        "      outputs = model(input_ids = input_ids, labels = labels, attention_mask = attention_mask)\n",
        "      loss_cross_entropy = outputs.loss\n",
        "      logits = outputs.logits\n",
        "      loss_GPT = custom_loss_function(logits)\n",
        "      loss = (loss_cross_entropy + torch.tensor(loss_GPT))\n",
        "      return (loss, outputs) if return_outputs else loss\n",
        "\n",
        "# Check whether the tokenizer is being passed as an argument\n",
        "def custom_loss_function(logits, tokenizer=base_tokenizer):\n",
        "    loss_GPT = 10\n",
        "    summaries = base_tokenizer.batch_decode(F.softmax(logits, dim=-1).argmax(dim=-1), skip_special_tokens=True)\n",
        "    for summary in summaries:\n",
        "      loss_GPT = loss_GPT + (10 - int(get_chatgpt_rating(prompt4, summary)))\n",
        "    return loss_GPT\n"
      ],
      "metadata": {
        "id": "iSFkn4YDOXl1"
      },
      "execution_count": null,
      "outputs": []
    },
    {
      "cell_type": "code",
      "source": [
        "# Initializing the trainer\n",
        "\n",
        "trainer = Seq2SeqTrainer(\n",
        "    model=base_model,                         # the instantiated  Transformers model to be trained\n",
        "    args=training_args,                  # training arguments, defined above\n",
        "    data_collator=data_collator,\n",
        "    train_dataset=train_df,       # training dataset\n",
        "    eval_dataset = test_df,\n",
        ")"
      ],
      "metadata": {
        "id": "DQsfkoziNn2O"
      },
      "execution_count": null,
      "outputs": []
    },
    {
      "cell_type": "code",
      "source": [
        "#Custom Trainer function using Customized Loss function\n",
        "\n",
        "trainer = CustomSeq2SeqTrainer(\n",
        "    model=base_model,                         # the instantiated  Transformers model to be trained\n",
        "    args=training_args,                  # training arguments, defined above\n",
        "    data_collator=data_collator,\n",
        "    train_dataset=train_df,       # training dataset\n",
        "    eval_dataset = test_df,\n",
        ")"
      ],
      "metadata": {
        "id": "Mhswv40DCJef"
      },
      "execution_count": null,
      "outputs": []
    },
    {
      "cell_type": "markdown",
      "source": [
        "## Model Training"
      ],
      "metadata": {
        "id": "gpPf0iO7QiYn"
      }
    },
    {
      "cell_type": "code",
      "source": [
        "# Starting the training\n",
        "trainer.train()"
      ],
      "metadata": {
        "id": "RXKGeFzINqA5"
      },
      "execution_count": null,
      "outputs": []
    },
    {
      "cell_type": "code",
      "source": [
        "# Saving the final model\n",
        "trainer.save_model()"
      ],
      "metadata": {
        "id": "u4ugp2eQNs_u"
      },
      "execution_count": null,
      "outputs": []
    },
    {
      "cell_type": "markdown",
      "source": [
        "## Model Evaluation"
      ],
      "metadata": {
        "id": "ZsCbDbfbwSBd"
      }
    },
    {
      "cell_type": "code",
      "source": [
        "trainer.evaluate()"
      ],
      "metadata": {
        "id": "AM3GvSURwP3-"
      },
      "execution_count": null,
      "outputs": []
    },
    {
      "cell_type": "markdown",
      "source": [
        "## Loading and Testing of the FT model"
      ],
      "metadata": {
        "id": "sdHZ53sg35wB"
      }
    },
    {
      "cell_type": "code",
      "source": [
        "\"\"\"\n",
        "Change model path to\n",
        "1) /content/drive/MyDrive/Visual Story Telling/Story_Gen_Model/Basic - when using no pEDT methods\n",
        "2) /content/drive/MyDrive/Visual Story Telling/Story_Gen_Model/Adapters - when using Adapters\n",
        "3) /content/drive/MyDrive/Visual Story Telling/Story_Gen_Model/LoRA - when using LoRA\n",
        "\"\"\"\n",
        "model_path = f'/content/drive/MyDrive/Visual Story Telling/Story_Gen_Model'\n",
        "\n",
        "base_tokenizer = AutoTokenizer.from_pretrained(model_path)\n",
        "base_model = AutoModelForSeq2SeqLM.from_pretrained(\"t5-small\")"
      ],
      "metadata": {
        "id": "GdiHx03234_l"
      },
      "execution_count": null,
      "outputs": []
    },
    {
      "cell_type": "markdown",
      "source": [
        "## Model Eval (BLEU)"
      ],
      "metadata": {
        "id": "ooAGQEE-EBn0"
      }
    },
    {
      "cell_type": "code",
      "source": [
        "!pip install evaluate"
      ],
      "metadata": {
        "id": "oQ5o39Y0DcXR"
      },
      "execution_count": null,
      "outputs": []
    },
    {
      "cell_type": "code",
      "source": [
        "from evaluate import load\n",
        "#Loading the BLEU score metric\n",
        "bleu = load(\"bleu\")"
      ],
      "metadata": {
        "id": "hGayRQ7_Dind"
      },
      "execution_count": null,
      "outputs": []
    },
    {
      "cell_type": "code",
      "source": [
        "model = AutoModelForSeq2SeqLM.from_pretrained('/content/drive/MyDrive/Visual Story Telling/Dataset - Story Generation/Training_Dataset')\n",
        "tokenizer = AutoTokenizer.from_pretrained('/content/drive/MyDrive/Visual Story Telling/Dataset - Story Generation/Training_Dataset')"
      ],
      "metadata": {
        "id": "y6vjP1z4HnC0"
      },
      "execution_count": null,
      "outputs": []
    },
    {
      "cell_type": "code",
      "source": [
        "def encode_input(x, base_tokenizer = tokenizer):\n",
        "  x = str(x)\n",
        "  return base_tokenizer(x, max_length = 512, truncation=True, padding='max_length')"
      ],
      "metadata": {
        "id": "Tf9FrB-UH7qd"
      },
      "execution_count": null,
      "outputs": []
    },
    {
      "cell_type": "code",
      "source": [
        "import pandas as pd\n",
        "df = pd.read_csv('/content/drive/MyDrive/Visual Story Telling/Dataset - Story Generation/Training_Dataset')\n",
        "train_df, test_df = train_test_split(df, test_size=0.1. random_state=1)\n",
        "test_df['Input'] = test_df['Input'].apply(encode_input)"
      ],
      "metadata": {
        "id": "ZwqKW4CQHOwM"
      },
      "execution_count": null,
      "outputs": []
    },
    {
      "cell_type": "code",
      "source": [
        "from transformers import pipeline\n",
        "#creating pipeline for FT model\n",
        "generator = pipeline(model=model, tokenizer = tokenizer)"
      ],
      "metadata": {
        "id": "mBWpYnQVHj8U"
      },
      "execution_count": null,
      "outputs": []
    },
    {
      "cell_type": "code",
      "source": [
        "num_beams = 1\n",
        "top_p = 1.0\n",
        "do_sample = False\n",
        "#Greedy, Ancestral and Nucleus\n",
        "decoding_strats = [[1,1.0, False],[1,1.0, True],[1,0.9, True]]"
      ],
      "metadata": {
        "id": "iAbAIxPMJLQ5"
      },
      "execution_count": null,
      "outputs": []
    },
    {
      "cell_type": "code",
      "source": [
        "#BLEU score eval of FT model\n",
        "results = []\n",
        "predictions = []\n",
        "references = []\n",
        "for x in decoding_strats:\n",
        "  num_beams, top_p, do_sample = x\n",
        "  for idx in test_df.iterrows():\n",
        "    references.append(test_df['Summary'].iloc[idx])\n",
        "    predictions.append(generator(str(test_df['Input'].iloc[idx]), num_beams = num_beams, top_p = top_p, do_sample = do_sample, max_length = 150)[0]['generated_text'])\n",
        "  base_results = bleu.compute(predictions=predictions, references=references)\n",
        "  results.append(base_results)\n",
        "print(results)"
      ],
      "metadata": {
        "id": "pfvKq0aYJN1F"
      },
      "execution_count": null,
      "outputs": []
    },
    {
      "cell_type": "markdown",
      "source": [
        "## Loss curve"
      ],
      "metadata": {
        "id": "hfwwzwOOJWnN"
      }
    },
    {
      "cell_type": "code",
      "source": [
        "import matplotlib.pyplot as plt\n",
        "%matplotlib inline"
      ],
      "metadata": {
        "id": "baSelc20JYB8"
      },
      "execution_count": 1,
      "outputs": []
    },
    {
      "cell_type": "code",
      "source": [
        "import pandas as pd"
      ],
      "metadata": {
        "id": "w2pWkpbXGPI-"
      },
      "execution_count": 2,
      "outputs": []
    },
    {
      "cell_type": "code",
      "source": [
        "# List of different configurations of T5 model\n",
        "models = ['Basic','Adapters','LoRA']"
      ],
      "metadata": {
        "id": "kXeK8boEJunm"
      },
      "execution_count": 8,
      "outputs": []
    },
    {
      "cell_type": "code",
      "source": [
        "#Abstraction of the loss and epochs from the log history\n",
        "def get_epoch(x):\n",
        "  return x['epoch']\n",
        "\n",
        "def get_loss(x):\n",
        "  return x['loss']"
      ],
      "metadata": {
        "id": "B94hciBHJwWd"
      },
      "execution_count": 4,
      "outputs": []
    },
    {
      "cell_type": "code",
      "source": [
        "for i in models:\n",
        "  #Loading the trainer_state json file, which consists of the losses at different steps/epochs\n",
        "  df = pd.read_json(f'/content/drive/MyDrive/Visual Story Telling/Story_Gen_Model/{i}/checkpoint-8000/trainer_state.json')\n",
        "  #Organize in a way to extract losses and steps\n",
        "  df['epoch_number'] = df['log_history'].apply(get_epoch)\n",
        "  df ['loss'] = df['log_history'].apply(get_loss)\n",
        "  #Plotting of the training loss curve for the FT Model\n",
        "  plt.plot(df['epoch_number'].values, df['loss'].values, label = f\"{i} T5\")\n",
        "plt.xlabel('#Epochs')\n",
        "plt.ylabel('Loss value')\n",
        "plt.title('Training curve T5 models')\n",
        "plt.legend()\n",
        "plt.show()"
      ],
      "metadata": {
        "id": "ou9bZY2CJzbp",
        "colab": {
          "base_uri": "https://localhost:8080/",
          "height": 472
        },
        "outputId": "61e35de3-044e-45eb-a38a-98286769b71d"
      },
      "execution_count": 12,
      "outputs": [
        {
          "output_type": "display_data",
          "data": {
            "text/plain": [
              "<Figure size 640x480 with 1 Axes>"
            ],
            "image/png": "[encoded data removed]"
          },
          "metadata": {}
        }
      ]
    }
  ]
}
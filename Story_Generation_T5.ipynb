{
 "cells": [
  {
   "cell_type": "markdown",
   "metadata": {
    "id": "gMPsfSIMQTFs"
   },
   "source": [
    "## Installing Transformers library"
   ]
  },
  {
   "cell_type": "code",
   "execution_count": 1,
   "metadata": {
    "colab": {
     "base_uri": "https://localhost:8080/"
    },
    "executionInfo": {
     "elapsed": 24212,
     "status": "ok",
     "timestamp": 1686574513492,
     "user": {
      "displayName": "Anshumaan Chauhan",
      "userId": "08247611702232216431"
     },
     "user_tz": 240
    },
    "id": "vpJtgoRkQf8x",
    "outputId": "8d470db6-2a3a-4988-b188-91b18c38959b"
   },
   "outputs": [
    {
     "name": "stdout",
     "output_type": "stream",
     "text": [
      "Looking in indexes: https://pypi.org/simple, https://us-python.pkg.dev/colab-wheels/public/simple/\n",
      "Collecting transformers\n",
      "  Downloading transformers-4.30.1-py3-none-any.whl (7.2 MB)\n",
      "\u001b[2K     \u001b[90m━━━━━━━━━━━━━━━━━━━━━━━━━━━━━━━━━━━━━━━━\u001b[0m \u001b[32m7.2/7.2 MB\u001b[0m \u001b[31m82.6 MB/s\u001b[0m eta \u001b[36m0:00:00\u001b[0m\n",
      "\u001b[?25hRequirement already satisfied: filelock in /usr/local/lib/python3.10/dist-packages (from transformers) (3.12.0)\n",
      "Collecting huggingface-hub<1.0,>=0.14.1 (from transformers)\n",
      "  Downloading huggingface_hub-0.15.1-py3-none-any.whl (236 kB)\n",
      "\u001b[2K     \u001b[90m━━━━━━━━━━━━━━━━━━━━━━━━━━━━━━━━━━━━━━\u001b[0m \u001b[32m236.8/236.8 kB\u001b[0m \u001b[31m26.0 MB/s\u001b[0m eta \u001b[36m0:00:00\u001b[0m\n",
      "\u001b[?25hRequirement already satisfied: numpy>=1.17 in /usr/local/lib/python3.10/dist-packages (from transformers) (1.22.4)\n",
      "Requirement already satisfied: packaging>=20.0 in /usr/local/lib/python3.10/dist-packages (from transformers) (23.1)\n",
      "Requirement already satisfied: pyyaml>=5.1 in /usr/local/lib/python3.10/dist-packages (from transformers) (6.0)\n",
      "Requirement already satisfied: regex!=2019.12.17 in /usr/local/lib/python3.10/dist-packages (from transformers) (2022.10.31)\n",
      "Requirement already satisfied: requests in /usr/local/lib/python3.10/dist-packages (from transformers) (2.27.1)\n",
      "Collecting tokenizers!=0.11.3,<0.14,>=0.11.1 (from transformers)\n",
      "  Downloading tokenizers-0.13.3-cp310-cp310-manylinux_2_17_x86_64.manylinux2014_x86_64.whl (7.8 MB)\n",
      "\u001b[2K     \u001b[90m━━━━━━━━━━━━━━━━━━━━━━━━━━━━━━━━━━━━━━━━\u001b[0m \u001b[32m7.8/7.8 MB\u001b[0m \u001b[31m81.0 MB/s\u001b[0m eta \u001b[36m0:00:00\u001b[0m\n",
      "\u001b[?25hCollecting safetensors>=0.3.1 (from transformers)\n",
      "  Downloading safetensors-0.3.1-cp310-cp310-manylinux_2_17_x86_64.manylinux2014_x86_64.whl (1.3 MB)\n",
      "\u001b[2K     \u001b[90m━━━━━━━━━━━━━━━━━━━━━━━━━━━━━━━━━━━━━━━━\u001b[0m \u001b[32m1.3/1.3 MB\u001b[0m \u001b[31m69.7 MB/s\u001b[0m eta \u001b[36m0:00:00\u001b[0m\n",
      "\u001b[?25hRequirement already satisfied: tqdm>=4.27 in /usr/local/lib/python3.10/dist-packages (from transformers) (4.65.0)\n",
      "Requirement already satisfied: fsspec in /usr/local/lib/python3.10/dist-packages (from huggingface-hub<1.0,>=0.14.1->transformers) (2023.4.0)\n",
      "Requirement already satisfied: typing-extensions>=3.7.4.3 in /usr/local/lib/python3.10/dist-packages (from huggingface-hub<1.0,>=0.14.1->transformers) (4.5.0)\n",
      "Requirement already satisfied: urllib3<1.27,>=1.21.1 in /usr/local/lib/python3.10/dist-packages (from requests->transformers) (1.26.15)\n",
      "Requirement already satisfied: certifi>=2017.4.17 in /usr/local/lib/python3.10/dist-packages (from requests->transformers) (2022.12.7)\n",
      "Requirement already satisfied: charset-normalizer~=2.0.0 in /usr/local/lib/python3.10/dist-packages (from requests->transformers) (2.0.12)\n",
      "Requirement already satisfied: idna<4,>=2.5 in /usr/local/lib/python3.10/dist-packages (from requests->transformers) (3.4)\n",
      "Installing collected packages: tokenizers, safetensors, huggingface-hub, transformers\n",
      "Successfully installed huggingface-hub-0.15.1 safetensors-0.3.1 tokenizers-0.13.3 transformers-4.30.1\n"
     ]
    }
   ],
   "source": [
    "#Installing transformer package \n",
    "!pip install transformers"
   ]
  },
  {
   "cell_type": "markdown",
   "metadata": {
    "id": "pwf9LGiCzYmo"
   },
   "source": [
    "## Rating Estimation by ChatGPT"
   ]
  },
  {
   "cell_type": "code",
   "execution_count": null,
   "metadata": {
    "id": "dzwU4eGtvhjh"
   },
   "outputs": [],
   "source": [
    "!pip install openai"
   ]
  },
  {
   "cell_type": "code",
   "execution_count": null,
   "metadata": {
    "id": "s67L7e5yvjSX"
   },
   "outputs": [],
   "source": [
    "import os \n",
    "import openai\n",
    "os.environ[\"OpenAI_API_Key\"] = \"\"\n",
    "api_key = os.environ.get(\"OpenAI_API_Key\")\n",
    "openai.api_key = api_key"
   ]
  },
  {
   "cell_type": "code",
   "execution_count": null,
   "metadata": {
    "id": "8tB5L6nFLhDS"
   },
   "outputs": [],
   "source": [
    "# Loss to be added in the custom loss\n",
    "def get_chatgpt_rating(prompt, sample):\n",
    "  completion = openai.ChatCompletion.create(\n",
    "  model=\"gpt-3.5-turbo\",\n",
    "  messages=[\n",
    "    {\"role\": \"user\", \n",
    "     \"content\": f\"{prompt} {sample}\"}\n",
    "  ])\n",
    "  return 10 - int(completion.choices[0].message)"
   ]
  },
  {
   "cell_type": "code",
   "execution_count": null,
   "metadata": {
    "id": "MQJRNPghzb7g"
   },
   "outputs": [],
   "source": [
    "# Different prompts tested in order to generate a sensible rating \n",
    "prompt1 = \"Provide me rating between 0 and 10 (without any explanation), where 0 is the best and 10 is the worst, for the following story summary: \" \n",
    "prompt2 = \"Assign a rating between 0 (best) and 10 (worst) to the given artificial story summary (only give rating as the response):\"\n",
    "prompt3 = \"Assign a rating between 0 (best) and 10 (worst) to the given artificial story summary (only give rating as the response). The rating should be based on writing style, coherence and capture strength. Summary:\"\n",
    "prompt4 = \"Assign a rating between 0 and 10 to the given artificial story summary. Only give rating as the response (no reasoning). The rating should be based on writing style, coherence, and capture strength. Summary:\" # Best\n",
    "prompt5 = \"Provide me rating between 0 and 10 (without any explanation),  for the following story summary:\" "
   ]
  },
  {
   "cell_type": "markdown",
   "metadata": {
    "id": "2dYlSUZNQYop"
   },
   "source": [
    "## Data Tokenization/Encoding"
   ]
  },
  {
   "cell_type": "code",
   "execution_count": 1,
   "metadata": {
    "executionInfo": {
     "elapsed": 2196,
     "status": "ok",
     "timestamp": 1686577469823,
     "user": {
      "displayName": "Anshumaan Chauhan",
      "userId": "08247611702232216431"
     },
     "user_tz": 240
    },
    "id": "bVkVGdHBYQat"
   },
   "outputs": [
    {
     "name": "stderr",
     "output_type": "stream",
     "text": [
      "C:\\Users\\anshj\\anaconda3\\envs\\torch-gpu\\lib\\site-packages\\tqdm\\auto.py:21: TqdmWarning: IProgress not found. Please update jupyter and ipywidgets. See https://ipywidgets.readthedocs.io/en/stable/user_install.html\n",
      "  from .autonotebook import tqdm as notebook_tqdm\n"
     ]
    }
   ],
   "source": [
    "#Loading the standard T5 small model and tokenizer \n",
    "from transformers import AutoTokenizer, AutoModelForSeq2SeqLM\n",
    "# Can try different T5 models such as T5-large, T5-3B, T5-11B\n",
    "base_tokenizer = AutoTokenizer.from_pretrained('t5-small')\n",
    "base_model = AutoModelForSeq2SeqLM.from_pretrained(\"t5-small\")"
   ]
  },
  {
   "cell_type": "code",
   "execution_count": 2,
   "metadata": {
    "id": "pz4X3H2rMDTE"
   },
   "outputs": [],
   "source": [
    "# Encoding the sequences\n",
    "def encode_sequences(x, base_tokenizer = base_tokenizer):\n",
    "  # try:\n",
    "    # Input consists of different aspects of the story on which the output will be conditioned\n",
    "    input = x['Input']\n",
    "    # Label is the conditioned output - Story\n",
    "    label = x['Summary']\n",
    "    # Max length of the input sequence in T5 is 512 tokens (BART could be used for longer sequences - 1024 max length limit) \n",
    "    model_input = base_tokenizer(input, max_length = 512, truncation=True, padding='max_length')\n",
    "    model_input['labels'] = base_tokenizer(label, max_length = 512, truncation=True, padding='max_length')['input_ids']\n",
    "    return model_input"
   ]
  },
  {
   "cell_type": "code",
   "execution_count": 3,
   "metadata": {
    "id": "9F_s4EA1YTER"
   },
   "outputs": [],
   "source": [
    "# Loading the final dataset\n",
    "import pandas as pd\n",
    "df = pd.read_csv('Plot_Summary_Dataset')"
   ]
  },
  {
   "cell_type": "code",
   "execution_count": 4,
   "metadata": {
    "id": "q7Y0PUMjTqO_"
   },
   "outputs": [],
   "source": [
    "from sklearn.model_selection import train_test_split\n",
    "train_df, test_df = train_test_split(df, test_size=0.1, random_state=1)"
   ]
  },
  {
   "cell_type": "code",
   "execution_count": 5,
   "metadata": {
    "id": "DTsB1rXyMp-x"
   },
   "outputs": [],
   "source": [
    "# Tokenizing the dataset\n",
    "train_df = train_df.apply(encode_sequences, axis=1)\n",
    "test_df = test_df.apply(encode_sequences, axis = 1)"
   ]
  },
  {
   "cell_type": "code",
   "execution_count": 6,
   "metadata": {
    "id": "zqw4aSD8Agme"
   },
   "outputs": [],
   "source": [
    "train_df.dropna(inplace = True)\n",
    "test_df.dropna(inplace = True)"
   ]
  },
  {
   "cell_type": "code",
   "execution_count": 7,
   "metadata": {
    "id": "fZr3FDXBoWgk"
   },
   "outputs": [],
   "source": [
    "train_df.reset_index(drop=True, inplace=True)\n",
    "test_df.reset_index(drop=True, inplace=True)"
   ]
  },
  {
   "cell_type": "markdown",
   "metadata": {
    "id": "EOtQstapqEmC"
   },
   "source": [
    "## Number of parameters"
   ]
  },
  {
   "cell_type": "code",
   "execution_count": 5,
   "metadata": {
    "colab": {
     "base_uri": "https://localhost:8080/"
    },
    "executionInfo": {
     "elapsed": 327,
     "status": "ok",
     "timestamp": 1686574601012,
     "user": {
      "displayName": "Anshumaan Chauhan",
      "userId": "08247611702232216431"
     },
     "user_tz": 240
    },
    "id": "anOpPgTYqHKP",
    "outputId": "0bb95ec4-57ad-4390-8435-13755511b536"
   },
   "outputs": [
    {
     "name": "stdout",
     "output_type": "stream",
     "text": [
      "Parameters: 60506624\n"
     ]
    }
   ],
   "source": [
    "# p is accessing each layer's weight tensors of the model\n",
    "# p.requires_grad() checks whether the layer is frozen for training or not\n",
    "# p.numel returns total number of elements in the weight tensor - total number of parameters\n",
    "print(\"Parameters:\", sum(p.numel() for p in base_model.parameters() if p.requires_grad))"
   ]
  },
  {
   "cell_type": "markdown",
   "metadata": {
    "id": "RBrX26Az6T0-"
   },
   "source": [
    "## Accessing different layers of a Model"
   ]
  },
  {
   "cell_type": "code",
   "execution_count": null,
   "metadata": {
    "id": "qlMuhybHs83r"
   },
   "outputs": [],
   "source": [
    "base_model"
   ]
  },
  {
   "cell_type": "code",
   "execution_count": 52,
   "metadata": {
    "colab": {
     "base_uri": "https://localhost:8080/"
    },
    "executionInfo": {
     "elapsed": 1,
     "status": "ok",
     "timestamp": 1686577027553,
     "user": {
      "displayName": "Anshumaan Chauhan",
      "userId": "08247611702232216431"
     },
     "user_tz": 240
    },
    "id": "lew66TwBunRw",
    "outputId": "9b75e849-d532-4dbb-89e3-c671f46c304c"
   },
   "outputs": [
    {
     "data": {
      "text/plain": [
       "Linear(in_features=512, out_features=512, bias=False)"
      ]
     },
     "execution_count": 52,
     "metadata": {},
     "output_type": "execute_result"
    }
   ],
   "source": [
    "# We access each layer by the key. That is to access (x), we use base_model.x\n",
    "# Try and go layer by layer. First check the output of a.b, then go for a.b.c\n",
    "layer_id = 0\n",
    "base_model.encoder.block[layer_id].layer[0].SelfAttention.o"
   ]
  },
  {
   "cell_type": "code",
   "execution_count": 40,
   "metadata": {
    "colab": {
     "base_uri": "https://localhost:8080/"
    },
    "executionInfo": {
     "elapsed": 647,
     "status": "ok",
     "timestamp": 1686576696740,
     "user": {
      "displayName": "Anshumaan Chauhan",
      "userId": "08247611702232216431"
     },
     "user_tz": 240
    },
    "id": "ODJLQz06zUdz",
    "outputId": "484965cb-0499-401f-bed3-7dd362261e05"
   },
   "outputs": [
    {
     "data": {
      "text/plain": [
       "Linear(in_features=2048, out_features=512, bias=False)"
      ]
     },
     "execution_count": 40,
     "metadata": {},
     "output_type": "execute_result"
    }
   ],
   "source": [
    "base_model.encoder.block[layer_id].layer[1].DenseReluDense.wo"
   ]
  },
  {
   "cell_type": "code",
   "execution_count": 37,
   "metadata": {
    "colab": {
     "base_uri": "https://localhost:8080/"
    },
    "executionInfo": {
     "elapsed": 2,
     "status": "ok",
     "timestamp": 1686576505052,
     "user": {
      "displayName": "Anshumaan Chauhan",
      "userId": "08247611702232216431"
     },
     "user_tz": 240
    },
    "id": "smKahN3syi5e",
    "outputId": "71c8f93d-a0f4-4657-889b-0e07a5a9b804"
   },
   "outputs": [
    {
     "data": {
      "text/plain": [
       "Linear(in_features=512, out_features=512, bias=False)"
      ]
     },
     "execution_count": 37,
     "metadata": {},
     "output_type": "execute_result"
    }
   ],
   "source": [
    "base_model.decoder.block[layer_id].layer[0].SelfAttention.o"
   ]
  },
  {
   "cell_type": "code",
   "execution_count": 46,
   "metadata": {
    "colab": {
     "base_uri": "https://localhost:8080/"
    },
    "executionInfo": {
     "elapsed": 1,
     "status": "ok",
     "timestamp": 1686576923066,
     "user": {
      "displayName": "Anshumaan Chauhan",
      "userId": "08247611702232216431"
     },
     "user_tz": 240
    },
    "id": "SnQ9hTzvziWN",
    "outputId": "03a8518f-7593-48c5-e6c9-741790155642"
   },
   "outputs": [
    {
     "data": {
      "text/plain": [
       "Linear(in_features=2048, out_features=512, bias=False)"
      ]
     },
     "execution_count": 46,
     "metadata": {},
     "output_type": "execute_result"
    }
   ],
   "source": [
    "base_model.decoder.block[layer_id].layer[2].DenseReluDense.wo"
   ]
  },
  {
   "cell_type": "markdown",
   "metadata": {
    "id": "Jj7Yr65aoj9I"
   },
   "source": [
    "## T5 w Adapters"
   ]
  },
  {
   "cell_type": "markdown",
   "metadata": {
    "id": "fhJizTKMw_Y9"
   },
   "source": [
    "Could also utilize [adapter-transformers](https://github.com/adapter-hub/adapter-transformers) library - provides easy abstract way of incorporating adapters in the models"
   ]
  },
  {
   "cell_type": "code",
   "execution_count": 8,
   "metadata": {
    "executionInfo": {
     "elapsed": 331,
     "status": "ok",
     "timestamp": 1686574669391,
     "user": {
      "displayName": "Anshumaan Chauhan",
      "userId": "08247611702232216431"
     },
     "user_tz": 240
    },
    "id": "9Xc0E7qMonGV"
   },
   "outputs": [],
   "source": [
    "# Freeze all layers\n",
    "for param in base_model.parameters():\n",
    "    param.requires_grad = False"
   ]
  },
  {
   "cell_type": "code",
   "execution_count": 9,
   "metadata": {
    "executionInfo": {
     "elapsed": 354,
     "status": "ok",
     "timestamp": 1686576624098,
     "user": {
      "displayName": "Anshumaan Chauhan",
      "userId": "08247611702232216431"
     },
     "user_tz": 240
    },
    "id": "zv5ieus3zA2T"
   },
   "outputs": [],
   "source": [
    "# Function to countnumber of trainable paramters in a layer/block\n",
    "def count_parameters(model):\n",
    "  return sum(p.numel() for p in model.parameters() if p.requires_grad)"
   ]
  },
  {
   "cell_type": "code",
   "execution_count": 10,
   "metadata": {
    "executionInfo": {
     "elapsed": 339,
     "status": "ok",
     "timestamp": 1686574835513,
     "user": {
      "displayName": "Anshumaan Chauhan",
      "userId": "08247611702232216431"
     },
     "user_tz": 240
    },
    "id": "CtRwu_ikpZgI"
   },
   "outputs": [],
   "source": [
    "import torch\n",
    "# Creating a custom Adapter layer\n",
    "def make_adapter(in_dim, bottleneck_dim, out_dim):\n",
    "    adapter_layers = torch.nn.Sequential(\n",
    "        torch.nn.Linear(in_dim, bottleneck_dim),\n",
    "        torch.nn.GELU(),\n",
    "        torch.nn.Linear(bottleneck_dim, out_dim),\n",
    "    )\n",
    "    return adapter_layers"
   ]
  },
  {
   "cell_type": "code",
   "execution_count": 11,
   "metadata": {
    "colab": {
     "base_uri": "https://localhost:8080/"
    },
    "executionInfo": {
     "elapsed": 2,
     "status": "ok",
     "timestamp": 1686577139421,
     "user": {
      "displayName": "Anshumaan Chauhan",
      "userId": "08247611702232216431"
     },
     "user_tz": 240
    },
    "id": "71_MYe2qptFJ",
    "outputId": "d8848715-a126-4b35-a2d4-1aa847d1b1ff"
   },
   "outputs": [
    {
     "name": "stdout",
     "output_type": "stream",
     "text": [
      "Number of adapter parameters added: 399744\n"
     ]
    }
   ],
   "source": [
    "total_size = 0\n",
    "bottleneck_size = 32 # hyperparameter\n",
    "\n",
    "for layer_id in range(6):\n",
    "\n",
    "    #############################################################\n",
    "    # insert 1st adapter layer into transformer block in Encoder\n",
    "    #############################################################\n",
    "\n",
    "    orig_layer_1 = base_model.encoder.block[layer_id].layer[0].SelfAttention.o\n",
    "\n",
    "    adapter_layers_1 = make_adapter(\n",
    "        in_dim=orig_layer_1.out_features, \n",
    "        bottleneck_dim=bottleneck_size, \n",
    "        out_dim=orig_layer_1.out_features)\n",
    "\n",
    "    new_1 = torch.nn.Sequential(orig_layer_1, *adapter_layers_1)\n",
    "    base_model.encoder.block[layer_id].layer[0].SelfAttention.o = new_1\n",
    "    \n",
    "    total_size += count_parameters(adapter_layers_1)\n",
    "\n",
    "    #############################################################\n",
    "    # insert 2nd adapter layer into transformer block in Encoder \n",
    "    #############################################################\n",
    "\n",
    "#     orig_layer_2 = base_model.encoder.block[layer_id].layer[1].DenseReluDense.wo\n",
    "\n",
    "#     adapter_layers_2 = make_adapter(\n",
    "#         in_dim=orig_layer_2.out_features, \n",
    "#         bottleneck_dim=bottleneck_size, \n",
    "#         out_dim=orig_layer_2.out_features)\n",
    "\n",
    "#     new_2 = torch.nn.Sequential(orig_layer_2, *adapter_layers_2)\n",
    "#     base_model.encoder.block[layer_id].layer[1].DenseReluDense.wo = new_2\n",
    "    \n",
    "#     total_size += count_parameters(adapter_layers_2)\n",
    "\n",
    "    #############################################################\n",
    "    # insert 1st adapter layer into transformer block in Decoder\n",
    "    #############################################################\n",
    "\n",
    "    orig_layer_1 = base_model.decoder.block[layer_id].layer[0].SelfAttention.o\n",
    "\n",
    "    adapter_layers_1 = make_adapter(\n",
    "        in_dim=orig_layer_1.out_features, \n",
    "        bottleneck_dim=bottleneck_size, \n",
    "        out_dim=orig_layer_1.out_features)\n",
    "\n",
    "    new_1 = torch.nn.Sequential(orig_layer_1, *adapter_layers_1)\n",
    "    base_model.decoder.block[layer_id].layer[0].SelfAttention.o = new_1\n",
    "    \n",
    "    total_size += count_parameters(adapter_layers_1)\n",
    "\n",
    "    #############################################################\n",
    "    # insert 2nd adapter layer into transformer block in Decoder \n",
    "    #############################################################\n",
    "\n",
    "#     orig_layer_2 = base_model.decoder.block[layer_id].layer[2].DenseReluDense.wo\n",
    "\n",
    "#     adapter_layers_2 = make_adapter(\n",
    "#         in_dim=orig_layer_2.out_features, \n",
    "#         bottleneck_dim=bottleneck_size, \n",
    "#         out_dim=orig_layer_2.out_features)\n",
    "\n",
    "#     new_2 = torch.nn.Sequential(orig_layer_2, *adapter_layers_2)\n",
    "#     base_model.decoder.block[layer_id].layer[2].DenseReluDense.wo = new_2\n",
    "    \n",
    "#     total_size += count_parameters(adapter_layers_2)\n",
    "\n",
    "print(\"Number of adapter parameters added:\", total_size)"
   ]
  },
  {
   "cell_type": "markdown",
   "metadata": {
    "id": "8XA-3Jngonjc"
   },
   "source": [
    "## T5 w LoRA"
   ]
  },
  {
   "cell_type": "code",
   "execution_count": 18,
   "metadata": {
    "colab": {
     "base_uri": "https://localhost:8080/"
    },
    "executionInfo": {
     "elapsed": 7011,
     "status": "ok",
     "timestamp": 1686577476833,
     "user": {
      "displayName": "Anshumaan Chauhan",
      "userId": "08247611702232216431"
     },
     "user_tz": 240
    },
    "id": "M6tJK6CZosIn",
    "outputId": "e9592691-46cf-4e2a-d283-a9fbd379f3e3"
   },
   "outputs": [
    {
     "name": "stdout",
     "output_type": "stream",
     "text": [
      "Collecting peft\n",
      "  Downloading peft-0.3.0-py3-none-any.whl (56 kB)\n",
      "     ---------------------------------------- 0.0/56.8 kB ? eta -:--:--\n",
      "     ---------------------------------------- 56.8/56.8 kB 2.9 MB/s eta 0:00:00\n",
      "Requirement already satisfied: numpy>=1.17 in c:\\users\\anshj\\anaconda3\\envs\\torch-gpu\\lib\\site-packages (from peft) (1.23.5)\n",
      "Requirement already satisfied: transformers in c:\\users\\anshj\\anaconda3\\envs\\torch-gpu\\lib\\site-packages (from peft) (4.27.2)\n",
      "Requirement already satisfied: psutil in c:\\users\\anshj\\anaconda3\\envs\\torch-gpu\\lib\\site-packages (from peft) (5.9.0)\n",
      "Requirement already satisfied: torch>=1.13.0 in c:\\users\\anshj\\anaconda3\\envs\\torch-gpu\\lib\\site-packages (from peft) (2.0.0+cu118)\n",
      "Requirement already satisfied: pyyaml in c:\\users\\anshj\\anaconda3\\envs\\torch-gpu\\lib\\site-packages (from peft) (6.0)\n",
      "Collecting accelerate\n",
      "  Downloading accelerate-0.20.3-py3-none-any.whl (227 kB)\n",
      "     ---------------------------------------- 0.0/227.6 kB ? eta -:--:--\n",
      "     -------------------------------------- 227.6/227.6 kB 7.0 MB/s eta 0:00:00\n",
      "Requirement already satisfied: packaging>=20.0 in c:\\users\\anshj\\anaconda3\\envs\\torch-gpu\\lib\\site-packages (from peft) (23.0)\n",
      "Requirement already satisfied: filelock in c:\\users\\anshj\\anaconda3\\envs\\torch-gpu\\lib\\site-packages (from torch>=1.13.0->peft) (3.9.0)\n",
      "Requirement already satisfied: networkx in c:\\users\\anshj\\anaconda3\\envs\\torch-gpu\\lib\\site-packages (from torch>=1.13.0->peft) (3.0)\n",
      "Requirement already satisfied: sympy in c:\\users\\anshj\\anaconda3\\envs\\torch-gpu\\lib\\site-packages (from torch>=1.13.0->peft) (1.11.1)\n",
      "Requirement already satisfied: typing-extensions in c:\\users\\anshj\\anaconda3\\envs\\torch-gpu\\lib\\site-packages (from torch>=1.13.0->peft) (4.4.0)\n",
      "Requirement already satisfied: jinja2 in c:\\users\\anshj\\anaconda3\\envs\\torch-gpu\\lib\\site-packages (from torch>=1.13.0->peft) (3.1.2)\n",
      "Requirement already satisfied: tqdm>=4.27 in c:\\users\\anshj\\anaconda3\\envs\\torch-gpu\\lib\\site-packages (from transformers->peft) (4.65.0)\n",
      "Requirement already satisfied: requests in c:\\users\\anshj\\anaconda3\\envs\\torch-gpu\\lib\\site-packages (from transformers->peft) (2.29.0)\n",
      "Requirement already satisfied: tokenizers!=0.11.3,<0.14,>=0.11.1 in c:\\users\\anshj\\anaconda3\\envs\\torch-gpu\\lib\\site-packages (from transformers->peft) (0.13.2)\n",
      "Requirement already satisfied: huggingface-hub<1.0,>=0.11.0 in c:\\users\\anshj\\anaconda3\\envs\\torch-gpu\\lib\\site-packages (from transformers->peft) (0.13.3)\n",
      "Requirement already satisfied: regex!=2019.12.17 in c:\\users\\anshj\\anaconda3\\envs\\torch-gpu\\lib\\site-packages (from transformers->peft) (2022.10.31)\n",
      "Requirement already satisfied: colorama in c:\\users\\anshj\\anaconda3\\envs\\torch-gpu\\lib\\site-packages (from tqdm>=4.27->transformers->peft) (0.4.6)\n",
      "Requirement already satisfied: MarkupSafe>=2.0 in c:\\users\\anshj\\anaconda3\\envs\\torch-gpu\\lib\\site-packages (from jinja2->torch>=1.13.0->peft) (2.1.2)\n",
      "Requirement already satisfied: idna<4,>=2.5 in c:\\users\\anshj\\anaconda3\\envs\\torch-gpu\\lib\\site-packages (from requests->transformers->peft) (3.4)\n",
      "Requirement already satisfied: certifi>=2017.4.17 in c:\\users\\anshj\\anaconda3\\envs\\torch-gpu\\lib\\site-packages (from requests->transformers->peft) (2022.12.7)\n",
      "Requirement already satisfied: urllib3<1.27,>=1.21.1 in c:\\users\\anshj\\anaconda3\\envs\\torch-gpu\\lib\\site-packages (from requests->transformers->peft) (1.26.15)\n",
      "Requirement already satisfied: charset-normalizer<4,>=2 in c:\\users\\anshj\\anaconda3\\envs\\torch-gpu\\lib\\site-packages (from requests->transformers->peft) (2.1.1)\n",
      "Requirement already satisfied: mpmath>=0.19 in c:\\users\\anshj\\anaconda3\\envs\\torch-gpu\\lib\\site-packages (from sympy->torch>=1.13.0->peft) (1.2.1)\n",
      "Installing collected packages: accelerate, peft\n",
      "Successfully installed accelerate-0.20.3 peft-0.3.0\n"
     ]
    }
   ],
   "source": [
    "# Installing PEFT Library\n",
    "!pip install peft"
   ]
  },
  {
   "cell_type": "code",
   "execution_count": 19,
   "metadata": {
    "executionInfo": {
     "elapsed": 4628,
     "status": "ok",
     "timestamp": 1686577671801,
     "user": {
      "displayName": "Anshumaan Chauhan",
      "userId": "08247611702232216431"
     },
     "user_tz": 240
    },
    "id": "MBIVz6M12bdX"
   },
   "outputs": [],
   "source": [
    "from peft import get_peft_model, LoraConfig, TaskType\n",
    "\n",
    "# We are using LoRA for parameter efficient fine tuning of a Seq2SeqLM. Arguments' default values are taken from the demonstrations\n",
    "peft_config = LoraConfig(\n",
    "    task_type=TaskType.SEQ_2_SEQ_LM, inference_mode=False, r=8, lora_alpha=32, lora_dropout=0.1\n",
    ")"
   ]
  },
  {
   "cell_type": "code",
   "execution_count": 20,
   "metadata": {
    "colab": {
     "base_uri": "https://localhost:8080/"
    },
    "executionInfo": {
     "elapsed": 362,
     "status": "ok",
     "timestamp": 1686577789304,
     "user": {
      "displayName": "Anshumaan Chauhan",
      "userId": "08247611702232216431"
     },
     "user_tz": 240
    },
    "id": "dgyK0Z7l3O4W",
    "outputId": "97ad5f6f-cb28-410e-f85d-218674b58576"
   },
   "outputs": [
    {
     "name": "stdout",
     "output_type": "stream",
     "text": [
      "trainable params: 294912 || all params: 60801536 || trainable%: 0.4850403779272945\n"
     ]
    }
   ],
   "source": [
    "# Customizing the model foe peft \n",
    "base_model = get_peft_model(base_model, peft_config)\n",
    "# Number of trainable parameters in the model in PEFT model\n",
    "base_model.print_trainable_parameters()"
   ]
  },
  {
   "cell_type": "markdown",
   "metadata": {
    "id": "_ASa0fbnQe4u"
   },
   "source": [
    "## T5 Training Setup (Includes Custom Loss Function)"
   ]
  },
  {
   "cell_type": "code",
   "execution_count": 12,
   "metadata": {
    "id": "k_oMtcLHNMyo"
   },
   "outputs": [],
   "source": [
    "# Initializing the Data Collator for batching of the dataset\n",
    "from transformers import DataCollatorForSeq2Seq\n",
    "data_collator = DataCollatorForSeq2Seq(\n",
    "        tokenizer=base_tokenizer,\n",
    "        return_tensors=\"pt\",\n",
    "        max_length = 512,\n",
    "        padding = 'max_length',\n",
    "        model = base_model\n",
    "    )"
   ]
  },
  {
   "cell_type": "code",
   "execution_count": null,
   "metadata": {
    "id": "jXxRUyW39Fr6"
   },
   "outputs": [],
   "source": [
    "!pip install accelerate"
   ]
  },
  {
   "cell_type": "code",
   "execution_count": 13,
   "metadata": {
    "id": "95wIk1YxNOTb"
   },
   "outputs": [],
   "source": [
    "from transformers import Seq2SeqTrainingArguments, Seq2SeqTrainer\n",
    "\n",
    "# Path where model training loss and intermediate weights will be stored\n",
    "\"\"\"\n",
    "Change model path to \n",
    "1) /content/drive/MyDrive/Visual Story Telling/Story_Gen_Model/Basic - when using no pEDT methods\n",
    "2) /content/drive/MyDrive/Visual Story Telling/Story_Gen_Model/Adapters - when using Adapters\n",
    "3) /content/drive/MyDrive/Visual Story Telling/Story_Gen_Model/LoRA - when using LoRA\n",
    "\"\"\"\n",
    "model_path = f'Story_Gen_Model/Adapters'\n",
    "\n",
    "\n",
    "#Specifying the training argument \n",
    "training_args = Seq2SeqTrainingArguments(\n",
    "    output_dir=model_path,\n",
    "    per_device_train_batch_size=8, \n",
    "    overwrite_output_dir = True, \n",
    "    evaluation_strategy=\"no\", \n",
    "    gradient_accumulation_steps=8, \n",
    "    num_train_epochs=15,\n",
    "    weight_decay=0.01, \n",
    "    lr_scheduler_type=\"cosine\",\n",
    "    learning_rate=5e-4, \n",
    "    fp16=True \n",
    ")"
   ]
  },
  {
   "cell_type": "code",
   "execution_count": null,
   "metadata": {
    "id": "iSFkn4YDOXl1"
   },
   "outputs": [],
   "source": [
    "# Overwrite the Trainer API for utilizing custom loss function \n",
    "import torch\n",
    "import torch.nn.functional as F\n",
    "class CustomSeq2SeqTrainer(Seq2SeqTrainer):\n",
    "  def compute_loss(self, model, inputs, return_outputs=False):\n",
    "      labels = inputs.pop(\"labels\")\n",
    "      input_ids = inputs.pop(\"input_ids\")\n",
    "      attention_mask = inputs.pop(\"attention_mask\")\n",
    "      outputs = model(input_ids = input_ids, labels = labels, attention_mask = attention_mask)\n",
    "      loss_cross_entropy = outputs.loss\n",
    "      logits = outputs.logits\n",
    "      loss_GPT = custom_loss_function(logits) \n",
    "      loss = (loss_cross_entropy + torch.tensor(loss_GPT))\n",
    "      return (loss, outputs) if return_outputs else loss \n",
    "\n",
    "# Check whether the tokenizer is being passed as an argument \n",
    "def custom_loss_function(logits, tokenizer=base_tokenizer):\n",
    "    loss_GPT = 10\n",
    "    summaries = base_tokenizer.batch_decode(F.softmax(logits, dim=-1).argmax(dim=-1), skip_special_tokens=True)\n",
    "    for summary in summaries:\n",
    "      loss_GPT = loss_GPT + (10 - int(get_chatgpt_rating(prompt4, summary)))\n",
    "    return loss_GPT\n"
   ]
  },
  {
   "cell_type": "code",
   "execution_count": 14,
   "metadata": {
    "id": "DQsfkoziNn2O"
   },
   "outputs": [],
   "source": [
    "# Initializing the trainer\n",
    "\n",
    "trainer = Seq2SeqTrainer(\n",
    "    model=base_model,                         # the instantiated  Transformers model to be trained\n",
    "    args=training_args,                  # training arguments, defined above\n",
    "    data_collator=data_collator,\n",
    "    train_dataset=train_df,       # training dataset\n",
    "    eval_dataset = test_df,\n",
    ")"
   ]
  },
  {
   "cell_type": "code",
   "execution_count": null,
   "metadata": {
    "id": "Mhswv40DCJef"
   },
   "outputs": [],
   "source": [
    "#Custom Trainer function using Customized Loss function \n",
    "\n",
    "trainer = CustomSeq2SeqTrainer(\n",
    "    model=base_model,                         # the instantiated  Transformers model to be trained\n",
    "    args=training_args,                  # training arguments, defined above\n",
    "    data_collator=data_collator,\n",
    "    train_dataset=train_df,       # training dataset\n",
    "    eval_dataset = test_df,\n",
    ")"
   ]
  },
  {
   "cell_type": "markdown",
   "metadata": {
    "id": "gpPf0iO7QiYn"
   },
   "source": [
    "## Model Training "
   ]
  },
  {
   "cell_type": "code",
   "execution_count": 15,
   "metadata": {
    "id": "RXKGeFzINqA5"
   },
   "outputs": [
    {
     "name": "stderr",
     "output_type": "stream",
     "text": [
      "C:\\Users\\anshj\\anaconda3\\envs\\torch-gpu\\lib\\site-packages\\transformers\\optimization.py:391: FutureWarning: This implementation of AdamW is deprecated and will be removed in a future version. Use the PyTorch implementation torch.optim.AdamW instead, or set `no_deprecation_warning=True` to disable this warning\n",
      "  warnings.warn(\n",
      "You're using a T5TokenizerFast tokenizer. Please note that with a fast tokenizer, using the `__call__` method is faster than using a method to encode the text followed by a call to the `pad` method to get a padded encoding.\n"
     ]
    },
    {
     "data": {
      "text/html": [
       "\n",
       "    <div>\n",
       "      \n",
       "      <progress value='8145' max='8145' style='width:300px; height:20px; vertical-align: middle;'></progress>\n",
       "      [8145/8145 1:42:14, Epoch 14/15]\n",
       "    </div>\n",
       "    <table border=\"1\" class=\"dataframe\">\n",
       "  <thead>\n",
       " <tr style=\"text-align: left;\">\n",
       "      <th>Step</th>\n",
       "      <th>Training Loss</th>\n",
       "    </tr>\n",
       "  </thead>\n",
       "  <tbody>\n",
       "    <tr>\n",
       "      <td>500</td>\n",
       "      <td>2.170400</td>\n",
       "    </tr>\n",
       "    <tr>\n",
       "      <td>1000</td>\n",
       "      <td>1.796000</td>\n",
       "    </tr>\n",
       "    <tr>\n",
       "      <td>1500</td>\n",
       "      <td>1.748000</td>\n",
       "    </tr>\n",
       "    <tr>\n",
       "      <td>2000</td>\n",
       "      <td>1.728200</td>\n",
       "    </tr>\n",
       "    <tr>\n",
       "      <td>2500</td>\n",
       "      <td>1.700400</td>\n",
       "    </tr>\n",
       "    <tr>\n",
       "      <td>3000</td>\n",
       "      <td>1.698600</td>\n",
       "    </tr>\n",
       "    <tr>\n",
       "      <td>3500</td>\n",
       "      <td>1.688900</td>\n",
       "    </tr>\n",
       "    <tr>\n",
       "      <td>4000</td>\n",
       "      <td>1.674400</td>\n",
       "    </tr>\n",
       "    <tr>\n",
       "      <td>4500</td>\n",
       "      <td>1.681500</td>\n",
       "    </tr>\n",
       "    <tr>\n",
       "      <td>5000</td>\n",
       "      <td>1.675000</td>\n",
       "    </tr>\n",
       "    <tr>\n",
       "      <td>5500</td>\n",
       "      <td>1.660000</td>\n",
       "    </tr>\n",
       "    <tr>\n",
       "      <td>6000</td>\n",
       "      <td>1.673200</td>\n",
       "    </tr>\n",
       "    <tr>\n",
       "      <td>6500</td>\n",
       "      <td>1.665200</td>\n",
       "    </tr>\n",
       "    <tr>\n",
       "      <td>7000</td>\n",
       "      <td>1.663900</td>\n",
       "    </tr>\n",
       "    <tr>\n",
       "      <td>7500</td>\n",
       "      <td>1.661000</td>\n",
       "    </tr>\n",
       "    <tr>\n",
       "      <td>8000</td>\n",
       "      <td>1.662300</td>\n",
       "    </tr>\n",
       "  </tbody>\n",
       "</table><p>"
      ],
      "text/plain": [
       "<IPython.core.display.HTML object>"
      ]
     },
     "metadata": {},
     "output_type": "display_data"
    },
    {
     "data": {
      "text/plain": [
       "TrainOutput(global_step=8145, training_loss=1.7210480373281873, metrics={'train_runtime': 6142.2723, 'train_samples_per_second': 84.877, 'train_steps_per_second': 1.326, 'total_flos': 7.118346527440896e+16, 'train_loss': 1.7210480373281873, 'epoch': 15.0})"
      ]
     },
     "execution_count": 15,
     "metadata": {},
     "output_type": "execute_result"
    }
   ],
   "source": [
    "# Starting the training\n",
    "trainer.train()"
   ]
  },
  {
   "cell_type": "code",
   "execution_count": 16,
   "metadata": {
    "id": "u4ugp2eQNs_u"
   },
   "outputs": [],
   "source": [
    "# Saving the final model\n",
    "trainer.save_model()"
   ]
  },
  {
   "cell_type": "markdown",
   "metadata": {
    "id": "ZsCbDbfbwSBd"
   },
   "source": [
    "## Model Evaluation "
   ]
  },
  {
   "cell_type": "code",
   "execution_count": 17,
   "metadata": {
    "id": "AM3GvSURwP3-"
   },
   "outputs": [
    {
     "data": {
      "text/html": [
       "\n",
       "    <div>\n",
       "      \n",
       "      <progress value='483' max='483' style='width:300px; height:20px; vertical-align: middle;'></progress>\n",
       "      [483/483 00:19]\n",
       "    </div>\n",
       "    "
      ],
      "text/plain": [
       "<IPython.core.display.HTML object>"
      ]
     },
     "metadata": {},
     "output_type": "display_data"
    },
    {
     "data": {
      "text/plain": [
       "{'eval_loss': 1.5473278760910034,\n",
       " 'eval_runtime': 19.6496,\n",
       " 'eval_samples_per_second': 196.544,\n",
       " 'eval_steps_per_second': 24.581,\n",
       " 'epoch': 15.0}"
      ]
     },
     "execution_count": 17,
     "metadata": {},
     "output_type": "execute_result"
    }
   ],
   "source": [
    "trainer.evaluate()"
   ]
  },
  {
   "cell_type": "markdown",
   "metadata": {
    "id": "sdHZ53sg35wB"
   },
   "source": [
    "## Loading of the FT model"
   ]
  },
  {
   "cell_type": "code",
   "execution_count": null,
   "metadata": {
    "id": "GdiHx03234_l"
   },
   "outputs": [],
   "source": [
    "\"\"\"\n",
    "Change model path to \n",
    "1) /content/drive/MyDrive/Visual Story Telling/Story_Gen_Model/Basic - when using no pEDT methods\n",
    "2) /content/drive/MyDrive/Visual Story Telling/Story_Gen_Model/Adapters - when using Adapters\n",
    "3) /content/drive/MyDrive/Visual Story Telling/Story_Gen_Model/LoRA - when using LoRA\n",
    "\"\"\"\n",
    "model_path = f'/content/drive/MyDrive/Visual Story Telling/Story_Gen_Model'\n",
    "\n",
    "base_tokenizer = AutoTokenizer.from_pretrained(model_path)\n",
    "base_model = AutoModelForSeq2SeqLM.from_pretrained(\"t5-small\")"
   ]
  },
  {
   "cell_type": "markdown",
   "metadata": {
    "id": "ooAGQEE-EBn0"
   },
   "source": [
    "## Model Eval (BLEU)"
   ]
  },
  {
   "cell_type": "code",
   "execution_count": null,
   "metadata": {
    "id": "oQ5o39Y0DcXR"
   },
   "outputs": [],
   "source": [
    "!pip install evaluate"
   ]
  },
  {
   "cell_type": "code",
   "execution_count": 6,
   "metadata": {
    "id": "hGayRQ7_Dind"
   },
   "outputs": [],
   "source": [
    "from evaluate import load\n",
    "#Loading the BLEU score metric\n",
    "bleu = load(\"bleu\")"
   ]
  },
  {
   "cell_type": "code",
   "execution_count": 7,
   "metadata": {
    "id": "y6vjP1z4HnC0"
   },
   "outputs": [],
   "source": [
    "model = AutoModelForSeq2SeqLM.from_pretrained('Story_Gen_Model/Basic/')\n",
    "tokenizer = AutoTokenizer.from_pretrained('t5-small') "
   ]
  },
  {
   "cell_type": "code",
   "execution_count": 19,
   "metadata": {
    "id": "Tf9FrB-UH7qd"
   },
   "outputs": [],
   "source": [
    "def encode_input(x, base_tokenizer = tokenizer):\n",
    "  x = str(x)\n",
    "  return base_tokenizer(x, max_length = 512, truncation=True, padding='max_length', return_tensors='pt').input_ids"
   ]
  },
  {
   "cell_type": "code",
   "execution_count": 20,
   "metadata": {
    "id": "ZwqKW4CQHOwM"
   },
   "outputs": [],
   "source": [
    "df = pd.read_csv('Plot_Summary_Dataset')\n",
    "train_df, test_df = train_test_split(df, test_size=0.1, random_state=1)\n",
    "test_df['Input'] = test_df['Input'].apply(encode_input)"
   ]
  },
  {
   "cell_type": "code",
   "execution_count": 30,
   "metadata": {},
   "outputs": [],
   "source": [
    "test_df.reset_index(drop=True, inplace=True)"
   ]
  },
  {
   "cell_type": "code",
   "execution_count": 25,
   "metadata": {
    "id": "iAbAIxPMJLQ5"
   },
   "outputs": [],
   "source": [
    "num_beams = 1 \n",
    "top_p = 1.0\n",
    "do_sample = False\n",
    "#Greedy, Ancestral and Nucleus\n",
    "decoding_strats = [[1,1.0, False],[1,1.0, True],[1,0.9, True]]"
   ]
  },
  {
   "cell_type": "code",
   "execution_count": null,
   "metadata": {
    "id": "pfvKq0aYJN1F"
   },
   "outputs": [],
   "source": [
    "#BLEU score eval of FT model\n",
    "results = []\n",
    "for x in decoding_strats:\n",
    "  predictions = []\n",
    "  references = []\n",
    "  num_beams, top_p, do_sample = x\n",
    "  for idx,row in test_df.iterrows():\n",
    "    references.append(test_df['Summary'].iloc[idx])\n",
    "    predictions.append(tokenizer.batch_decode(model.generate(test_df['Input'].iloc[idx], num_beams = num_beams, top_p = top_p, do_sample = do_sample, min_length = len(test_df['Summary'].iloc[idx]), max_length = len(test_df['Summary'].iloc[idx])), skip_special_tokens=True))\n",
    "  base_results = bleu.compute(predictions=predictions, references=references)\n",
    "  results.append(base_results)\n",
    "print(results)"
   ]
  },
  {
   "cell_type": "markdown",
   "metadata": {
    "id": "hfwwzwOOJWnN"
   },
   "source": [
    "## Loss curve"
   ]
  },
  {
   "cell_type": "code",
   "execution_count": null,
   "metadata": {
    "id": "baSelc20JYB8"
   },
   "outputs": [],
   "source": [
    "import matplotlib.pyplot as plt\n",
    "%matplotlib inline"
   ]
  },
  {
   "cell_type": "code",
   "execution_count": null,
   "metadata": {
    "id": "kXeK8boEJunm"
   },
   "outputs": [],
   "source": [
    "#Loading the trainer_state json file, which consists of the losses at different steps/epochs\n",
    "df = pd.read_json('Add path to the json file')"
   ]
  },
  {
   "cell_type": "code",
   "execution_count": null,
   "metadata": {
    "id": "B94hciBHJwWd"
   },
   "outputs": [],
   "source": [
    "#Abstraction of the loss and epochs from the log history \n",
    "def get_epoch(x):\n",
    "  return x['epoch']\n",
    "\n",
    "def get_loss(x):\n",
    "  return x['loss']"
   ]
  },
  {
   "cell_type": "code",
   "execution_count": null,
   "metadata": {
    "id": "ou9bZY2CJzbp"
   },
   "outputs": [],
   "source": [
    "#Organize in a way to extract losses and steps\n",
    "df['epoch_number'] = df['log_history'].apply(get_epoch)\n",
    "df ['loss'] = df['log_history'].apply(get_loss)"
   ]
  },
  {
   "cell_type": "code",
   "execution_count": null,
   "metadata": {
    "id": "d3n4-YLaJ1WR"
   },
   "outputs": [],
   "source": [
    "#Plotting of the training loss curve for the FT Model \n",
    "plt.plot(df['epoch_number'].values, df['loss'].values) \n",
    "plt.xlabel('#Epochs')\n",
    "plt.ylabel('Loss value')\n",
    "plt.title('Training curve T5')"
   ]
  }
 ],
 "metadata": {
  "accelerator": "GPU",
  "colab": {
   "authorship_tag": "ABX9TyPKBb/bfLqVGphOpbT7/aDP",
   "collapsed_sections": [
    "gMPsfSIMQTFs",
    "pwf9LGiCzYmo",
    "2dYlSUZNQYop",
    "EOtQstapqEmC",
    "RBrX26Az6T0-",
    "Jj7Yr65aoj9I",
    "8XA-3Jngonjc",
    "_ASa0fbnQe4u",
    "gpPf0iO7QiYn",
    "ZsCbDbfbwSBd",
    "sdHZ53sg35wB",
    "ooAGQEE-EBn0",
    "hfwwzwOOJWnN"
   ],
   "gpuType": "T4",
   "mount_file_id": "1UXAKKDr1XJpAt8n2ITPu9aWH4cpjI0Er",
   "provenance": []
  },
  "kernelspec": {
   "display_name": "Python (torch-gpu)",
   "language": "python",
   "name": "torch-gpu"
  },
  "language_info": {
   "codemirror_mode": {
    "name": "ipython",
    "version": 3
   },
   "file_extension": ".py",
   "mimetype": "text/x-python",
   "name": "python",
   "nbconvert_exporter": "python",
   "pygments_lexer": "ipython3",
   "version": "3.9.16"
  }
 },
 "nbformat": 4,
 "nbformat_minor": 1
}

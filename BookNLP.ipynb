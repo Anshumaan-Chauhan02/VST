{
  "nbformat": 4,
  "nbformat_minor": 0,
  "metadata": {
    "colab": {
      "provenance": []
    },
    "kernelspec": {
      "name": "python3",
      "display_name": "Python 3"
    },
    "language_info": {
      "name": "python"
    },
    "widgets": {
      "application/vnd.jupyter.widget-state+json": {
        "96a6f92d8abd4366ad56ab52917060bd": {
          "model_module": "@jupyter-widgets/controls",
          "model_name": "HBoxModel",
          "model_module_version": "1.5.0",
          "state": {
            "_dom_classes": [],
            "_model_module": "@jupyter-widgets/controls",
            "_model_module_version": "1.5.0",
            "_model_name": "HBoxModel",
            "_view_count": null,
            "_view_module": "@jupyter-widgets/controls",
            "_view_module_version": "1.5.0",
            "_view_name": "HBoxView",
            "box_style": "",
            "children": [
              "IPY_MODEL_e2535cfbd44b4e11b57c25b225959f01",
              "IPY_MODEL_4e19eceb75b941cfa37f414c86393b1d",
              "IPY_MODEL_cfc99a7c46b242d185391079a002c11a"
            ],
            "layout": "IPY_MODEL_405239916f014506a6d4e6dcf8595660"
          }
        },
        "e2535cfbd44b4e11b57c25b225959f01": {
          "model_module": "@jupyter-widgets/controls",
          "model_name": "HTMLModel",
          "model_module_version": "1.5.0",
          "state": {
            "_dom_classes": [],
            "_model_module": "@jupyter-widgets/controls",
            "_model_module_version": "1.5.0",
            "_model_name": "HTMLModel",
            "_view_count": null,
            "_view_module": "@jupyter-widgets/controls",
            "_view_module_version": "1.5.0",
            "_view_name": "HTMLView",
            "description": "",
            "description_tooltip": null,
            "layout": "IPY_MODEL_6d15cb47b7e44b0ba0f4893d4a21457f",
            "placeholder": "​",
            "style": "IPY_MODEL_df713f3b47bb41a7a4429d3241c23f13",
            "value": "Downloading (…)solve/main/vocab.txt: 100%"
          }
        },
        "4e19eceb75b941cfa37f414c86393b1d": {
          "model_module": "@jupyter-widgets/controls",
          "model_name": "FloatProgressModel",
          "model_module_version": "1.5.0",
          "state": {
            "_dom_classes": [],
            "_model_module": "@jupyter-widgets/controls",
            "_model_module_version": "1.5.0",
            "_model_name": "FloatProgressModel",
            "_view_count": null,
            "_view_module": "@jupyter-widgets/controls",
            "_view_module_version": "1.5.0",
            "_view_name": "ProgressView",
            "bar_style": "success",
            "description": "",
            "description_tooltip": null,
            "layout": "IPY_MODEL_8e5023624dd1474992f088647cc9f763",
            "max": 231508,
            "min": 0,
            "orientation": "horizontal",
            "style": "IPY_MODEL_777d6beb37fa423d8538bb3c13923a13",
            "value": 231508
          }
        },
        "cfc99a7c46b242d185391079a002c11a": {
          "model_module": "@jupyter-widgets/controls",
          "model_name": "HTMLModel",
          "model_module_version": "1.5.0",
          "state": {
            "_dom_classes": [],
            "_model_module": "@jupyter-widgets/controls",
            "_model_module_version": "1.5.0",
            "_model_name": "HTMLModel",
            "_view_count": null,
            "_view_module": "@jupyter-widgets/controls",
            "_view_module_version": "1.5.0",
            "_view_name": "HTMLView",
            "description": "",
            "description_tooltip": null,
            "layout": "IPY_MODEL_3cff2065e73245e7a92e5d4f33b2446c",
            "placeholder": "​",
            "style": "IPY_MODEL_55e40ebdaebf42bda735f7c35379903e",
            "value": " 232k/232k [00:00&lt;00:00, 6.81MB/s]"
          }
        },
        "405239916f014506a6d4e6dcf8595660": {
          "model_module": "@jupyter-widgets/base",
          "model_name": "LayoutModel",
          "model_module_version": "1.2.0",
          "state": {
            "_model_module": "@jupyter-widgets/base",
            "_model_module_version": "1.2.0",
            "_model_name": "LayoutModel",
            "_view_count": null,
            "_view_module": "@jupyter-widgets/base",
            "_view_module_version": "1.2.0",
            "_view_name": "LayoutView",
            "align_content": null,
            "align_items": null,
            "align_self": null,
            "border": null,
            "bottom": null,
            "display": null,
            "flex": null,
            "flex_flow": null,
            "grid_area": null,
            "grid_auto_columns": null,
            "grid_auto_flow": null,
            "grid_auto_rows": null,
            "grid_column": null,
            "grid_gap": null,
            "grid_row": null,
            "grid_template_areas": null,
            "grid_template_columns": null,
            "grid_template_rows": null,
            "height": null,
            "justify_content": null,
            "justify_items": null,
            "left": null,
            "margin": null,
            "max_height": null,
            "max_width": null,
            "min_height": null,
            "min_width": null,
            "object_fit": null,
            "object_position": null,
            "order": null,
            "overflow": null,
            "overflow_x": null,
            "overflow_y": null,
            "padding": null,
            "right": null,
            "top": null,
            "visibility": null,
            "width": null
          }
        },
        "6d15cb47b7e44b0ba0f4893d4a21457f": {
          "model_module": "@jupyter-widgets/base",
          "model_name": "LayoutModel",
          "model_module_version": "1.2.0",
          "state": {
            "_model_module": "@jupyter-widgets/base",
            "_model_module_version": "1.2.0",
            "_model_name": "LayoutModel",
            "_view_count": null,
            "_view_module": "@jupyter-widgets/base",
            "_view_module_version": "1.2.0",
            "_view_name": "LayoutView",
            "align_content": null,
            "align_items": null,
            "align_self": null,
            "border": null,
            "bottom": null,
            "display": null,
            "flex": null,
            "flex_flow": null,
            "grid_area": null,
            "grid_auto_columns": null,
            "grid_auto_flow": null,
            "grid_auto_rows": null,
            "grid_column": null,
            "grid_gap": null,
            "grid_row": null,
            "grid_template_areas": null,
            "grid_template_columns": null,
            "grid_template_rows": null,
            "height": null,
            "justify_content": null,
            "justify_items": null,
            "left": null,
            "margin": null,
            "max_height": null,
            "max_width": null,
            "min_height": null,
            "min_width": null,
            "object_fit": null,
            "object_position": null,
            "order": null,
            "overflow": null,
            "overflow_x": null,
            "overflow_y": null,
            "padding": null,
            "right": null,
            "top": null,
            "visibility": null,
            "width": null
          }
        },
        "df713f3b47bb41a7a4429d3241c23f13": {
          "model_module": "@jupyter-widgets/controls",
          "model_name": "DescriptionStyleModel",
          "model_module_version": "1.5.0",
          "state": {
            "_model_module": "@jupyter-widgets/controls",
            "_model_module_version": "1.5.0",
            "_model_name": "DescriptionStyleModel",
            "_view_count": null,
            "_view_module": "@jupyter-widgets/base",
            "_view_module_version": "1.2.0",
            "_view_name": "StyleView",
            "description_width": ""
          }
        },
        "8e5023624dd1474992f088647cc9f763": {
          "model_module": "@jupyter-widgets/base",
          "model_name": "LayoutModel",
          "model_module_version": "1.2.0",
          "state": {
            "_model_module": "@jupyter-widgets/base",
            "_model_module_version": "1.2.0",
            "_model_name": "LayoutModel",
            "_view_count": null,
            "_view_module": "@jupyter-widgets/base",
            "_view_module_version": "1.2.0",
            "_view_name": "LayoutView",
            "align_content": null,
            "align_items": null,
            "align_self": null,
            "border": null,
            "bottom": null,
            "display": null,
            "flex": null,
            "flex_flow": null,
            "grid_area": null,
            "grid_auto_columns": null,
            "grid_auto_flow": null,
            "grid_auto_rows": null,
            "grid_column": null,
            "grid_gap": null,
            "grid_row": null,
            "grid_template_areas": null,
            "grid_template_columns": null,
            "grid_template_rows": null,
            "height": null,
            "justify_content": null,
            "justify_items": null,
            "left": null,
            "margin": null,
            "max_height": null,
            "max_width": null,
            "min_height": null,
            "min_width": null,
            "object_fit": null,
            "object_position": null,
            "order": null,
            "overflow": null,
            "overflow_x": null,
            "overflow_y": null,
            "padding": null,
            "right": null,
            "top": null,
            "visibility": null,
            "width": null
          }
        },
        "777d6beb37fa423d8538bb3c13923a13": {
          "model_module": "@jupyter-widgets/controls",
          "model_name": "ProgressStyleModel",
          "model_module_version": "1.5.0",
          "state": {
            "_model_module": "@jupyter-widgets/controls",
            "_model_module_version": "1.5.0",
            "_model_name": "ProgressStyleModel",
            "_view_count": null,
            "_view_module": "@jupyter-widgets/base",
            "_view_module_version": "1.2.0",
            "_view_name": "StyleView",
            "bar_color": null,
            "description_width": ""
          }
        },
        "3cff2065e73245e7a92e5d4f33b2446c": {
          "model_module": "@jupyter-widgets/base",
          "model_name": "LayoutModel",
          "model_module_version": "1.2.0",
          "state": {
            "_model_module": "@jupyter-widgets/base",
            "_model_module_version": "1.2.0",
            "_model_name": "LayoutModel",
            "_view_count": null,
            "_view_module": "@jupyter-widgets/base",
            "_view_module_version": "1.2.0",
            "_view_name": "LayoutView",
            "align_content": null,
            "align_items": null,
            "align_self": null,
            "border": null,
            "bottom": null,
            "display": null,
            "flex": null,
            "flex_flow": null,
            "grid_area": null,
            "grid_auto_columns": null,
            "grid_auto_flow": null,
            "grid_auto_rows": null,
            "grid_column": null,
            "grid_gap": null,
            "grid_row": null,
            "grid_template_areas": null,
            "grid_template_columns": null,
            "grid_template_rows": null,
            "height": null,
            "justify_content": null,
            "justify_items": null,
            "left": null,
            "margin": null,
            "max_height": null,
            "max_width": null,
            "min_height": null,
            "min_width": null,
            "object_fit": null,
            "object_position": null,
            "order": null,
            "overflow": null,
            "overflow_x": null,
            "overflow_y": null,
            "padding": null,
            "right": null,
            "top": null,
            "visibility": null,
            "width": null
          }
        },
        "55e40ebdaebf42bda735f7c35379903e": {
          "model_module": "@jupyter-widgets/controls",
          "model_name": "DescriptionStyleModel",
          "model_module_version": "1.5.0",
          "state": {
            "_model_module": "@jupyter-widgets/controls",
            "_model_module_version": "1.5.0",
            "_model_name": "DescriptionStyleModel",
            "_view_count": null,
            "_view_module": "@jupyter-widgets/base",
            "_view_module_version": "1.2.0",
            "_view_name": "StyleView",
            "description_width": ""
          }
        },
        "4a171901ba7c48948a5eb10c9f109ea7": {
          "model_module": "@jupyter-widgets/controls",
          "model_name": "HBoxModel",
          "model_module_version": "1.5.0",
          "state": {
            "_dom_classes": [],
            "_model_module": "@jupyter-widgets/controls",
            "_model_module_version": "1.5.0",
            "_model_name": "HBoxModel",
            "_view_count": null,
            "_view_module": "@jupyter-widgets/controls",
            "_view_module_version": "1.5.0",
            "_view_name": "HBoxView",
            "box_style": "",
            "children": [
              "IPY_MODEL_f2c2e2e2d0814ba692fab444fc884db6",
              "IPY_MODEL_3fc0f3c8dad040f2a2479ce1d6938661",
              "IPY_MODEL_08b43625cc8d48cfbfeb59edc55cb8b1"
            ],
            "layout": "IPY_MODEL_9f938e4a938544488a9658f163ae2804"
          }
        },
        "f2c2e2e2d0814ba692fab444fc884db6": {
          "model_module": "@jupyter-widgets/controls",
          "model_name": "HTMLModel",
          "model_module_version": "1.5.0",
          "state": {
            "_dom_classes": [],
            "_model_module": "@jupyter-widgets/controls",
            "_model_module_version": "1.5.0",
            "_model_name": "HTMLModel",
            "_view_count": null,
            "_view_module": "@jupyter-widgets/controls",
            "_view_module_version": "1.5.0",
            "_view_name": "HTMLView",
            "description": "",
            "description_tooltip": null,
            "layout": "IPY_MODEL_26428e0458c342c1ae9cd4b6db7923a9",
            "placeholder": "​",
            "style": "IPY_MODEL_e88d7689fb774be3881a9454c79afff0",
            "value": "Downloading (…)lve/main/config.json: 100%"
          }
        },
        "3fc0f3c8dad040f2a2479ce1d6938661": {
          "model_module": "@jupyter-widgets/controls",
          "model_name": "FloatProgressModel",
          "model_module_version": "1.5.0",
          "state": {
            "_dom_classes": [],
            "_model_module": "@jupyter-widgets/controls",
            "_model_module_version": "1.5.0",
            "_model_name": "FloatProgressModel",
            "_view_count": null,
            "_view_module": "@jupyter-widgets/controls",
            "_view_module_version": "1.5.0",
            "_view_name": "ProgressView",
            "bar_style": "success",
            "description": "",
            "description_tooltip": null,
            "layout": "IPY_MODEL_cc10af1d38cb4d29bd586d1314d80b4b",
            "max": 384,
            "min": 0,
            "orientation": "horizontal",
            "style": "IPY_MODEL_1790db119f5142128bf2b3330b3c0867",
            "value": 384
          }
        },
        "08b43625cc8d48cfbfeb59edc55cb8b1": {
          "model_module": "@jupyter-widgets/controls",
          "model_name": "HTMLModel",
          "model_module_version": "1.5.0",
          "state": {
            "_dom_classes": [],
            "_model_module": "@jupyter-widgets/controls",
            "_model_module_version": "1.5.0",
            "_model_name": "HTMLModel",
            "_view_count": null,
            "_view_module": "@jupyter-widgets/controls",
            "_view_module_version": "1.5.0",
            "_view_name": "HTMLView",
            "description": "",
            "description_tooltip": null,
            "layout": "IPY_MODEL_6d897f0b5ae34ad49ac33751f8ac8295",
            "placeholder": "​",
            "style": "IPY_MODEL_b6efb35bb2b5428489205337c3fd4bfe",
            "value": " 384/384 [00:00&lt;00:00, 20.2kB/s]"
          }
        },
        "9f938e4a938544488a9658f163ae2804": {
          "model_module": "@jupyter-widgets/base",
          "model_name": "LayoutModel",
          "model_module_version": "1.2.0",
          "state": {
            "_model_module": "@jupyter-widgets/base",
            "_model_module_version": "1.2.0",
            "_model_name": "LayoutModel",
            "_view_count": null,
            "_view_module": "@jupyter-widgets/base",
            "_view_module_version": "1.2.0",
            "_view_name": "LayoutView",
            "align_content": null,
            "align_items": null,
            "align_self": null,
            "border": null,
            "bottom": null,
            "display": null,
            "flex": null,
            "flex_flow": null,
            "grid_area": null,
            "grid_auto_columns": null,
            "grid_auto_flow": null,
            "grid_auto_rows": null,
            "grid_column": null,
            "grid_gap": null,
            "grid_row": null,
            "grid_template_areas": null,
            "grid_template_columns": null,
            "grid_template_rows": null,
            "height": null,
            "justify_content": null,
            "justify_items": null,
            "left": null,
            "margin": null,
            "max_height": null,
            "max_width": null,
            "min_height": null,
            "min_width": null,
            "object_fit": null,
            "object_position": null,
            "order": null,
            "overflow": null,
            "overflow_x": null,
            "overflow_y": null,
            "padding": null,
            "right": null,
            "top": null,
            "visibility": null,
            "width": null
          }
        },
        "26428e0458c342c1ae9cd4b6db7923a9": {
          "model_module": "@jupyter-widgets/base",
          "model_name": "LayoutModel",
          "model_module_version": "1.2.0",
          "state": {
            "_model_module": "@jupyter-widgets/base",
            "_model_module_version": "1.2.0",
            "_model_name": "LayoutModel",
            "_view_count": null,
            "_view_module": "@jupyter-widgets/base",
            "_view_module_version": "1.2.0",
            "_view_name": "LayoutView",
            "align_content": null,
            "align_items": null,
            "align_self": null,
            "border": null,
            "bottom": null,
            "display": null,
            "flex": null,
            "flex_flow": null,
            "grid_area": null,
            "grid_auto_columns": null,
            "grid_auto_flow": null,
            "grid_auto_rows": null,
            "grid_column": null,
            "grid_gap": null,
            "grid_row": null,
            "grid_template_areas": null,
            "grid_template_columns": null,
            "grid_template_rows": null,
            "height": null,
            "justify_content": null,
            "justify_items": null,
            "left": null,
            "margin": null,
            "max_height": null,
            "max_width": null,
            "min_height": null,
            "min_width": null,
            "object_fit": null,
            "object_position": null,
            "order": null,
            "overflow": null,
            "overflow_x": null,
            "overflow_y": null,
            "padding": null,
            "right": null,
            "top": null,
            "visibility": null,
            "width": null
          }
        },
        "e88d7689fb774be3881a9454c79afff0": {
          "model_module": "@jupyter-widgets/controls",
          "model_name": "DescriptionStyleModel",
          "model_module_version": "1.5.0",
          "state": {
            "_model_module": "@jupyter-widgets/controls",
            "_model_module_version": "1.5.0",
            "_model_name": "DescriptionStyleModel",
            "_view_count": null,
            "_view_module": "@jupyter-widgets/base",
            "_view_module_version": "1.2.0",
            "_view_name": "StyleView",
            "description_width": ""
          }
        },
        "cc10af1d38cb4d29bd586d1314d80b4b": {
          "model_module": "@jupyter-widgets/base",
          "model_name": "LayoutModel",
          "model_module_version": "1.2.0",
          "state": {
            "_model_module": "@jupyter-widgets/base",
            "_model_module_version": "1.2.0",
            "_model_name": "LayoutModel",
            "_view_count": null,
            "_view_module": "@jupyter-widgets/base",
            "_view_module_version": "1.2.0",
            "_view_name": "LayoutView",
            "align_content": null,
            "align_items": null,
            "align_self": null,
            "border": null,
            "bottom": null,
            "display": null,
            "flex": null,
            "flex_flow": null,
            "grid_area": null,
            "grid_auto_columns": null,
            "grid_auto_flow": null,
            "grid_auto_rows": null,
            "grid_column": null,
            "grid_gap": null,
            "grid_row": null,
            "grid_template_areas": null,
            "grid_template_columns": null,
            "grid_template_rows": null,
            "height": null,
            "justify_content": null,
            "justify_items": null,
            "left": null,
            "margin": null,
            "max_height": null,
            "max_width": null,
            "min_height": null,
            "min_width": null,
            "object_fit": null,
            "object_position": null,
            "order": null,
            "overflow": null,
            "overflow_x": null,
            "overflow_y": null,
            "padding": null,
            "right": null,
            "top": null,
            "visibility": null,
            "width": null
          }
        },
        "1790db119f5142128bf2b3330b3c0867": {
          "model_module": "@jupyter-widgets/controls",
          "model_name": "ProgressStyleModel",
          "model_module_version": "1.5.0",
          "state": {
            "_model_module": "@jupyter-widgets/controls",
            "_model_module_version": "1.5.0",
            "_model_name": "ProgressStyleModel",
            "_view_count": null,
            "_view_module": "@jupyter-widgets/base",
            "_view_module_version": "1.2.0",
            "_view_name": "StyleView",
            "bar_color": null,
            "description_width": ""
          }
        },
        "6d897f0b5ae34ad49ac33751f8ac8295": {
          "model_module": "@jupyter-widgets/base",
          "model_name": "LayoutModel",
          "model_module_version": "1.2.0",
          "state": {
            "_model_module": "@jupyter-widgets/base",
            "_model_module_version": "1.2.0",
            "_model_name": "LayoutModel",
            "_view_count": null,
            "_view_module": "@jupyter-widgets/base",
            "_view_module_version": "1.2.0",
            "_view_name": "LayoutView",
            "align_content": null,
            "align_items": null,
            "align_self": null,
            "border": null,
            "bottom": null,
            "display": null,
            "flex": null,
            "flex_flow": null,
            "grid_area": null,
            "grid_auto_columns": null,
            "grid_auto_flow": null,
            "grid_auto_rows": null,
            "grid_column": null,
            "grid_gap": null,
            "grid_row": null,
            "grid_template_areas": null,
            "grid_template_columns": null,
            "grid_template_rows": null,
            "height": null,
            "justify_content": null,
            "justify_items": null,
            "left": null,
            "margin": null,
            "max_height": null,
            "max_width": null,
            "min_height": null,
            "min_width": null,
            "object_fit": null,
            "object_position": null,
            "order": null,
            "overflow": null,
            "overflow_x": null,
            "overflow_y": null,
            "padding": null,
            "right": null,
            "top": null,
            "visibility": null,
            "width": null
          }
        },
        "b6efb35bb2b5428489205337c3fd4bfe": {
          "model_module": "@jupyter-widgets/controls",
          "model_name": "DescriptionStyleModel",
          "model_module_version": "1.5.0",
          "state": {
            "_model_module": "@jupyter-widgets/controls",
            "_model_module_version": "1.5.0",
            "_model_name": "DescriptionStyleModel",
            "_view_count": null,
            "_view_module": "@jupyter-widgets/base",
            "_view_module_version": "1.2.0",
            "_view_name": "StyleView",
            "description_width": ""
          }
        },
        "228a5e728b5a4e7c8de062689db45ab7": {
          "model_module": "@jupyter-widgets/controls",
          "model_name": "HBoxModel",
          "model_module_version": "1.5.0",
          "state": {
            "_dom_classes": [],
            "_model_module": "@jupyter-widgets/controls",
            "_model_module_version": "1.5.0",
            "_model_name": "HBoxModel",
            "_view_count": null,
            "_view_module": "@jupyter-widgets/controls",
            "_view_module_version": "1.5.0",
            "_view_name": "HBoxView",
            "box_style": "",
            "children": [
              "IPY_MODEL_655e280257d448ebaab409a1b9383bc4",
              "IPY_MODEL_580013eb761845ed81be238c1931c962",
              "IPY_MODEL_0e8faff8e322436d86569d5567b08096"
            ],
            "layout": "IPY_MODEL_5f34c24ba2d641f38bf492057994b22a"
          }
        },
        "655e280257d448ebaab409a1b9383bc4": {
          "model_module": "@jupyter-widgets/controls",
          "model_name": "HTMLModel",
          "model_module_version": "1.5.0",
          "state": {
            "_dom_classes": [],
            "_model_module": "@jupyter-widgets/controls",
            "_model_module_version": "1.5.0",
            "_model_name": "HTMLModel",
            "_view_count": null,
            "_view_module": "@jupyter-widgets/controls",
            "_view_module_version": "1.5.0",
            "_view_name": "HTMLView",
            "description": "",
            "description_tooltip": null,
            "layout": "IPY_MODEL_559992902d7948be87e58af7e65277fb",
            "placeholder": "​",
            "style": "IPY_MODEL_db0905f0ef9442dea6c9d8b63a737483",
            "value": "Downloading pytorch_model.bin: 100%"
          }
        },
        "580013eb761845ed81be238c1931c962": {
          "model_module": "@jupyter-widgets/controls",
          "model_name": "FloatProgressModel",
          "model_module_version": "1.5.0",
          "state": {
            "_dom_classes": [],
            "_model_module": "@jupyter-widgets/controls",
            "_model_module_version": "1.5.0",
            "_model_name": "FloatProgressModel",
            "_view_count": null,
            "_view_module": "@jupyter-widgets/controls",
            "_view_module_version": "1.5.0",
            "_view_name": "ProgressView",
            "bar_style": "success",
            "description": "",
            "description_tooltip": null,
            "layout": "IPY_MODEL_328f514561fa4963ab2cee8c3c2a5e1b",
            "max": 270341459,
            "min": 0,
            "orientation": "horizontal",
            "style": "IPY_MODEL_122ade15cba74090b38392d14db13863",
            "value": 270341459
          }
        },
        "0e8faff8e322436d86569d5567b08096": {
          "model_module": "@jupyter-widgets/controls",
          "model_name": "HTMLModel",
          "model_module_version": "1.5.0",
          "state": {
            "_dom_classes": [],
            "_model_module": "@jupyter-widgets/controls",
            "_model_module_version": "1.5.0",
            "_model_name": "HTMLModel",
            "_view_count": null,
            "_view_module": "@jupyter-widgets/controls",
            "_view_module_version": "1.5.0",
            "_view_name": "HTMLView",
            "description": "",
            "description_tooltip": null,
            "layout": "IPY_MODEL_ca96dc69e1f54d55a4aab22767713bd5",
            "placeholder": "​",
            "style": "IPY_MODEL_41945bf4ccea422da9ddba3a1b433224",
            "value": " 270M/270M [00:07&lt;00:00, 38.5MB/s]"
          }
        },
        "5f34c24ba2d641f38bf492057994b22a": {
          "model_module": "@jupyter-widgets/base",
          "model_name": "LayoutModel",
          "model_module_version": "1.2.0",
          "state": {
            "_model_module": "@jupyter-widgets/base",
            "_model_module_version": "1.2.0",
            "_model_name": "LayoutModel",
            "_view_count": null,
            "_view_module": "@jupyter-widgets/base",
            "_view_module_version": "1.2.0",
            "_view_name": "LayoutView",
            "align_content": null,
            "align_items": null,
            "align_self": null,
            "border": null,
            "bottom": null,
            "display": null,
            "flex": null,
            "flex_flow": null,
            "grid_area": null,
            "grid_auto_columns": null,
            "grid_auto_flow": null,
            "grid_auto_rows": null,
            "grid_column": null,
            "grid_gap": null,
            "grid_row": null,
            "grid_template_areas": null,
            "grid_template_columns": null,
            "grid_template_rows": null,
            "height": null,
            "justify_content": null,
            "justify_items": null,
            "left": null,
            "margin": null,
            "max_height": null,
            "max_width": null,
            "min_height": null,
            "min_width": null,
            "object_fit": null,
            "object_position": null,
            "order": null,
            "overflow": null,
            "overflow_x": null,
            "overflow_y": null,
            "padding": null,
            "right": null,
            "top": null,
            "visibility": null,
            "width": null
          }
        },
        "559992902d7948be87e58af7e65277fb": {
          "model_module": "@jupyter-widgets/base",
          "model_name": "LayoutModel",
          "model_module_version": "1.2.0",
          "state": {
            "_model_module": "@jupyter-widgets/base",
            "_model_module_version": "1.2.0",
            "_model_name": "LayoutModel",
            "_view_count": null,
            "_view_module": "@jupyter-widgets/base",
            "_view_module_version": "1.2.0",
            "_view_name": "LayoutView",
            "align_content": null,
            "align_items": null,
            "align_self": null,
            "border": null,
            "bottom": null,
            "display": null,
            "flex": null,
            "flex_flow": null,
            "grid_area": null,
            "grid_auto_columns": null,
            "grid_auto_flow": null,
            "grid_auto_rows": null,
            "grid_column": null,
            "grid_gap": null,
            "grid_row": null,
            "grid_template_areas": null,
            "grid_template_columns": null,
            "grid_template_rows": null,
            "height": null,
            "justify_content": null,
            "justify_items": null,
            "left": null,
            "margin": null,
            "max_height": null,
            "max_width": null,
            "min_height": null,
            "min_width": null,
            "object_fit": null,
            "object_position": null,
            "order": null,
            "overflow": null,
            "overflow_x": null,
            "overflow_y": null,
            "padding": null,
            "right": null,
            "top": null,
            "visibility": null,
            "width": null
          }
        },
        "db0905f0ef9442dea6c9d8b63a737483": {
          "model_module": "@jupyter-widgets/controls",
          "model_name": "DescriptionStyleModel",
          "model_module_version": "1.5.0",
          "state": {
            "_model_module": "@jupyter-widgets/controls",
            "_model_module_version": "1.5.0",
            "_model_name": "DescriptionStyleModel",
            "_view_count": null,
            "_view_module": "@jupyter-widgets/base",
            "_view_module_version": "1.2.0",
            "_view_name": "StyleView",
            "description_width": ""
          }
        },
        "328f514561fa4963ab2cee8c3c2a5e1b": {
          "model_module": "@jupyter-widgets/base",
          "model_name": "LayoutModel",
          "model_module_version": "1.2.0",
          "state": {
            "_model_module": "@jupyter-widgets/base",
            "_model_module_version": "1.2.0",
            "_model_name": "LayoutModel",
            "_view_count": null,
            "_view_module": "@jupyter-widgets/base",
            "_view_module_version": "1.2.0",
            "_view_name": "LayoutView",
            "align_content": null,
            "align_items": null,
            "align_self": null,
            "border": null,
            "bottom": null,
            "display": null,
            "flex": null,
            "flex_flow": null,
            "grid_area": null,
            "grid_auto_columns": null,
            "grid_auto_flow": null,
            "grid_auto_rows": null,
            "grid_column": null,
            "grid_gap": null,
            "grid_row": null,
            "grid_template_areas": null,
            "grid_template_columns": null,
            "grid_template_rows": null,
            "height": null,
            "justify_content": null,
            "justify_items": null,
            "left": null,
            "margin": null,
            "max_height": null,
            "max_width": null,
            "min_height": null,
            "min_width": null,
            "object_fit": null,
            "object_position": null,
            "order": null,
            "overflow": null,
            "overflow_x": null,
            "overflow_y": null,
            "padding": null,
            "right": null,
            "top": null,
            "visibility": null,
            "width": null
          }
        },
        "122ade15cba74090b38392d14db13863": {
          "model_module": "@jupyter-widgets/controls",
          "model_name": "ProgressStyleModel",
          "model_module_version": "1.5.0",
          "state": {
            "_model_module": "@jupyter-widgets/controls",
            "_model_module_version": "1.5.0",
            "_model_name": "ProgressStyleModel",
            "_view_count": null,
            "_view_module": "@jupyter-widgets/base",
            "_view_module_version": "1.2.0",
            "_view_name": "StyleView",
            "bar_color": null,
            "description_width": ""
          }
        },
        "ca96dc69e1f54d55a4aab22767713bd5": {
          "model_module": "@jupyter-widgets/base",
          "model_name": "LayoutModel",
          "model_module_version": "1.2.0",
          "state": {
            "_model_module": "@jupyter-widgets/base",
            "_model_module_version": "1.2.0",
            "_model_name": "LayoutModel",
            "_view_count": null,
            "_view_module": "@jupyter-widgets/base",
            "_view_module_version": "1.2.0",
            "_view_name": "LayoutView",
            "align_content": null,
            "align_items": null,
            "align_self": null,
            "border": null,
            "bottom": null,
            "display": null,
            "flex": null,
            "flex_flow": null,
            "grid_area": null,
            "grid_auto_columns": null,
            "grid_auto_flow": null,
            "grid_auto_rows": null,
            "grid_column": null,
            "grid_gap": null,
            "grid_row": null,
            "grid_template_areas": null,
            "grid_template_columns": null,
            "grid_template_rows": null,
            "height": null,
            "justify_content": null,
            "justify_items": null,
            "left": null,
            "margin": null,
            "max_height": null,
            "max_width": null,
            "min_height": null,
            "min_width": null,
            "object_fit": null,
            "object_position": null,
            "order": null,
            "overflow": null,
            "overflow_x": null,
            "overflow_y": null,
            "padding": null,
            "right": null,
            "top": null,
            "visibility": null,
            "width": null
          }
        },
        "41945bf4ccea422da9ddba3a1b433224": {
          "model_module": "@jupyter-widgets/controls",
          "model_name": "DescriptionStyleModel",
          "model_module_version": "1.5.0",
          "state": {
            "_model_module": "@jupyter-widgets/controls",
            "_model_module_version": "1.5.0",
            "_model_name": "DescriptionStyleModel",
            "_view_count": null,
            "_view_module": "@jupyter-widgets/base",
            "_view_module_version": "1.2.0",
            "_view_name": "StyleView",
            "description_width": ""
          }
        },
        "85b37cbb973840efa680e1c6cd9535cd": {
          "model_module": "@jupyter-widgets/controls",
          "model_name": "HBoxModel",
          "model_module_version": "1.5.0",
          "state": {
            "_dom_classes": [],
            "_model_module": "@jupyter-widgets/controls",
            "_model_module_version": "1.5.0",
            "_model_name": "HBoxModel",
            "_view_count": null,
            "_view_module": "@jupyter-widgets/controls",
            "_view_module_version": "1.5.0",
            "_view_name": "HBoxView",
            "box_style": "",
            "children": [
              "IPY_MODEL_ebdbaa1c53ef4ea9a93b3de4d3cc8744",
              "IPY_MODEL_922877d618a94082ad4d17b67704d1bc",
              "IPY_MODEL_edcf0c99382b4b47adc3cb27d97e2d21"
            ],
            "layout": "IPY_MODEL_a5007d374bbf45eea274c8229423a4e6"
          }
        },
        "ebdbaa1c53ef4ea9a93b3de4d3cc8744": {
          "model_module": "@jupyter-widgets/controls",
          "model_name": "HTMLModel",
          "model_module_version": "1.5.0",
          "state": {
            "_dom_classes": [],
            "_model_module": "@jupyter-widgets/controls",
            "_model_module_version": "1.5.0",
            "_model_name": "HTMLModel",
            "_view_count": null,
            "_view_module": "@jupyter-widgets/controls",
            "_view_module_version": "1.5.0",
            "_view_name": "HTMLView",
            "description": "",
            "description_tooltip": null,
            "layout": "IPY_MODEL_d54e491aa52c465ebc2f8e281ec76923",
            "placeholder": "​",
            "style": "IPY_MODEL_ae3fcb2b209e400d8806311430ae74da",
            "value": "Downloading (…)solve/main/vocab.txt: 100%"
          }
        },
        "922877d618a94082ad4d17b67704d1bc": {
          "model_module": "@jupyter-widgets/controls",
          "model_name": "FloatProgressModel",
          "model_module_version": "1.5.0",
          "state": {
            "_dom_classes": [],
            "_model_module": "@jupyter-widgets/controls",
            "_model_module_version": "1.5.0",
            "_model_name": "FloatProgressModel",
            "_view_count": null,
            "_view_module": "@jupyter-widgets/controls",
            "_view_module_version": "1.5.0",
            "_view_name": "ProgressView",
            "bar_style": "success",
            "description": "",
            "description_tooltip": null,
            "layout": "IPY_MODEL_d5904f9b38c744dea5536ba7519a64ac",
            "max": 231508,
            "min": 0,
            "orientation": "horizontal",
            "style": "IPY_MODEL_1c468a5150034bcba1a4c84752e65566",
            "value": 231508
          }
        },
        "edcf0c99382b4b47adc3cb27d97e2d21": {
          "model_module": "@jupyter-widgets/controls",
          "model_name": "HTMLModel",
          "model_module_version": "1.5.0",
          "state": {
            "_dom_classes": [],
            "_model_module": "@jupyter-widgets/controls",
            "_model_module_version": "1.5.0",
            "_model_name": "HTMLModel",
            "_view_count": null,
            "_view_module": "@jupyter-widgets/controls",
            "_view_module_version": "1.5.0",
            "_view_name": "HTMLView",
            "description": "",
            "description_tooltip": null,
            "layout": "IPY_MODEL_cfa5ef6cb5964a1b94bc832300dd10c6",
            "placeholder": "​",
            "style": "IPY_MODEL_a55df53652a74da3b80a47dae9801af0",
            "value": " 232k/232k [00:00&lt;00:00, 1.41MB/s]"
          }
        },
        "a5007d374bbf45eea274c8229423a4e6": {
          "model_module": "@jupyter-widgets/base",
          "model_name": "LayoutModel",
          "model_module_version": "1.2.0",
          "state": {
            "_model_module": "@jupyter-widgets/base",
            "_model_module_version": "1.2.0",
            "_model_name": "LayoutModel",
            "_view_count": null,
            "_view_module": "@jupyter-widgets/base",
            "_view_module_version": "1.2.0",
            "_view_name": "LayoutView",
            "align_content": null,
            "align_items": null,
            "align_self": null,
            "border": null,
            "bottom": null,
            "display": null,
            "flex": null,
            "flex_flow": null,
            "grid_area": null,
            "grid_auto_columns": null,
            "grid_auto_flow": null,
            "grid_auto_rows": null,
            "grid_column": null,
            "grid_gap": null,
            "grid_row": null,
            "grid_template_areas": null,
            "grid_template_columns": null,
            "grid_template_rows": null,
            "height": null,
            "justify_content": null,
            "justify_items": null,
            "left": null,
            "margin": null,
            "max_height": null,
            "max_width": null,
            "min_height": null,
            "min_width": null,
            "object_fit": null,
            "object_position": null,
            "order": null,
            "overflow": null,
            "overflow_x": null,
            "overflow_y": null,
            "padding": null,
            "right": null,
            "top": null,
            "visibility": null,
            "width": null
          }
        },
        "d54e491aa52c465ebc2f8e281ec76923": {
          "model_module": "@jupyter-widgets/base",
          "model_name": "LayoutModel",
          "model_module_version": "1.2.0",
          "state": {
            "_model_module": "@jupyter-widgets/base",
            "_model_module_version": "1.2.0",
            "_model_name": "LayoutModel",
            "_view_count": null,
            "_view_module": "@jupyter-widgets/base",
            "_view_module_version": "1.2.0",
            "_view_name": "LayoutView",
            "align_content": null,
            "align_items": null,
            "align_self": null,
            "border": null,
            "bottom": null,
            "display": null,
            "flex": null,
            "flex_flow": null,
            "grid_area": null,
            "grid_auto_columns": null,
            "grid_auto_flow": null,
            "grid_auto_rows": null,
            "grid_column": null,
            "grid_gap": null,
            "grid_row": null,
            "grid_template_areas": null,
            "grid_template_columns": null,
            "grid_template_rows": null,
            "height": null,
            "justify_content": null,
            "justify_items": null,
            "left": null,
            "margin": null,
            "max_height": null,
            "max_width": null,
            "min_height": null,
            "min_width": null,
            "object_fit": null,
            "object_position": null,
            "order": null,
            "overflow": null,
            "overflow_x": null,
            "overflow_y": null,
            "padding": null,
            "right": null,
            "top": null,
            "visibility": null,
            "width": null
          }
        },
        "ae3fcb2b209e400d8806311430ae74da": {
          "model_module": "@jupyter-widgets/controls",
          "model_name": "DescriptionStyleModel",
          "model_module_version": "1.5.0",
          "state": {
            "_model_module": "@jupyter-widgets/controls",
            "_model_module_version": "1.5.0",
            "_model_name": "DescriptionStyleModel",
            "_view_count": null,
            "_view_module": "@jupyter-widgets/base",
            "_view_module_version": "1.2.0",
            "_view_name": "StyleView",
            "description_width": ""
          }
        },
        "d5904f9b38c744dea5536ba7519a64ac": {
          "model_module": "@jupyter-widgets/base",
          "model_name": "LayoutModel",
          "model_module_version": "1.2.0",
          "state": {
            "_model_module": "@jupyter-widgets/base",
            "_model_module_version": "1.2.0",
            "_model_name": "LayoutModel",
            "_view_count": null,
            "_view_module": "@jupyter-widgets/base",
            "_view_module_version": "1.2.0",
            "_view_name": "LayoutView",
            "align_content": null,
            "align_items": null,
            "align_self": null,
            "border": null,
            "bottom": null,
            "display": null,
            "flex": null,
            "flex_flow": null,
            "grid_area": null,
            "grid_auto_columns": null,
            "grid_auto_flow": null,
            "grid_auto_rows": null,
            "grid_column": null,
            "grid_gap": null,
            "grid_row": null,
            "grid_template_areas": null,
            "grid_template_columns": null,
            "grid_template_rows": null,
            "height": null,
            "justify_content": null,
            "justify_items": null,
            "left": null,
            "margin": null,
            "max_height": null,
            "max_width": null,
            "min_height": null,
            "min_width": null,
            "object_fit": null,
            "object_position": null,
            "order": null,
            "overflow": null,
            "overflow_x": null,
            "overflow_y": null,
            "padding": null,
            "right": null,
            "top": null,
            "visibility": null,
            "width": null
          }
        },
        "1c468a5150034bcba1a4c84752e65566": {
          "model_module": "@jupyter-widgets/controls",
          "model_name": "ProgressStyleModel",
          "model_module_version": "1.5.0",
          "state": {
            "_model_module": "@jupyter-widgets/controls",
            "_model_module_version": "1.5.0",
            "_model_name": "ProgressStyleModel",
            "_view_count": null,
            "_view_module": "@jupyter-widgets/base",
            "_view_module_version": "1.2.0",
            "_view_name": "StyleView",
            "bar_color": null,
            "description_width": ""
          }
        },
        "cfa5ef6cb5964a1b94bc832300dd10c6": {
          "model_module": "@jupyter-widgets/base",
          "model_name": "LayoutModel",
          "model_module_version": "1.2.0",
          "state": {
            "_model_module": "@jupyter-widgets/base",
            "_model_module_version": "1.2.0",
            "_model_name": "LayoutModel",
            "_view_count": null,
            "_view_module": "@jupyter-widgets/base",
            "_view_module_version": "1.2.0",
            "_view_name": "LayoutView",
            "align_content": null,
            "align_items": null,
            "align_self": null,
            "border": null,
            "bottom": null,
            "display": null,
            "flex": null,
            "flex_flow": null,
            "grid_area": null,
            "grid_auto_columns": null,
            "grid_auto_flow": null,
            "grid_auto_rows": null,
            "grid_column": null,
            "grid_gap": null,
            "grid_row": null,
            "grid_template_areas": null,
            "grid_template_columns": null,
            "grid_template_rows": null,
            "height": null,
            "justify_content": null,
            "justify_items": null,
            "left": null,
            "margin": null,
            "max_height": null,
            "max_width": null,
            "min_height": null,
            "min_width": null,
            "object_fit": null,
            "object_position": null,
            "order": null,
            "overflow": null,
            "overflow_x": null,
            "overflow_y": null,
            "padding": null,
            "right": null,
            "top": null,
            "visibility": null,
            "width": null
          }
        },
        "a55df53652a74da3b80a47dae9801af0": {
          "model_module": "@jupyter-widgets/controls",
          "model_name": "DescriptionStyleModel",
          "model_module_version": "1.5.0",
          "state": {
            "_model_module": "@jupyter-widgets/controls",
            "_model_module_version": "1.5.0",
            "_model_name": "DescriptionStyleModel",
            "_view_count": null,
            "_view_module": "@jupyter-widgets/base",
            "_view_module_version": "1.2.0",
            "_view_name": "StyleView",
            "description_width": ""
          }
        },
        "8b86b0b97b844100b78275d12e28a659": {
          "model_module": "@jupyter-widgets/controls",
          "model_name": "HBoxModel",
          "model_module_version": "1.5.0",
          "state": {
            "_dom_classes": [],
            "_model_module": "@jupyter-widgets/controls",
            "_model_module_version": "1.5.0",
            "_model_name": "HBoxModel",
            "_view_count": null,
            "_view_module": "@jupyter-widgets/controls",
            "_view_module_version": "1.5.0",
            "_view_name": "HBoxView",
            "box_style": "",
            "children": [
              "IPY_MODEL_b3ee0b25e1de436daba552aecbbf33f6",
              "IPY_MODEL_db6d24525aa74eafa4afd945e57a8906",
              "IPY_MODEL_3c7e5f9efd8847548e9f36779acc3595"
            ],
            "layout": "IPY_MODEL_a9a8571aa82948b199930208ae4f2d70"
          }
        },
        "b3ee0b25e1de436daba552aecbbf33f6": {
          "model_module": "@jupyter-widgets/controls",
          "model_name": "HTMLModel",
          "model_module_version": "1.5.0",
          "state": {
            "_dom_classes": [],
            "_model_module": "@jupyter-widgets/controls",
            "_model_module_version": "1.5.0",
            "_model_name": "HTMLModel",
            "_view_count": null,
            "_view_module": "@jupyter-widgets/controls",
            "_view_module_version": "1.5.0",
            "_view_name": "HTMLView",
            "description": "",
            "description_tooltip": null,
            "layout": "IPY_MODEL_f7b36ef8f49848bfbd264f702bebfb00",
            "placeholder": "​",
            "style": "IPY_MODEL_3f4dbb9c170f41c78242a9b3a8c3f7d5",
            "value": "Downloading (…)lve/main/config.json: 100%"
          }
        },
        "db6d24525aa74eafa4afd945e57a8906": {
          "model_module": "@jupyter-widgets/controls",
          "model_name": "FloatProgressModel",
          "model_module_version": "1.5.0",
          "state": {
            "_dom_classes": [],
            "_model_module": "@jupyter-widgets/controls",
            "_model_module_version": "1.5.0",
            "_model_name": "FloatProgressModel",
            "_view_count": null,
            "_view_module": "@jupyter-widgets/controls",
            "_view_module_version": "1.5.0",
            "_view_name": "ProgressView",
            "bar_style": "success",
            "description": "",
            "description_tooltip": null,
            "layout": "IPY_MODEL_c3bb7ce6d1514804aa050c813469b7f1",
            "max": 385,
            "min": 0,
            "orientation": "horizontal",
            "style": "IPY_MODEL_cbcdc0819bfa4b47bab6567be963c54e",
            "value": 385
          }
        },
        "3c7e5f9efd8847548e9f36779acc3595": {
          "model_module": "@jupyter-widgets/controls",
          "model_name": "HTMLModel",
          "model_module_version": "1.5.0",
          "state": {
            "_dom_classes": [],
            "_model_module": "@jupyter-widgets/controls",
            "_model_module_version": "1.5.0",
            "_model_name": "HTMLModel",
            "_view_count": null,
            "_view_module": "@jupyter-widgets/controls",
            "_view_module_version": "1.5.0",
            "_view_name": "HTMLView",
            "description": "",
            "description_tooltip": null,
            "layout": "IPY_MODEL_f80de835da5d44bca3ea90178777b916",
            "placeholder": "​",
            "style": "IPY_MODEL_4b71c0ba42d64349bcd49c28cb6e890a",
            "value": " 385/385 [00:00&lt;00:00, 24.5kB/s]"
          }
        },
        "a9a8571aa82948b199930208ae4f2d70": {
          "model_module": "@jupyter-widgets/base",
          "model_name": "LayoutModel",
          "model_module_version": "1.2.0",
          "state": {
            "_model_module": "@jupyter-widgets/base",
            "_model_module_version": "1.2.0",
            "_model_name": "LayoutModel",
            "_view_count": null,
            "_view_module": "@jupyter-widgets/base",
            "_view_module_version": "1.2.0",
            "_view_name": "LayoutView",
            "align_content": null,
            "align_items": null,
            "align_self": null,
            "border": null,
            "bottom": null,
            "display": null,
            "flex": null,
            "flex_flow": null,
            "grid_area": null,
            "grid_auto_columns": null,
            "grid_auto_flow": null,
            "grid_auto_rows": null,
            "grid_column": null,
            "grid_gap": null,
            "grid_row": null,
            "grid_template_areas": null,
            "grid_template_columns": null,
            "grid_template_rows": null,
            "height": null,
            "justify_content": null,
            "justify_items": null,
            "left": null,
            "margin": null,
            "max_height": null,
            "max_width": null,
            "min_height": null,
            "min_width": null,
            "object_fit": null,
            "object_position": null,
            "order": null,
            "overflow": null,
            "overflow_x": null,
            "overflow_y": null,
            "padding": null,
            "right": null,
            "top": null,
            "visibility": null,
            "width": null
          }
        },
        "f7b36ef8f49848bfbd264f702bebfb00": {
          "model_module": "@jupyter-widgets/base",
          "model_name": "LayoutModel",
          "model_module_version": "1.2.0",
          "state": {
            "_model_module": "@jupyter-widgets/base",
            "_model_module_version": "1.2.0",
            "_model_name": "LayoutModel",
            "_view_count": null,
            "_view_module": "@jupyter-widgets/base",
            "_view_module_version": "1.2.0",
            "_view_name": "LayoutView",
            "align_content": null,
            "align_items": null,
            "align_self": null,
            "border": null,
            "bottom": null,
            "display": null,
            "flex": null,
            "flex_flow": null,
            "grid_area": null,
            "grid_auto_columns": null,
            "grid_auto_flow": null,
            "grid_auto_rows": null,
            "grid_column": null,
            "grid_gap": null,
            "grid_row": null,
            "grid_template_areas": null,
            "grid_template_columns": null,
            "grid_template_rows": null,
            "height": null,
            "justify_content": null,
            "justify_items": null,
            "left": null,
            "margin": null,
            "max_height": null,
            "max_width": null,
            "min_height": null,
            "min_width": null,
            "object_fit": null,
            "object_position": null,
            "order": null,
            "overflow": null,
            "overflow_x": null,
            "overflow_y": null,
            "padding": null,
            "right": null,
            "top": null,
            "visibility": null,
            "width": null
          }
        },
        "3f4dbb9c170f41c78242a9b3a8c3f7d5": {
          "model_module": "@jupyter-widgets/controls",
          "model_name": "DescriptionStyleModel",
          "model_module_version": "1.5.0",
          "state": {
            "_model_module": "@jupyter-widgets/controls",
            "_model_module_version": "1.5.0",
            "_model_name": "DescriptionStyleModel",
            "_view_count": null,
            "_view_module": "@jupyter-widgets/base",
            "_view_module_version": "1.2.0",
            "_view_name": "StyleView",
            "description_width": ""
          }
        },
        "c3bb7ce6d1514804aa050c813469b7f1": {
          "model_module": "@jupyter-widgets/base",
          "model_name": "LayoutModel",
          "model_module_version": "1.2.0",
          "state": {
            "_model_module": "@jupyter-widgets/base",
            "_model_module_version": "1.2.0",
            "_model_name": "LayoutModel",
            "_view_count": null,
            "_view_module": "@jupyter-widgets/base",
            "_view_module_version": "1.2.0",
            "_view_name": "LayoutView",
            "align_content": null,
            "align_items": null,
            "align_self": null,
            "border": null,
            "bottom": null,
            "display": null,
            "flex": null,
            "flex_flow": null,
            "grid_area": null,
            "grid_auto_columns": null,
            "grid_auto_flow": null,
            "grid_auto_rows": null,
            "grid_column": null,
            "grid_gap": null,
            "grid_row": null,
            "grid_template_areas": null,
            "grid_template_columns": null,
            "grid_template_rows": null,
            "height": null,
            "justify_content": null,
            "justify_items": null,
            "left": null,
            "margin": null,
            "max_height": null,
            "max_width": null,
            "min_height": null,
            "min_width": null,
            "object_fit": null,
            "object_position": null,
            "order": null,
            "overflow": null,
            "overflow_x": null,
            "overflow_y": null,
            "padding": null,
            "right": null,
            "top": null,
            "visibility": null,
            "width": null
          }
        },
        "cbcdc0819bfa4b47bab6567be963c54e": {
          "model_module": "@jupyter-widgets/controls",
          "model_name": "ProgressStyleModel",
          "model_module_version": "1.5.0",
          "state": {
            "_model_module": "@jupyter-widgets/controls",
            "_model_module_version": "1.5.0",
            "_model_name": "ProgressStyleModel",
            "_view_count": null,
            "_view_module": "@jupyter-widgets/base",
            "_view_module_version": "1.2.0",
            "_view_name": "StyleView",
            "bar_color": null,
            "description_width": ""
          }
        },
        "f80de835da5d44bca3ea90178777b916": {
          "model_module": "@jupyter-widgets/base",
          "model_name": "LayoutModel",
          "model_module_version": "1.2.0",
          "state": {
            "_model_module": "@jupyter-widgets/base",
            "_model_module_version": "1.2.0",
            "_model_name": "LayoutModel",
            "_view_count": null,
            "_view_module": "@jupyter-widgets/base",
            "_view_module_version": "1.2.0",
            "_view_name": "LayoutView",
            "align_content": null,
            "align_items": null,
            "align_self": null,
            "border": null,
            "bottom": null,
            "display": null,
            "flex": null,
            "flex_flow": null,
            "grid_area": null,
            "grid_auto_columns": null,
            "grid_auto_flow": null,
            "grid_auto_rows": null,
            "grid_column": null,
            "grid_gap": null,
            "grid_row": null,
            "grid_template_areas": null,
            "grid_template_columns": null,
            "grid_template_rows": null,
            "height": null,
            "justify_content": null,
            "justify_items": null,
            "left": null,
            "margin": null,
            "max_height": null,
            "max_width": null,
            "min_height": null,
            "min_width": null,
            "object_fit": null,
            "object_position": null,
            "order": null,
            "overflow": null,
            "overflow_x": null,
            "overflow_y": null,
            "padding": null,
            "right": null,
            "top": null,
            "visibility": null,
            "width": null
          }
        },
        "4b71c0ba42d64349bcd49c28cb6e890a": {
          "model_module": "@jupyter-widgets/controls",
          "model_name": "DescriptionStyleModel",
          "model_module_version": "1.5.0",
          "state": {
            "_model_module": "@jupyter-widgets/controls",
            "_model_module_version": "1.5.0",
            "_model_name": "DescriptionStyleModel",
            "_view_count": null,
            "_view_module": "@jupyter-widgets/base",
            "_view_module_version": "1.2.0",
            "_view_name": "StyleView",
            "description_width": ""
          }
        },
        "f1fb47d42d0245ca83cd9c1371c9a241": {
          "model_module": "@jupyter-widgets/controls",
          "model_name": "HBoxModel",
          "model_module_version": "1.5.0",
          "state": {
            "_dom_classes": [],
            "_model_module": "@jupyter-widgets/controls",
            "_model_module_version": "1.5.0",
            "_model_name": "HBoxModel",
            "_view_count": null,
            "_view_module": "@jupyter-widgets/controls",
            "_view_module_version": "1.5.0",
            "_view_name": "HBoxView",
            "box_style": "",
            "children": [
              "IPY_MODEL_93548e43d65f41679648b3556c6d9217",
              "IPY_MODEL_6c16255c3d584a9f8bbd4a3e781e1323",
              "IPY_MODEL_a61e2832d4ae4a79b35d669d61aa7f7f"
            ],
            "layout": "IPY_MODEL_6f426027b79e45809ba16aec43797c70"
          }
        },
        "93548e43d65f41679648b3556c6d9217": {
          "model_module": "@jupyter-widgets/controls",
          "model_name": "HTMLModel",
          "model_module_version": "1.5.0",
          "state": {
            "_dom_classes": [],
            "_model_module": "@jupyter-widgets/controls",
            "_model_module_version": "1.5.0",
            "_model_name": "HTMLModel",
            "_view_count": null,
            "_view_module": "@jupyter-widgets/controls",
            "_view_module_version": "1.5.0",
            "_view_name": "HTMLView",
            "description": "",
            "description_tooltip": null,
            "layout": "IPY_MODEL_3a67f84a0f3740e3b7afd6204460d16e",
            "placeholder": "​",
            "style": "IPY_MODEL_946951b598c44fbfb3de704f06590269",
            "value": "Downloading pytorch_model.bin: 100%"
          }
        },
        "6c16255c3d584a9f8bbd4a3e781e1323": {
          "model_module": "@jupyter-widgets/controls",
          "model_name": "FloatProgressModel",
          "model_module_version": "1.5.0",
          "state": {
            "_dom_classes": [],
            "_model_module": "@jupyter-widgets/controls",
            "_model_module_version": "1.5.0",
            "_model_name": "FloatProgressModel",
            "_view_count": null,
            "_view_module": "@jupyter-widgets/controls",
            "_view_module_version": "1.5.0",
            "_view_name": "ProgressView",
            "bar_style": "success",
            "description": "",
            "description_tooltip": null,
            "layout": "IPY_MODEL_140147c795ca411d803b1357f5a37adf",
            "max": 440472395,
            "min": 0,
            "orientation": "horizontal",
            "style": "IPY_MODEL_a76058be2b884c05b0b9ffbcc5d556df",
            "value": 440472395
          }
        },
        "a61e2832d4ae4a79b35d669d61aa7f7f": {
          "model_module": "@jupyter-widgets/controls",
          "model_name": "HTMLModel",
          "model_module_version": "1.5.0",
          "state": {
            "_dom_classes": [],
            "_model_module": "@jupyter-widgets/controls",
            "_model_module_version": "1.5.0",
            "_model_name": "HTMLModel",
            "_view_count": null,
            "_view_module": "@jupyter-widgets/controls",
            "_view_module_version": "1.5.0",
            "_view_name": "HTMLView",
            "description": "",
            "description_tooltip": null,
            "layout": "IPY_MODEL_d15e205cff244fc59e19f8cc23238b58",
            "placeholder": "​",
            "style": "IPY_MODEL_dc9bd09461d443d2a423405941ff238e",
            "value": " 440M/440M [00:11&lt;00:00, 39.4MB/s]"
          }
        },
        "6f426027b79e45809ba16aec43797c70": {
          "model_module": "@jupyter-widgets/base",
          "model_name": "LayoutModel",
          "model_module_version": "1.2.0",
          "state": {
            "_model_module": "@jupyter-widgets/base",
            "_model_module_version": "1.2.0",
            "_model_name": "LayoutModel",
            "_view_count": null,
            "_view_module": "@jupyter-widgets/base",
            "_view_module_version": "1.2.0",
            "_view_name": "LayoutView",
            "align_content": null,
            "align_items": null,
            "align_self": null,
            "border": null,
            "bottom": null,
            "display": null,
            "flex": null,
            "flex_flow": null,
            "grid_area": null,
            "grid_auto_columns": null,
            "grid_auto_flow": null,
            "grid_auto_rows": null,
            "grid_column": null,
            "grid_gap": null,
            "grid_row": null,
            "grid_template_areas": null,
            "grid_template_columns": null,
            "grid_template_rows": null,
            "height": null,
            "justify_content": null,
            "justify_items": null,
            "left": null,
            "margin": null,
            "max_height": null,
            "max_width": null,
            "min_height": null,
            "min_width": null,
            "object_fit": null,
            "object_position": null,
            "order": null,
            "overflow": null,
            "overflow_x": null,
            "overflow_y": null,
            "padding": null,
            "right": null,
            "top": null,
            "visibility": null,
            "width": null
          }
        },
        "3a67f84a0f3740e3b7afd6204460d16e": {
          "model_module": "@jupyter-widgets/base",
          "model_name": "LayoutModel",
          "model_module_version": "1.2.0",
          "state": {
            "_model_module": "@jupyter-widgets/base",
            "_model_module_version": "1.2.0",
            "_model_name": "LayoutModel",
            "_view_count": null,
            "_view_module": "@jupyter-widgets/base",
            "_view_module_version": "1.2.0",
            "_view_name": "LayoutView",
            "align_content": null,
            "align_items": null,
            "align_self": null,
            "border": null,
            "bottom": null,
            "display": null,
            "flex": null,
            "flex_flow": null,
            "grid_area": null,
            "grid_auto_columns": null,
            "grid_auto_flow": null,
            "grid_auto_rows": null,
            "grid_column": null,
            "grid_gap": null,
            "grid_row": null,
            "grid_template_areas": null,
            "grid_template_columns": null,
            "grid_template_rows": null,
            "height": null,
            "justify_content": null,
            "justify_items": null,
            "left": null,
            "margin": null,
            "max_height": null,
            "max_width": null,
            "min_height": null,
            "min_width": null,
            "object_fit": null,
            "object_position": null,
            "order": null,
            "overflow": null,
            "overflow_x": null,
            "overflow_y": null,
            "padding": null,
            "right": null,
            "top": null,
            "visibility": null,
            "width": null
          }
        },
        "946951b598c44fbfb3de704f06590269": {
          "model_module": "@jupyter-widgets/controls",
          "model_name": "DescriptionStyleModel",
          "model_module_version": "1.5.0",
          "state": {
            "_model_module": "@jupyter-widgets/controls",
            "_model_module_version": "1.5.0",
            "_model_name": "DescriptionStyleModel",
            "_view_count": null,
            "_view_module": "@jupyter-widgets/base",
            "_view_module_version": "1.2.0",
            "_view_name": "StyleView",
            "description_width": ""
          }
        },
        "140147c795ca411d803b1357f5a37adf": {
          "model_module": "@jupyter-widgets/base",
          "model_name": "LayoutModel",
          "model_module_version": "1.2.0",
          "state": {
            "_model_module": "@jupyter-widgets/base",
            "_model_module_version": "1.2.0",
            "_model_name": "LayoutModel",
            "_view_count": null,
            "_view_module": "@jupyter-widgets/base",
            "_view_module_version": "1.2.0",
            "_view_name": "LayoutView",
            "align_content": null,
            "align_items": null,
            "align_self": null,
            "border": null,
            "bottom": null,
            "display": null,
            "flex": null,
            "flex_flow": null,
            "grid_area": null,
            "grid_auto_columns": null,
            "grid_auto_flow": null,
            "grid_auto_rows": null,
            "grid_column": null,
            "grid_gap": null,
            "grid_row": null,
            "grid_template_areas": null,
            "grid_template_columns": null,
            "grid_template_rows": null,
            "height": null,
            "justify_content": null,
            "justify_items": null,
            "left": null,
            "margin": null,
            "max_height": null,
            "max_width": null,
            "min_height": null,
            "min_width": null,
            "object_fit": null,
            "object_position": null,
            "order": null,
            "overflow": null,
            "overflow_x": null,
            "overflow_y": null,
            "padding": null,
            "right": null,
            "top": null,
            "visibility": null,
            "width": null
          }
        },
        "a76058be2b884c05b0b9ffbcc5d556df": {
          "model_module": "@jupyter-widgets/controls",
          "model_name": "ProgressStyleModel",
          "model_module_version": "1.5.0",
          "state": {
            "_model_module": "@jupyter-widgets/controls",
            "_model_module_version": "1.5.0",
            "_model_name": "ProgressStyleModel",
            "_view_count": null,
            "_view_module": "@jupyter-widgets/base",
            "_view_module_version": "1.2.0",
            "_view_name": "StyleView",
            "bar_color": null,
            "description_width": ""
          }
        },
        "d15e205cff244fc59e19f8cc23238b58": {
          "model_module": "@jupyter-widgets/base",
          "model_name": "LayoutModel",
          "model_module_version": "1.2.0",
          "state": {
            "_model_module": "@jupyter-widgets/base",
            "_model_module_version": "1.2.0",
            "_model_name": "LayoutModel",
            "_view_count": null,
            "_view_module": "@jupyter-widgets/base",
            "_view_module_version": "1.2.0",
            "_view_name": "LayoutView",
            "align_content": null,
            "align_items": null,
            "align_self": null,
            "border": null,
            "bottom": null,
            "display": null,
            "flex": null,
            "flex_flow": null,
            "grid_area": null,
            "grid_auto_columns": null,
            "grid_auto_flow": null,
            "grid_auto_rows": null,
            "grid_column": null,
            "grid_gap": null,
            "grid_row": null,
            "grid_template_areas": null,
            "grid_template_columns": null,
            "grid_template_rows": null,
            "height": null,
            "justify_content": null,
            "justify_items": null,
            "left": null,
            "margin": null,
            "max_height": null,
            "max_width": null,
            "min_height": null,
            "min_width": null,
            "object_fit": null,
            "object_position": null,
            "order": null,
            "overflow": null,
            "overflow_x": null,
            "overflow_y": null,
            "padding": null,
            "right": null,
            "top": null,
            "visibility": null,
            "width": null
          }
        },
        "dc9bd09461d443d2a423405941ff238e": {
          "model_module": "@jupyter-widgets/controls",
          "model_name": "DescriptionStyleModel",
          "model_module_version": "1.5.0",
          "state": {
            "_model_module": "@jupyter-widgets/controls",
            "_model_module_version": "1.5.0",
            "_model_name": "DescriptionStyleModel",
            "_view_count": null,
            "_view_module": "@jupyter-widgets/base",
            "_view_module_version": "1.2.0",
            "_view_name": "StyleView",
            "description_width": ""
          }
        }
      }
    }
  },
  "cells": [
    {
      "cell_type": "code",
      "execution_count": 1,
      "metadata": {
        "colab": {
          "base_uri": "https://localhost:8080/"
        },
        "id": "3LcktL1ItHUq",
        "outputId": "d79a0fea-9c51-4af9-8b96-42d8ed739e91"
      },
      "outputs": [
        {
          "output_type": "stream",
          "name": "stdout",
          "text": [
            "Looking in indexes: https://pypi.org/simple, https://us-python.pkg.dev/colab-wheels/public/simple/\n",
            "Collecting booknlp\n",
            "  Downloading booknlp-1.0.7.tar.gz (2.4 MB)\n",
            "\u001b[2K     \u001b[90m━━━━━━━━━━━━━━━━━━━━━━━━━━━━━━━━━━━━━━━━\u001b[0m \u001b[32m2.4/2.4 MB\u001b[0m \u001b[31m12.5 MB/s\u001b[0m eta \u001b[36m0:00:00\u001b[0m\n",
            "\u001b[?25h  Preparing metadata (setup.py) ... \u001b[?25l\u001b[?25hdone\n",
            "Requirement already satisfied: torch>=1.7.1 in /usr/local/lib/python3.10/dist-packages (from booknlp) (2.0.1+cu118)\n",
            "Requirement already satisfied: tensorflow>=1.15 in /usr/local/lib/python3.10/dist-packages (from booknlp) (2.12.0)\n",
            "Requirement already satisfied: spacy>=3 in /usr/local/lib/python3.10/dist-packages (from booknlp) (3.5.2)\n",
            "Collecting transformers>=4.11.3 (from booknlp)\n",
            "  Downloading transformers-4.29.2-py3-none-any.whl (7.1 MB)\n",
            "\u001b[2K     \u001b[90m━━━━━━━━━━━━━━━━━━━━━━━━━━━━━━━━━━━━━━━━\u001b[0m \u001b[32m7.1/7.1 MB\u001b[0m \u001b[31m35.5 MB/s\u001b[0m eta \u001b[36m0:00:00\u001b[0m\n",
            "\u001b[?25hRequirement already satisfied: spacy-legacy<3.1.0,>=3.0.11 in /usr/local/lib/python3.10/dist-packages (from spacy>=3->booknlp) (3.0.12)\n",
            "Requirement already satisfied: spacy-loggers<2.0.0,>=1.0.0 in /usr/local/lib/python3.10/dist-packages (from spacy>=3->booknlp) (1.0.4)\n",
            "Requirement already satisfied: murmurhash<1.1.0,>=0.28.0 in /usr/local/lib/python3.10/dist-packages (from spacy>=3->booknlp) (1.0.9)\n",
            "Requirement already satisfied: cymem<2.1.0,>=2.0.2 in /usr/local/lib/python3.10/dist-packages (from spacy>=3->booknlp) (2.0.7)\n",
            "Requirement already satisfied: preshed<3.1.0,>=3.0.2 in /usr/local/lib/python3.10/dist-packages (from spacy>=3->booknlp) (3.0.8)\n",
            "Requirement already satisfied: thinc<8.2.0,>=8.1.8 in /usr/local/lib/python3.10/dist-packages (from spacy>=3->booknlp) (8.1.9)\n",
            "Requirement already satisfied: wasabi<1.2.0,>=0.9.1 in /usr/local/lib/python3.10/dist-packages (from spacy>=3->booknlp) (1.1.1)\n",
            "Requirement already satisfied: srsly<3.0.0,>=2.4.3 in /usr/local/lib/python3.10/dist-packages (from spacy>=3->booknlp) (2.4.6)\n",
            "Requirement already satisfied: catalogue<2.1.0,>=2.0.6 in /usr/local/lib/python3.10/dist-packages (from spacy>=3->booknlp) (2.0.8)\n",
            "Requirement already satisfied: typer<0.8.0,>=0.3.0 in /usr/local/lib/python3.10/dist-packages (from spacy>=3->booknlp) (0.7.0)\n",
            "Requirement already satisfied: pathy>=0.10.0 in /usr/local/lib/python3.10/dist-packages (from spacy>=3->booknlp) (0.10.1)\n",
            "Requirement already satisfied: smart-open<7.0.0,>=5.2.1 in /usr/local/lib/python3.10/dist-packages (from spacy>=3->booknlp) (6.3.0)\n",
            "Requirement already satisfied: tqdm<5.0.0,>=4.38.0 in /usr/local/lib/python3.10/dist-packages (from spacy>=3->booknlp) (4.65.0)\n",
            "Requirement already satisfied: numpy>=1.15.0 in /usr/local/lib/python3.10/dist-packages (from spacy>=3->booknlp) (1.22.4)\n",
            "Requirement already satisfied: requests<3.0.0,>=2.13.0 in /usr/local/lib/python3.10/dist-packages (from spacy>=3->booknlp) (2.27.1)\n",
            "Requirement already satisfied: pydantic!=1.8,!=1.8.1,<1.11.0,>=1.7.4 in /usr/local/lib/python3.10/dist-packages (from spacy>=3->booknlp) (1.10.7)\n",
            "Requirement already satisfied: jinja2 in /usr/local/lib/python3.10/dist-packages (from spacy>=3->booknlp) (3.1.2)\n",
            "Requirement already satisfied: setuptools in /usr/local/lib/python3.10/dist-packages (from spacy>=3->booknlp) (67.7.2)\n",
            "Requirement already satisfied: packaging>=20.0 in /usr/local/lib/python3.10/dist-packages (from spacy>=3->booknlp) (23.1)\n",
            "Requirement already satisfied: langcodes<4.0.0,>=3.2.0 in /usr/local/lib/python3.10/dist-packages (from spacy>=3->booknlp) (3.3.0)\n",
            "Requirement already satisfied: absl-py>=1.0.0 in /usr/local/lib/python3.10/dist-packages (from tensorflow>=1.15->booknlp) (1.4.0)\n",
            "Requirement already satisfied: astunparse>=1.6.0 in /usr/local/lib/python3.10/dist-packages (from tensorflow>=1.15->booknlp) (1.6.3)\n",
            "Requirement already satisfied: flatbuffers>=2.0 in /usr/local/lib/python3.10/dist-packages (from tensorflow>=1.15->booknlp) (23.3.3)\n",
            "Requirement already satisfied: gast<=0.4.0,>=0.2.1 in /usr/local/lib/python3.10/dist-packages (from tensorflow>=1.15->booknlp) (0.4.0)\n",
            "Requirement already satisfied: google-pasta>=0.1.1 in /usr/local/lib/python3.10/dist-packages (from tensorflow>=1.15->booknlp) (0.2.0)\n",
            "Requirement already satisfied: grpcio<2.0,>=1.24.3 in /usr/local/lib/python3.10/dist-packages (from tensorflow>=1.15->booknlp) (1.54.0)\n",
            "Requirement already satisfied: h5py>=2.9.0 in /usr/local/lib/python3.10/dist-packages (from tensorflow>=1.15->booknlp) (3.8.0)\n",
            "Requirement already satisfied: jax>=0.3.15 in /usr/local/lib/python3.10/dist-packages (from tensorflow>=1.15->booknlp) (0.4.10)\n",
            "Requirement already satisfied: keras<2.13,>=2.12.0 in /usr/local/lib/python3.10/dist-packages (from tensorflow>=1.15->booknlp) (2.12.0)\n",
            "Requirement already satisfied: libclang>=13.0.0 in /usr/local/lib/python3.10/dist-packages (from tensorflow>=1.15->booknlp) (16.0.0)\n",
            "Requirement already satisfied: opt-einsum>=2.3.2 in /usr/local/lib/python3.10/dist-packages (from tensorflow>=1.15->booknlp) (3.3.0)\n",
            "Requirement already satisfied: protobuf!=4.21.0,!=4.21.1,!=4.21.2,!=4.21.3,!=4.21.4,!=4.21.5,<5.0.0dev,>=3.20.3 in /usr/local/lib/python3.10/dist-packages (from tensorflow>=1.15->booknlp) (3.20.3)\n",
            "Requirement already satisfied: six>=1.12.0 in /usr/local/lib/python3.10/dist-packages (from tensorflow>=1.15->booknlp) (1.16.0)\n",
            "Requirement already satisfied: tensorboard<2.13,>=2.12 in /usr/local/lib/python3.10/dist-packages (from tensorflow>=1.15->booknlp) (2.12.2)\n",
            "Requirement already satisfied: tensorflow-estimator<2.13,>=2.12.0 in /usr/local/lib/python3.10/dist-packages (from tensorflow>=1.15->booknlp) (2.12.0)\n",
            "Requirement already satisfied: termcolor>=1.1.0 in /usr/local/lib/python3.10/dist-packages (from tensorflow>=1.15->booknlp) (2.3.0)\n",
            "Requirement already satisfied: typing-extensions>=3.6.6 in /usr/local/lib/python3.10/dist-packages (from tensorflow>=1.15->booknlp) (4.5.0)\n",
            "Requirement already satisfied: wrapt<1.15,>=1.11.0 in /usr/local/lib/python3.10/dist-packages (from tensorflow>=1.15->booknlp) (1.14.1)\n",
            "Requirement already satisfied: tensorflow-io-gcs-filesystem>=0.23.1 in /usr/local/lib/python3.10/dist-packages (from tensorflow>=1.15->booknlp) (0.32.0)\n",
            "Requirement already satisfied: filelock in /usr/local/lib/python3.10/dist-packages (from torch>=1.7.1->booknlp) (3.12.0)\n",
            "Requirement already satisfied: sympy in /usr/local/lib/python3.10/dist-packages (from torch>=1.7.1->booknlp) (1.11.1)\n",
            "Requirement already satisfied: networkx in /usr/local/lib/python3.10/dist-packages (from torch>=1.7.1->booknlp) (3.1)\n",
            "Requirement already satisfied: triton==2.0.0 in /usr/local/lib/python3.10/dist-packages (from torch>=1.7.1->booknlp) (2.0.0)\n",
            "Requirement already satisfied: cmake in /usr/local/lib/python3.10/dist-packages (from triton==2.0.0->torch>=1.7.1->booknlp) (3.25.2)\n",
            "Requirement already satisfied: lit in /usr/local/lib/python3.10/dist-packages (from triton==2.0.0->torch>=1.7.1->booknlp) (16.0.5)\n",
            "Collecting huggingface-hub<1.0,>=0.14.1 (from transformers>=4.11.3->booknlp)\n",
            "  Downloading huggingface_hub-0.14.1-py3-none-any.whl (224 kB)\n",
            "\u001b[2K     \u001b[90m━━━━━━━━━━━━━━━━━━━━━━━━━━━━━━━━━━━━━━━\u001b[0m \u001b[32m224.5/224.5 kB\u001b[0m \u001b[31m7.2 MB/s\u001b[0m eta \u001b[36m0:00:00\u001b[0m\n",
            "\u001b[?25hRequirement already satisfied: pyyaml>=5.1 in /usr/local/lib/python3.10/dist-packages (from transformers>=4.11.3->booknlp) (6.0)\n",
            "Requirement already satisfied: regex!=2019.12.17 in /usr/local/lib/python3.10/dist-packages (from transformers>=4.11.3->booknlp) (2022.10.31)\n",
            "Collecting tokenizers!=0.11.3,<0.14,>=0.11.1 (from transformers>=4.11.3->booknlp)\n",
            "  Downloading tokenizers-0.13.3-cp310-cp310-manylinux_2_17_x86_64.manylinux2014_x86_64.whl (7.8 MB)\n",
            "\u001b[2K     \u001b[90m━━━━━━━━━━━━━━━━━━━━━━━━━━━━━━━━━━━━━━━━\u001b[0m \u001b[32m7.8/7.8 MB\u001b[0m \u001b[31m80.7 MB/s\u001b[0m eta \u001b[36m0:00:00\u001b[0m\n",
            "\u001b[?25hRequirement already satisfied: wheel<1.0,>=0.23.0 in /usr/local/lib/python3.10/dist-packages (from astunparse>=1.6.0->tensorflow>=1.15->booknlp) (0.40.0)\n",
            "Requirement already satisfied: fsspec in /usr/local/lib/python3.10/dist-packages (from huggingface-hub<1.0,>=0.14.1->transformers>=4.11.3->booknlp) (2023.4.0)\n",
            "Requirement already satisfied: ml-dtypes>=0.1.0 in /usr/local/lib/python3.10/dist-packages (from jax>=0.3.15->tensorflow>=1.15->booknlp) (0.1.0)\n",
            "Requirement already satisfied: scipy>=1.7 in /usr/local/lib/python3.10/dist-packages (from jax>=0.3.15->tensorflow>=1.15->booknlp) (1.10.1)\n",
            "Requirement already satisfied: urllib3<1.27,>=1.21.1 in /usr/local/lib/python3.10/dist-packages (from requests<3.0.0,>=2.13.0->spacy>=3->booknlp) (1.26.15)\n",
            "Requirement already satisfied: certifi>=2017.4.17 in /usr/local/lib/python3.10/dist-packages (from requests<3.0.0,>=2.13.0->spacy>=3->booknlp) (2022.12.7)\n",
            "Requirement already satisfied: charset-normalizer~=2.0.0 in /usr/local/lib/python3.10/dist-packages (from requests<3.0.0,>=2.13.0->spacy>=3->booknlp) (2.0.12)\n",
            "Requirement already satisfied: idna<4,>=2.5 in /usr/local/lib/python3.10/dist-packages (from requests<3.0.0,>=2.13.0->spacy>=3->booknlp) (3.4)\n",
            "Requirement already satisfied: google-auth<3,>=1.6.3 in /usr/local/lib/python3.10/dist-packages (from tensorboard<2.13,>=2.12->tensorflow>=1.15->booknlp) (2.17.3)\n",
            "Requirement already satisfied: google-auth-oauthlib<1.1,>=0.5 in /usr/local/lib/python3.10/dist-packages (from tensorboard<2.13,>=2.12->tensorflow>=1.15->booknlp) (1.0.0)\n",
            "Requirement already satisfied: markdown>=2.6.8 in /usr/local/lib/python3.10/dist-packages (from tensorboard<2.13,>=2.12->tensorflow>=1.15->booknlp) (3.4.3)\n",
            "Requirement already satisfied: tensorboard-data-server<0.8.0,>=0.7.0 in /usr/local/lib/python3.10/dist-packages (from tensorboard<2.13,>=2.12->tensorflow>=1.15->booknlp) (0.7.0)\n",
            "Requirement already satisfied: tensorboard-plugin-wit>=1.6.0 in /usr/local/lib/python3.10/dist-packages (from tensorboard<2.13,>=2.12->tensorflow>=1.15->booknlp) (1.8.1)\n",
            "Requirement already satisfied: werkzeug>=1.0.1 in /usr/local/lib/python3.10/dist-packages (from tensorboard<2.13,>=2.12->tensorflow>=1.15->booknlp) (2.3.0)\n",
            "Requirement already satisfied: blis<0.8.0,>=0.7.8 in /usr/local/lib/python3.10/dist-packages (from thinc<8.2.0,>=8.1.8->spacy>=3->booknlp) (0.7.9)\n",
            "Requirement already satisfied: confection<1.0.0,>=0.0.1 in /usr/local/lib/python3.10/dist-packages (from thinc<8.2.0,>=8.1.8->spacy>=3->booknlp) (0.0.4)\n",
            "Requirement already satisfied: click<9.0.0,>=7.1.1 in /usr/local/lib/python3.10/dist-packages (from typer<0.8.0,>=0.3.0->spacy>=3->booknlp) (8.1.3)\n",
            "Requirement already satisfied: MarkupSafe>=2.0 in /usr/local/lib/python3.10/dist-packages (from jinja2->spacy>=3->booknlp) (2.1.2)\n",
            "Requirement already satisfied: mpmath>=0.19 in /usr/local/lib/python3.10/dist-packages (from sympy->torch>=1.7.1->booknlp) (1.3.0)\n",
            "Requirement already satisfied: cachetools<6.0,>=2.0.0 in /usr/local/lib/python3.10/dist-packages (from google-auth<3,>=1.6.3->tensorboard<2.13,>=2.12->tensorflow>=1.15->booknlp) (5.3.0)\n",
            "Requirement already satisfied: pyasn1-modules>=0.2.1 in /usr/local/lib/python3.10/dist-packages (from google-auth<3,>=1.6.3->tensorboard<2.13,>=2.12->tensorflow>=1.15->booknlp) (0.3.0)\n",
            "Requirement already satisfied: rsa<5,>=3.1.4 in /usr/local/lib/python3.10/dist-packages (from google-auth<3,>=1.6.3->tensorboard<2.13,>=2.12->tensorflow>=1.15->booknlp) (4.9)\n",
            "Requirement already satisfied: requests-oauthlib>=0.7.0 in /usr/local/lib/python3.10/dist-packages (from google-auth-oauthlib<1.1,>=0.5->tensorboard<2.13,>=2.12->tensorflow>=1.15->booknlp) (1.3.1)\n",
            "Requirement already satisfied: pyasn1<0.6.0,>=0.4.6 in /usr/local/lib/python3.10/dist-packages (from pyasn1-modules>=0.2.1->google-auth<3,>=1.6.3->tensorboard<2.13,>=2.12->tensorflow>=1.15->booknlp) (0.5.0)\n",
            "Requirement already satisfied: oauthlib>=3.0.0 in /usr/local/lib/python3.10/dist-packages (from requests-oauthlib>=0.7.0->google-auth-oauthlib<1.1,>=0.5->tensorboard<2.13,>=2.12->tensorflow>=1.15->booknlp) (3.2.2)\n",
            "Building wheels for collected packages: booknlp\n",
            "  Building wheel for booknlp (setup.py) ... \u001b[?25l\u001b[?25hdone\n",
            "  Created wheel for booknlp: filename=booknlp-1.0.7-py3-none-any.whl size=2420743 sha256=e22b2deaec4b56f97fd308c17754f9f4874138333c119051a9805b4e71a00b5c\n",
            "  Stored in directory: /root/.cache/pip/wheels/bb/f5/b4/2ee6b317da6491ff01b742be603af81ceea156427f1f4be38a\n",
            "Successfully built booknlp\n",
            "Installing collected packages: tokenizers, huggingface-hub, transformers, booknlp\n",
            "Successfully installed booknlp-1.0.7 huggingface-hub-0.14.1 tokenizers-0.13.3 transformers-4.29.2\n"
          ]
        }
      ],
      "source": [
        "!pip install booknlp"
      ]
    },
    {
      "cell_type": "code",
      "source": [
        "!unzip '/content/drive/MyDrive/Visual Story Telling/Dataset - Story Generation/scifiTVshows.zip'"
      ],
      "metadata": {
        "colab": {
          "base_uri": "https://localhost:8080/"
        },
        "id": "aTl4rv0Vt0Js",
        "outputId": "e12d23fa-bbfe-436d-edce-704c1a697cf1"
      },
      "execution_count": null,
      "outputs": [
        {
          "output_type": "stream",
          "name": "stdout",
          "text": [
            "Archive:  /content/drive/MyDrive/Visual Story Telling/Dataset - Story Generation/scifiTVshows.zip\n",
            "   creating: OriginalStoriesSeparated/\n",
            "  inflating: OriginalStoriesSeparated/Babylon5.txt  \n",
            "  inflating: OriginalStoriesSeparated/DoctorWhoSpinoffs.txt  \n",
            "  inflating: OriginalStoriesSeparated/DoctorWho.txt  \n",
            "  inflating: OriginalStoriesSeparated/Fringe.txt  \n",
            "  inflating: OriginalStoriesSeparated/Farscape.txt  \n",
            "  inflating: OriginalStoriesSeparated/Futurama.txt  \n",
            "  inflating: OriginalStoriesSeparated/Stargate.txt  \n",
            "  inflating: OriginalStoriesSeparated/StarTrek.txt  \n",
            "  inflating: OriginalStoriesSeparated/StarWarsBooks.txt  \n",
            "  inflating: OriginalStoriesSeparated/StarWarsRebels.txt  \n",
            "  inflating: OriginalStoriesSeparated/XFiles.txt  \n",
            "  inflating: scifi-test.txt          \n",
            "  inflating: scifi-train.txt         \n",
            "  inflating: scifi-val.txt           \n"
          ]
        }
      ]
    },
    {
      "cell_type": "code",
      "source": [
        "from booknlp.booknlp import BookNLP\n",
        "\n",
        "model_params={\n",
        "\t\t\"pipeline\":\"entity,quote,supersense,event,coref\", \n",
        "\t\t\"model\":\"big\"\n",
        "\t}\n",
        "\t\n",
        "booknlp=BookNLP(\"en\", model_params)"
      ],
      "metadata": {
        "colab": {
          "base_uri": "https://localhost:8080/",
          "height": 313,
          "referenced_widgets": [
            "96a6f92d8abd4366ad56ab52917060bd",
            "e2535cfbd44b4e11b57c25b225959f01",
            "4e19eceb75b941cfa37f414c86393b1d",
            "cfc99a7c46b242d185391079a002c11a",
            "405239916f014506a6d4e6dcf8595660",
            "6d15cb47b7e44b0ba0f4893d4a21457f",
            "df713f3b47bb41a7a4429d3241c23f13",
            "8e5023624dd1474992f088647cc9f763",
            "777d6beb37fa423d8538bb3c13923a13",
            "3cff2065e73245e7a92e5d4f33b2446c",
            "55e40ebdaebf42bda735f7c35379903e",
            "4a171901ba7c48948a5eb10c9f109ea7",
            "f2c2e2e2d0814ba692fab444fc884db6",
            "3fc0f3c8dad040f2a2479ce1d6938661",
            "08b43625cc8d48cfbfeb59edc55cb8b1",
            "9f938e4a938544488a9658f163ae2804",
            "26428e0458c342c1ae9cd4b6db7923a9",
            "e88d7689fb774be3881a9454c79afff0",
            "cc10af1d38cb4d29bd586d1314d80b4b",
            "1790db119f5142128bf2b3330b3c0867",
            "6d897f0b5ae34ad49ac33751f8ac8295",
            "b6efb35bb2b5428489205337c3fd4bfe",
            "228a5e728b5a4e7c8de062689db45ab7",
            "655e280257d448ebaab409a1b9383bc4",
            "580013eb761845ed81be238c1931c962",
            "0e8faff8e322436d86569d5567b08096",
            "5f34c24ba2d641f38bf492057994b22a",
            "559992902d7948be87e58af7e65277fb",
            "db0905f0ef9442dea6c9d8b63a737483",
            "328f514561fa4963ab2cee8c3c2a5e1b",
            "122ade15cba74090b38392d14db13863",
            "ca96dc69e1f54d55a4aab22767713bd5",
            "41945bf4ccea422da9ddba3a1b433224",
            "85b37cbb973840efa680e1c6cd9535cd",
            "ebdbaa1c53ef4ea9a93b3de4d3cc8744",
            "922877d618a94082ad4d17b67704d1bc",
            "edcf0c99382b4b47adc3cb27d97e2d21",
            "a5007d374bbf45eea274c8229423a4e6",
            "d54e491aa52c465ebc2f8e281ec76923",
            "ae3fcb2b209e400d8806311430ae74da",
            "d5904f9b38c744dea5536ba7519a64ac",
            "1c468a5150034bcba1a4c84752e65566",
            "cfa5ef6cb5964a1b94bc832300dd10c6",
            "a55df53652a74da3b80a47dae9801af0",
            "8b86b0b97b844100b78275d12e28a659",
            "b3ee0b25e1de436daba552aecbbf33f6",
            "db6d24525aa74eafa4afd945e57a8906",
            "3c7e5f9efd8847548e9f36779acc3595",
            "a9a8571aa82948b199930208ae4f2d70",
            "f7b36ef8f49848bfbd264f702bebfb00",
            "3f4dbb9c170f41c78242a9b3a8c3f7d5",
            "c3bb7ce6d1514804aa050c813469b7f1",
            "cbcdc0819bfa4b47bab6567be963c54e",
            "f80de835da5d44bca3ea90178777b916",
            "4b71c0ba42d64349bcd49c28cb6e890a",
            "f1fb47d42d0245ca83cd9c1371c9a241",
            "93548e43d65f41679648b3556c6d9217",
            "6c16255c3d584a9f8bbd4a3e781e1323",
            "a61e2832d4ae4a79b35d669d61aa7f7f",
            "6f426027b79e45809ba16aec43797c70",
            "3a67f84a0f3740e3b7afd6204460d16e",
            "946951b598c44fbfb3de704f06590269",
            "140147c795ca411d803b1357f5a37adf",
            "a76058be2b884c05b0b9ffbcc5d556df",
            "d15e205cff244fc59e19f8cc23238b58",
            "dc9bd09461d443d2a423405941ff238e"
          ]
        },
        "id": "x7fr61aCtcCp",
        "outputId": "376e863f-686f-418b-d5a1-120019ddcd0c"
      },
      "execution_count": 2,
      "outputs": [
        {
          "output_type": "stream",
          "name": "stdout",
          "text": [
            "using device cpu\n",
            "{'pipeline': 'entity,quote,supersense,event,coref', 'model': 'big'}\n",
            "downloading entities_google_bert_uncased_L-6_H-768_A-12-v1.0.model\n",
            "downloading coref_google_bert_uncased_L-12_H-768_A-12-v1.0.model\n",
            "downloading speaker_google_bert_uncased_L-12_H-768_A-12-v1.0.1.model\n"
          ]
        },
        {
          "output_type": "display_data",
          "data": {
            "text/plain": [
              "Downloading (…)solve/main/vocab.txt:   0%|          | 0.00/232k [00:00<?, ?B/s]"
            ],
            "application/vnd.jupyter.widget-view+json": {
              "version_major": 2,
              "version_minor": 0,
              "model_id": "96a6f92d8abd4366ad56ab52917060bd"
            }
          },
          "metadata": {}
        },
        {
          "output_type": "display_data",
          "data": {
            "text/plain": [
              "Downloading (…)lve/main/config.json:   0%|          | 0.00/384 [00:00<?, ?B/s]"
            ],
            "application/vnd.jupyter.widget-view+json": {
              "version_major": 2,
              "version_minor": 0,
              "model_id": "4a171901ba7c48948a5eb10c9f109ea7"
            }
          },
          "metadata": {}
        },
        {
          "output_type": "display_data",
          "data": {
            "text/plain": [
              "Downloading pytorch_model.bin:   0%|          | 0.00/270M [00:00<?, ?B/s]"
            ],
            "application/vnd.jupyter.widget-view+json": {
              "version_major": 2,
              "version_minor": 0,
              "model_id": "228a5e728b5a4e7c8de062689db45ab7"
            }
          },
          "metadata": {}
        },
        {
          "output_type": "display_data",
          "data": {
            "text/plain": [
              "Downloading (…)solve/main/vocab.txt:   0%|          | 0.00/232k [00:00<?, ?B/s]"
            ],
            "application/vnd.jupyter.widget-view+json": {
              "version_major": 2,
              "version_minor": 0,
              "model_id": "85b37cbb973840efa680e1c6cd9535cd"
            }
          },
          "metadata": {}
        },
        {
          "output_type": "display_data",
          "data": {
            "text/plain": [
              "Downloading (…)lve/main/config.json:   0%|          | 0.00/385 [00:00<?, ?B/s]"
            ],
            "application/vnd.jupyter.widget-view+json": {
              "version_major": 2,
              "version_minor": 0,
              "model_id": "8b86b0b97b844100b78275d12e28a659"
            }
          },
          "metadata": {}
        },
        {
          "output_type": "display_data",
          "data": {
            "text/plain": [
              "Downloading pytorch_model.bin:   0%|          | 0.00/440M [00:00<?, ?B/s]"
            ],
            "application/vnd.jupyter.widget-view+json": {
              "version_major": 2,
              "version_minor": 0,
              "model_id": "f1fb47d42d0245ca83cd9c1371c9a241"
            }
          },
          "metadata": {}
        },
        {
          "output_type": "stream",
          "name": "stdout",
          "text": [
            "--- startup: 103.748 seconds ---\n"
          ]
        }
      ]
    },
    {
      "cell_type": "code",
      "source": [
        "# Input file to process\n",
        "input_file=\"/content/drive/MyDrive/Visual Story Telling/Dataset - Story Generation/SampleBabylon.txt\"\n",
        "\n",
        "# Output directory to store resulting files in\n",
        "output_directory=\"test_booknlp/\"\n",
        "\n",
        "# File within this directory will be named ${book_id}.entities, ${book_id}.tokens, etc.\n",
        "book_id=\"sample_babylon\"\n",
        "\n",
        "booknlp.process(input_file, output_directory, book_id)"
      ],
      "metadata": {
        "colab": {
          "base_uri": "https://localhost:8080/"
        },
        "id": "jkPz6sZq-Atk",
        "outputId": "386bef39-a180-4194-fd56-18c631122db4"
      },
      "execution_count": 3,
      "outputs": [
        {
          "output_type": "stream",
          "name": "stdout",
          "text": [
            "--- spacy: 1.486 seconds ---\n",
            "--- entities: 29.542 seconds ---\n",
            "--- quotes: 0.017 seconds ---\n",
            "--- attribution: 2.125 seconds ---\n",
            "--- name coref: 0.022 seconds ---\n",
            "--- coref: 41.735 seconds ---\n",
            "--- TOTAL (excl. startup): 74.993 seconds ---, 2951 words\n"
          ]
        }
      ]
    },
    {
      "cell_type": "code",
      "source": [
        "# import json \n",
        "# # reading the data from the file\n",
        "# with open('/content/test_booknlp/sample_babylon.book') as f:\n",
        "#     data = f.read()\n",
        "  \n",
        "# print(\"Data type before reconstruction : \", type(data))\n",
        "      \n",
        "# # reconstructing the data as a dictionary\n",
        "# js = json.loads(data)"
      ],
      "metadata": {
        "colab": {
          "base_uri": "https://localhost:8080/"
        },
        "id": "KTOqCi9u21d4",
        "outputId": "d695b053-3f07-45da-9f3f-721299cd4823"
      },
      "execution_count": null,
      "outputs": [
        {
          "output_type": "stream",
          "name": "stdout",
          "text": [
            "Data type before reconstruction :  <class 'str'>\n"
          ]
        }
      ]
    },
    {
      "cell_type": "code",
      "source": [
        "# print(js)"
      ],
      "metadata": {
        "id": "zC7PVTUp2_0J"
      },
      "execution_count": null,
      "outputs": []
    },
    {
      "cell_type": "code",
      "source": [
        "# for i in js:\n",
        "#   for j in js[i][0]:\n",
        "#     print(j)\n",
        "#     print(js[i][0][j])"
      ],
      "metadata": {
        "id": "E7dKt7Vp3CKz"
      },
      "execution_count": null,
      "outputs": []
    },
    {
      "cell_type": "code",
      "source": [
        "# print(js['characters'][0]['patient'])"
      ],
      "metadata": {
        "id": "3j-s86Sp4V7x"
      },
      "execution_count": null,
      "outputs": []
    },
    {
      "cell_type": "code",
      "source": [
        "# import json\n",
        "# from collections import Counter"
      ],
      "metadata": {
        "id": "dm2Csvx97Zoh"
      },
      "execution_count": 4,
      "outputs": []
    },
    {
      "cell_type": "code",
      "source": [
        "# def proc(filename):\n",
        "#     with open(filename) as file:\n",
        "#         data=json.load(file)\n",
        "#     return data"
      ],
      "metadata": {
        "id": "2CHQk9gY7abx"
      },
      "execution_count": null,
      "outputs": []
    },
    {
      "cell_type": "code",
      "source": [
        "# data=proc(\"/content/test_booknlp/sample_babylon.book\")"
      ],
      "metadata": {
        "id": "An9mp6kb7cUx"
      },
      "execution_count": null,
      "outputs": []
    },
    {
      "cell_type": "code",
      "source": [
        "# def get_counter_from_dependency_list(dep_list):\n",
        "#     counter=Counter()\n",
        "#     for token in dep_list:\n",
        "#         term=token[\"w\"]\n",
        "#         tokenGlobalIndex=token[\"i\"]\n",
        "#         counter[term]+=1\n",
        "#     return counter"
      ],
      "metadata": {
        "id": "5Jt7gqZd7fuj"
      },
      "execution_count": null,
      "outputs": []
    },
    {
      "cell_type": "code",
      "source": [
        "# for character in data['characters']:\n",
        "#   print(character)"
      ],
      "metadata": {
        "id": "3S01vSI5b2l3"
      },
      "execution_count": null,
      "outputs": []
    },
    {
      "cell_type": "code",
      "source": [
        "# for character in data['characters']:\n",
        "#   # print(character)\n",
        "#     agentList=character[\"agent\"]\n",
        "#     patientList=character[\"patient\"]\n",
        "#     possList=character[\"poss\"]\n",
        "#     modList=character[\"mod\"]\n",
        "\n",
        "#     character_id=character[\"id\"]\n",
        "#     count=character[\"count\"]\n",
        "\n",
        "#     referential_gender_distribution=referential_gender_prediction=\"unknown\"\n",
        "    \n",
        "#     if character[\"g\"] is not None and character[\"g\"] != \"unknown\":\n",
        "#         referential_gender_distribution=character[\"g\"][\"inference\"]\n",
        "#         referential_gender=character[\"g\"][\"argmax\"]\n",
        "\n",
        "#     mentions=character[\"mentions\"]\n",
        "#     proper_mentions=mentions[\"proper\"]\n",
        "#     max_proper_mention=\"\"\n",
        "\n",
        "#     # just print out information about named characters\n",
        "#     if len(mentions[\"proper\"]) > 0:\n",
        "#         max_proper_mention=mentions[\"proper\"][0][\"n\"]\n",
        "        \n",
        "#         print(character_id, count, max_proper_mention, referential_gender)\n",
        "\n",
        "#         print()\n",
        "#         printTop=10\n",
        "#         for k, v in get_counter_from_dependency_list(possList).most_common(printTop):\n",
        "#             print(\"\\tposs\\t%s %s\" % (v,k))\n",
        "#         print()\n",
        "#         for k, v in get_counter_from_dependency_list(agentList).most_common(printTop):\n",
        "#             print(\"\\tagent\\t%s %s\" % (v,k))        \n",
        "#         print()\n",
        "#         for k, v in get_counter_from_dependency_list(patientList).most_common(printTop):\n",
        "#             print(\"\\tpatient\\t%s %s\" % (v,k))       \n",
        "#         print()\n",
        "#         for k, v in get_counter_from_dependency_list(modList).most_common(printTop):\n",
        "#             print(\"\\tmod\\t%s %s\" % (v,k))    \n",
        "#         print()"
      ],
      "metadata": {
        "id": "qT4Nlmde7p2s"
      },
      "execution_count": null,
      "outputs": []
    },
    {
      "cell_type": "code",
      "source": [
        "# import tarfile\n",
        "# my_tar = tarfile.open('/content/drive/MyDrive/Visual Story Telling/Dataset - Story Generation/MovieSummaries.tar.gz')\n",
        "# my_tar.extractall('./CMU_Summaries')\n",
        "# my_tar.close()"
      ],
      "metadata": {
        "id": "MGcy8LJR08vY"
      },
      "execution_count": null,
      "outputs": []
    },
    {
      "cell_type": "code",
      "source": [
        "# with open('/content/drive/MyDrive/Visual Story Telling/Dataset - Story Generation/SampleBabylon.txt','r') as file:\n",
        "#   data=file.read()\n",
        "# \n",
        "# sentences = data.split('.')"
      ],
      "metadata": {
        "id": "XaOZfUsPlwhs"
      },
      "execution_count": 15,
      "outputs": []
    },
    {
      "cell_type": "code",
      "source": [
        "import pandas as pd"
      ],
      "metadata": {
        "id": "bplVoV7a7gZT"
      },
      "execution_count": 5,
      "outputs": []
    },
    {
      "cell_type": "code",
      "source": [
        "df_sentences = pd.read_table('/content/test_booknlp/sample_babylon.tokens')\n",
        "# df_sentences['sentence'] = df_sentences.groupby(['sentence_ID'])['word'].apply(lambda x: ' '.join(x)).reset_index(drop=True)\n",
        "# df_sentences['start'] = \n",
        "sentences = df_sentences.groupby(['sentence_ID'])['word'].apply(lambda x: ' '.join(x)).values"
      ],
      "metadata": {
        "id": "VGkeKX_eMsM2"
      },
      "execution_count": null,
      "outputs": []
    },
    {
      "cell_type": "code",
      "source": [
        "# df_sentences['token_ID_within_document']"
      ],
      "metadata": {
        "id": "_y1JRMM576HP"
      },
      "execution_count": null,
      "outputs": []
    },
    {
      "cell_type": "code",
      "source": [
        "# df_sentences['sentence'].dropna()"
      ],
      "metadata": {
        "colab": {
          "base_uri": "https://localhost:8080/"
        },
        "id": "CxWwo03BmB1o",
        "outputId": "47b0281f-aa8e-4871-fa32-a1307c40d656"
      },
      "execution_count": null,
      "outputs": [
        {
          "output_type": "execute_result",
          "data": {
            "text/plain": [
              "0      Alien envoys come to the giant space station i...\n",
              "1      In the earth year 2257 , a multitude of humans...\n",
              "2      Some of them are members of the station crew ,...\n",
              "3      Others are ambassadors from major alien govern...\n",
              "4      Still others are refugees , smugglers , busine...\n",
              "                             ...                        \n",
              "127    Ivanova explains why she has been avoiding Win...\n",
              "128    The drugs lead Ivanova 's mother into a deep d...\n",
              "129    Garibaldi has convinced Ambassador Delenn to c...\n",
              "130    Sinclair watches election returns , showing a ...\n",
              "131                                              < EOS >\n",
              "Name: sentence, Length: 132, dtype: object"
            ]
          },
          "metadata": {},
          "execution_count": 102
        }
      ]
    },
    {
      "cell_type": "code",
      "source": [
        "# df_sentences.head(-5)"
      ],
      "metadata": {
        "id": "rSEpeBQ2PKJT"
      },
      "execution_count": null,
      "outputs": []
    },
    {
      "cell_type": "code",
      "source": [
        "df = pd.read_table('/content/test_booknlp/sample_babylon.entities')"
      ],
      "metadata": {
        "id": "ncEhCVHNmQXx"
      },
      "execution_count": 10,
      "outputs": []
    },
    {
      "cell_type": "code",
      "source": [
        "df_verb = pd.read_table('/content/test_booknlp/sample_babylon.supersense')"
      ],
      "metadata": {
        "id": "DyO7Mj94AGNN"
      },
      "execution_count": 11,
      "outputs": []
    },
    {
      "cell_type": "code",
      "source": [
        "# df_verb.head()"
      ],
      "metadata": {
        "id": "Eh3HjeW6ALB4"
      },
      "execution_count": null,
      "outputs": []
    },
    {
      "cell_type": "code",
      "source": [
        "# df.head()"
      ],
      "metadata": {
        "id": "uj1aH_k_mnAQ"
      },
      "execution_count": null,
      "outputs": []
    },
    {
      "cell_type": "code",
      "source": [
        "text_values = df.text.values\n",
        "ref_id = df.COREF.values \n",
        "cat = df.cat.values\n",
        "start_token_id = df.start_token.values\n",
        "type_of_identity = df.prop.values\n",
        "extracted = []"
      ],
      "metadata": {
        "id": "7CyaAAB7moCH"
      },
      "execution_count": 47,
      "outputs": []
    },
    {
      "cell_type": "code",
      "source": [
        "sentences = sentences.tolist()"
      ],
      "metadata": {
        "id": "n3QlZMp19iMe"
      },
      "execution_count": 26,
      "outputs": []
    },
    {
      "cell_type": "code",
      "source": [
        "len(sentences)"
      ],
      "metadata": {
        "id": "efcs-MadLRuV",
        "colab": {
          "base_uri": "https://localhost:8080/"
        },
        "outputId": "4d4c872e-90e2-4440-f235-e4c1221cf068"
      },
      "execution_count": 27,
      "outputs": [
        {
          "output_type": "execute_result",
          "data": {
            "text/plain": [
              "132"
            ]
          },
          "metadata": {},
          "execution_count": 27
        }
      ]
    },
    {
      "cell_type": "code",
      "source": [
        "lengths = [len(x.split()) for x in sentences]"
      ],
      "metadata": {
        "id": "EYnDKyWDo3Mh"
      },
      "execution_count": 42,
      "outputs": []
    },
    {
      "cell_type": "code",
      "source": [
        "# len(sentences[0].split())"
      ],
      "metadata": {
        "id": "oMT739Q2LWhq"
      },
      "execution_count": null,
      "outputs": []
    },
    {
      "cell_type": "code",
      "source": [
        "# lenghts"
      ],
      "metadata": {
        "id": "xcQ2KlIVpLDo"
      },
      "execution_count": null,
      "outputs": []
    },
    {
      "cell_type": "code",
      "source": [
        "for i in range(len(lenghts)):\n",
        "  if i!=0:\n",
        "    lengths[i] = lengths[i]+lengths[i-1]"
      ],
      "metadata": {
        "id": "JNhY5xhspaNV"
      },
      "execution_count": 44,
      "outputs": []
    },
    {
      "cell_type": "code",
      "source": [
        "# lenghts"
      ],
      "metadata": {
        "id": "CJtLSDoMpjsz"
      },
      "execution_count": null,
      "outputs": []
    },
    {
      "cell_type": "code",
      "source": [
        "from nltk.sentiment.vader import SentimentIntensityAnalyzer\n",
        "import nltk\n",
        "nltk.download('vader_lexicon')"
      ],
      "metadata": {
        "colab": {
          "base_uri": "https://localhost:8080/"
        },
        "id": "dk_OhadhGGew",
        "outputId": "ffecefc8-70e5-4a6f-f247-4fa405a0dd42"
      },
      "execution_count": 28,
      "outputs": [
        {
          "output_type": "stream",
          "name": "stderr",
          "text": [
            "[nltk_data] Downloading package vader_lexicon to /root/nltk_data...\n"
          ]
        },
        {
          "output_type": "execute_result",
          "data": {
            "text/plain": [
              "True"
            ]
          },
          "metadata": {},
          "execution_count": 28
        }
      ]
    },
    {
      "cell_type": "code",
      "source": [
        "# df_sentences"
      ],
      "metadata": {
        "colab": {
          "base_uri": "https://localhost:8080/",
          "height": 488
        },
        "id": "x8Klq5mI_WMy",
        "outputId": "a16f8ff8-4405-4a05-b81e-12b76068d8cf"
      },
      "execution_count": 41,
      "outputs": [
        {
          "output_type": "execute_result",
          "data": {
            "text/plain": [
              "      paragraph_ID  sentence_ID  token_ID_within_sentence  \\\n",
              "0                0            0                         0   \n",
              "1                0            0                         1   \n",
              "2                0            0                         2   \n",
              "3                0            0                         3   \n",
              "4                0            0                         4   \n",
              "...            ...          ...                       ...   \n",
              "2946             0          130                        13   \n",
              "2947             0          130                        14   \n",
              "2948             0          131                         0   \n",
              "2949             0          131                         1   \n",
              "2950             0          131                         2   \n",
              "\n",
              "      token_ID_within_document      word     lemma  byte_onset byte_offset  \\\n",
              "0                            0     Alien     alien           0           5   \n",
              "1                            1    envoys     envoy           6          12   \n",
              "2                            2      come      come          13          17   \n",
              "3                            3        to        to          18          20   \n",
              "4                            4       the       the          21          24   \n",
              "...                        ...       ...       ...         ...         ...   \n",
              "2946                      2946  Santiago  Santiago       15573       15581   \n",
              "2947                      2947         .         .       15581       15582   \n",
              "2948                      2948         <         <       15584       15585   \n",
              "2949                      2949       EOS       EOS       15585       15588   \n",
              "2950                      2950         >         >       15588       15589   \n",
              "\n",
              "     POS_tag fine_POS_tag dependency_relation syntactic_head_ID  event  \n",
              "0        ADJ           JJ                amod                 1      O  \n",
              "1       NOUN          NNS               nsubj                 2      O  \n",
              "2       VERB          VBP                ROOT                 2  EVENT  \n",
              "3        ADP           IN                prep                 2      O  \n",
              "4        DET           DT                 det                 7      O  \n",
              "...      ...          ...                 ...               ...    ...  \n",
              "2946   PROPN          NNP               appos              2944      O  \n",
              "2947   PUNCT            .               punct              2934      O  \n",
              "2948       X           XX                nmod              2949      O  \n",
              "2949   PROPN          NNP                ROOT              2949      O  \n",
              "2950       X           XX               punct              2949      O  \n",
              "\n",
              "[2951 rows x 13 columns]"
            ],
            "text/html": [
              "\n",
              "  <div id=\"df-6d7576bc-8369-48f7-8077-2afe7ba3c1ee\">\n",
              "    <div class=\"colab-df-container\">\n",
              "      <div>\n",
              "<style scoped>\n",
              "    .dataframe tbody tr th:only-of-type {\n",
              "        vertical-align: middle;\n",
              "    }\n",
              "\n",
              "    .dataframe tbody tr th {\n",
              "        vertical-align: top;\n",
              "    }\n",
              "\n",
              "    .dataframe thead th {\n",
              "        text-align: right;\n",
              "    }\n",
              "</style>\n",
              "<table border=\"1\" class=\"dataframe\">\n",
              "  <thead>\n",
              "    <tr style=\"text-align: right;\">\n",
              "      <th></th>\n",
              "      <th>paragraph_ID</th>\n",
              "      <th>sentence_ID</th>\n",
              "      <th>token_ID_within_sentence</th>\n",
              "      <th>token_ID_within_document</th>\n",
              "      <th>word</th>\n",
              "      <th>lemma</th>\n",
              "      <th>byte_onset</th>\n",
              "      <th>byte_offset</th>\n",
              "      <th>POS_tag</th>\n",
              "      <th>fine_POS_tag</th>\n",
              "      <th>dependency_relation</th>\n",
              "      <th>syntactic_head_ID</th>\n",
              "      <th>event</th>\n",
              "    </tr>\n",
              "  </thead>\n",
              "  <tbody>\n",
              "    <tr>\n",
              "      <th>0</th>\n",
              "      <td>0</td>\n",
              "      <td>0</td>\n",
              "      <td>0</td>\n",
              "      <td>0</td>\n",
              "      <td>Alien</td>\n",
              "      <td>alien</td>\n",
              "      <td>0</td>\n",
              "      <td>5</td>\n",
              "      <td>ADJ</td>\n",
              "      <td>JJ</td>\n",
              "      <td>amod</td>\n",
              "      <td>1</td>\n",
              "      <td>O</td>\n",
              "    </tr>\n",
              "    <tr>\n",
              "      <th>1</th>\n",
              "      <td>0</td>\n",
              "      <td>0</td>\n",
              "      <td>1</td>\n",
              "      <td>1</td>\n",
              "      <td>envoys</td>\n",
              "      <td>envoy</td>\n",
              "      <td>6</td>\n",
              "      <td>12</td>\n",
              "      <td>NOUN</td>\n",
              "      <td>NNS</td>\n",
              "      <td>nsubj</td>\n",
              "      <td>2</td>\n",
              "      <td>O</td>\n",
              "    </tr>\n",
              "    <tr>\n",
              "      <th>2</th>\n",
              "      <td>0</td>\n",
              "      <td>0</td>\n",
              "      <td>2</td>\n",
              "      <td>2</td>\n",
              "      <td>come</td>\n",
              "      <td>come</td>\n",
              "      <td>13</td>\n",
              "      <td>17</td>\n",
              "      <td>VERB</td>\n",
              "      <td>VBP</td>\n",
              "      <td>ROOT</td>\n",
              "      <td>2</td>\n",
              "      <td>EVENT</td>\n",
              "    </tr>\n",
              "    <tr>\n",
              "      <th>3</th>\n",
              "      <td>0</td>\n",
              "      <td>0</td>\n",
              "      <td>3</td>\n",
              "      <td>3</td>\n",
              "      <td>to</td>\n",
              "      <td>to</td>\n",
              "      <td>18</td>\n",
              "      <td>20</td>\n",
              "      <td>ADP</td>\n",
              "      <td>IN</td>\n",
              "      <td>prep</td>\n",
              "      <td>2</td>\n",
              "      <td>O</td>\n",
              "    </tr>\n",
              "    <tr>\n",
              "      <th>4</th>\n",
              "      <td>0</td>\n",
              "      <td>0</td>\n",
              "      <td>4</td>\n",
              "      <td>4</td>\n",
              "      <td>the</td>\n",
              "      <td>the</td>\n",
              "      <td>21</td>\n",
              "      <td>24</td>\n",
              "      <td>DET</td>\n",
              "      <td>DT</td>\n",
              "      <td>det</td>\n",
              "      <td>7</td>\n",
              "      <td>O</td>\n",
              "    </tr>\n",
              "    <tr>\n",
              "      <th>...</th>\n",
              "      <td>...</td>\n",
              "      <td>...</td>\n",
              "      <td>...</td>\n",
              "      <td>...</td>\n",
              "      <td>...</td>\n",
              "      <td>...</td>\n",
              "      <td>...</td>\n",
              "      <td>...</td>\n",
              "      <td>...</td>\n",
              "      <td>...</td>\n",
              "      <td>...</td>\n",
              "      <td>...</td>\n",
              "      <td>...</td>\n",
              "    </tr>\n",
              "    <tr>\n",
              "      <th>2946</th>\n",
              "      <td>0</td>\n",
              "      <td>130</td>\n",
              "      <td>13</td>\n",
              "      <td>2946</td>\n",
              "      <td>Santiago</td>\n",
              "      <td>Santiago</td>\n",
              "      <td>15573</td>\n",
              "      <td>15581</td>\n",
              "      <td>PROPN</td>\n",
              "      <td>NNP</td>\n",
              "      <td>appos</td>\n",
              "      <td>2944</td>\n",
              "      <td>O</td>\n",
              "    </tr>\n",
              "    <tr>\n",
              "      <th>2947</th>\n",
              "      <td>0</td>\n",
              "      <td>130</td>\n",
              "      <td>14</td>\n",
              "      <td>2947</td>\n",
              "      <td>.</td>\n",
              "      <td>.</td>\n",
              "      <td>15581</td>\n",
              "      <td>15582</td>\n",
              "      <td>PUNCT</td>\n",
              "      <td>.</td>\n",
              "      <td>punct</td>\n",
              "      <td>2934</td>\n",
              "      <td>O</td>\n",
              "    </tr>\n",
              "    <tr>\n",
              "      <th>2948</th>\n",
              "      <td>0</td>\n",
              "      <td>131</td>\n",
              "      <td>0</td>\n",
              "      <td>2948</td>\n",
              "      <td>&lt;</td>\n",
              "      <td>&lt;</td>\n",
              "      <td>15584</td>\n",
              "      <td>15585</td>\n",
              "      <td>X</td>\n",
              "      <td>XX</td>\n",
              "      <td>nmod</td>\n",
              "      <td>2949</td>\n",
              "      <td>O</td>\n",
              "    </tr>\n",
              "    <tr>\n",
              "      <th>2949</th>\n",
              "      <td>0</td>\n",
              "      <td>131</td>\n",
              "      <td>1</td>\n",
              "      <td>2949</td>\n",
              "      <td>EOS</td>\n",
              "      <td>EOS</td>\n",
              "      <td>15585</td>\n",
              "      <td>15588</td>\n",
              "      <td>PROPN</td>\n",
              "      <td>NNP</td>\n",
              "      <td>ROOT</td>\n",
              "      <td>2949</td>\n",
              "      <td>O</td>\n",
              "    </tr>\n",
              "    <tr>\n",
              "      <th>2950</th>\n",
              "      <td>0</td>\n",
              "      <td>131</td>\n",
              "      <td>2</td>\n",
              "      <td>2950</td>\n",
              "      <td>&gt;</td>\n",
              "      <td>&gt;</td>\n",
              "      <td>15588</td>\n",
              "      <td>15589</td>\n",
              "      <td>X</td>\n",
              "      <td>XX</td>\n",
              "      <td>punct</td>\n",
              "      <td>2949</td>\n",
              "      <td>O</td>\n",
              "    </tr>\n",
              "  </tbody>\n",
              "</table>\n",
              "<p>2951 rows × 13 columns</p>\n",
              "</div>\n",
              "      <button class=\"colab-df-convert\" onclick=\"convertToInteractive('df-6d7576bc-8369-48f7-8077-2afe7ba3c1ee')\"\n",
              "              title=\"Convert this dataframe to an interactive table.\"\n",
              "              style=\"display:none;\">\n",
              "        \n",
              "  <svg xmlns=\"http://www.w3.org/2000/svg\" height=\"24px\"viewBox=\"0 0 24 24\"\n",
              "       width=\"24px\">\n",
              "    <path d=\"M0 0h24v24H0V0z\" fill=\"none\"/>\n",
              "    <path d=\"M18.56 5.44l.94 2.06.94-2.06 2.06-.94-2.06-.94-.94-2.06-.94 2.06-2.06.94zm-11 1L8.5 8.5l.94-2.06 2.06-.94-2.06-.94L8.5 2.5l-.94 2.06-2.06.94zm10 10l.94 2.06.94-2.06 2.06-.94-2.06-.94-.94-2.06-.94 2.06-2.06.94z\"/><path d=\"M17.41 7.96l-1.37-1.37c-.4-.4-.92-.59-1.43-.59-.52 0-1.04.2-1.43.59L10.3 9.45l-7.72 7.72c-.78.78-.78 2.05 0 2.83L4 21.41c.39.39.9.59 1.41.59.51 0 1.02-.2 1.41-.59l7.78-7.78 2.81-2.81c.8-.78.8-2.07 0-2.86zM5.41 20L4 18.59l7.72-7.72 1.47 1.35L5.41 20z\"/>\n",
              "  </svg>\n",
              "      </button>\n",
              "      \n",
              "  <style>\n",
              "    .colab-df-container {\n",
              "      display:flex;\n",
              "      flex-wrap:wrap;\n",
              "      gap: 12px;\n",
              "    }\n",
              "\n",
              "    .colab-df-convert {\n",
              "      background-color: #E8F0FE;\n",
              "      border: none;\n",
              "      border-radius: 50%;\n",
              "      cursor: pointer;\n",
              "      display: none;\n",
              "      fill: #1967D2;\n",
              "      height: 32px;\n",
              "      padding: 0 0 0 0;\n",
              "      width: 32px;\n",
              "    }\n",
              "\n",
              "    .colab-df-convert:hover {\n",
              "      background-color: #E2EBFA;\n",
              "      box-shadow: 0px 1px 2px rgba(60, 64, 67, 0.3), 0px 1px 3px 1px rgba(60, 64, 67, 0.15);\n",
              "      fill: #174EA6;\n",
              "    }\n",
              "\n",
              "    [theme=dark] .colab-df-convert {\n",
              "      background-color: #3B4455;\n",
              "      fill: #D2E3FC;\n",
              "    }\n",
              "\n",
              "    [theme=dark] .colab-df-convert:hover {\n",
              "      background-color: #434B5C;\n",
              "      box-shadow: 0px 1px 3px 1px rgba(0, 0, 0, 0.15);\n",
              "      filter: drop-shadow(0px 1px 2px rgba(0, 0, 0, 0.3));\n",
              "      fill: #FFFFFF;\n",
              "    }\n",
              "  </style>\n",
              "\n",
              "      <script>\n",
              "        const buttonEl =\n",
              "          document.querySelector('#df-6d7576bc-8369-48f7-8077-2afe7ba3c1ee button.colab-df-convert');\n",
              "        buttonEl.style.display =\n",
              "          google.colab.kernel.accessAllowed ? 'block' : 'none';\n",
              "\n",
              "        async function convertToInteractive(key) {\n",
              "          const element = document.querySelector('#df-6d7576bc-8369-48f7-8077-2afe7ba3c1ee');\n",
              "          const dataTable =\n",
              "            await google.colab.kernel.invokeFunction('convertToInteractive',\n",
              "                                                     [key], {});\n",
              "          if (!dataTable) return;\n",
              "\n",
              "          const docLinkHtml = 'Like what you see? Visit the ' +\n",
              "            '<a target=\"_blank\" href=https://colab.research.google.com/notebooks/data_table.ipynb>data table notebook</a>'\n",
              "            + ' to learn more about interactive tables.';\n",
              "          element.innerHTML = '';\n",
              "          dataTable['output_type'] = 'display_data';\n",
              "          await google.colab.output.renderOutput(dataTable, element);\n",
              "          const docLink = document.createElement('div');\n",
              "          docLink.innerHTML = docLinkHtml;\n",
              "          element.appendChild(docLink);\n",
              "        }\n",
              "      </script>\n",
              "    </div>\n",
              "  </div>\n",
              "  "
            ]
          },
          "metadata": {},
          "execution_count": 41
        }
      ]
    },
    {
      "cell_type": "code",
      "source": [
        "# test = df_sentences.groupby(['sentence_ID'])['token_ID_within_document'].apply(lambda x: ' '.join(str(x))).values.tolist()"
      ],
      "metadata": {
        "colab": {
          "base_uri": "https://localhost:8080/"
        },
        "id": "dx1l9PTx-Vgm",
        "outputId": "5dbea71e-ce25-4cc7-908d-32bc8740ad5a"
      },
      "execution_count": 40,
      "outputs": [
        {
          "output_type": "stream",
          "name": "stdout",
          "text": [
            "<pandas.core.groupby.generic.SeriesGroupBy object at 0x7fb68d46fdc0>\n"
          ]
        }
      ]
    },
    {
      "cell_type": "code",
      "source": [
        "# print(test)"
      ],
      "metadata": {
        "colab": {
          "base_uri": "https://localhost:8080/"
        },
        "id": "n-mfp8CH-liy",
        "outputId": "546e344e-173c-45c8-aeaa-197006a624f6"
      },
      "execution_count": 38,
      "outputs": [
        {
          "output_type": "stream",
          "name": "stdout",
          "text": [
            "<pandas.core.groupby.generic.SeriesGroupBy object at 0x7fb68d523ac0>\n"
          ]
        }
      ]
    },
    {
      "cell_type": "code",
      "source": [
        "for j in range(len(sentences)):\n",
        "  check = False\n",
        "  identities = set()\n",
        "  for i in range(len(text_values)):\n",
        "    if start_token_id[i]<lengths[j-1] and i!=0:\n",
        "      continue\n",
        "    if start_token_id[i]>lengths[j]:\n",
        "      break\n",
        "    if text_values[i] in sentences[j] and cat[i]=='PER' and type_of_identity[i]==\"PROP\":\n",
        "      identities.add((text_values[i], ref_id[i]))\n",
        "  if len(identities)==2:\n",
        "    check = True\n",
        "  for idx, row in df_verb.iterrows():\n",
        "    if \"verb.social\" in row.supersense_category and check:\n",
        "      if row.start_token>lengths[j]:\n",
        "        break  \n",
        "      if row.start_token<lengths[j-1] and i!=0:\n",
        "        continue\n",
        "      print('###################################')\n",
        "      print(f' \\t Sentence {j}')\n",
        "      print('###################################')\n",
        "      print(identities)\n",
        "      print(f\"Verb: {row.text} and type: {row.supersense_category}\")\n",
        "      print(sentences[j])\n",
        "      ss = SentimentIntensityAnalyzer().polarity_scores(sentences[j])\n",
        "      del ss['compound']\n",
        "      print(max(ss, key=ss.get), ss[max(ss, key=ss.get)])\n",
        "      print()"
      ],
      "metadata": {
        "colab": {
          "base_uri": "https://localhost:8080/"
        },
        "id": "Q9gk2amym1Ah",
        "outputId": "aa7d8b33-912f-4953-e1c2-084d914503bf"
      },
      "execution_count": 49,
      "outputs": [
        {
          "output_type": "stream",
          "name": "stdout",
          "text": [
            "###################################\n",
            " \t Sentence 15\n",
            "###################################\n",
            "{('Kosh', 28), ('Ambassador Londo Mollari', 26)}\n",
            "Verb: failed and type: verb.social\n",
            "Ambassador Londo Mollari quickly becomes a suspect in the case , as he had failed to show up at the appointed time with the other ambassadors to welcome Kosh aboard .\n",
            "neu 0.714\n",
            "\n",
            "###################################\n",
            " \t Sentence 18\n",
            "###################################\n",
            "{('Kosh', 28), ('Lyta', 29)}\n",
            "Verb: persuade and type: verb.social\n",
            "Takashima persuade Lyta to perform an unauthorized mind scan on the unconscious Kosh .\n",
            "neu 1.0\n",
            "\n",
            "###################################\n",
            " \t Sentence 20\n",
            "###################################\n",
            "{('Sinclair', 19), ('Lyta', 29)}\n",
            "Verb: attempting and type: verb.social\n",
            "Lyta accuses Sinclair of attempting to murder the ambassador .\n",
            "neg 0.504\n",
            "\n",
            "###################################\n",
            " \t Sentence 20\n",
            "###################################\n",
            "{('Sinclair', 19), ('Lyta', 29)}\n",
            "Verb: murder and type: verb.social\n",
            "Lyta accuses Sinclair of attempting to murder the ambassador .\n",
            "neg 0.504\n",
            "\n",
            "###################################\n",
            " \t Sentence 21\n",
            "###################################\n",
            "{('Sinclair', 19), ('Takashima', 35)}\n",
            "Verb: removes and type: verb.social\n",
            "Upon receiving word that Sinclair has become the primary suspect in the case , Earth Central removes Sinclair from the Advisory Council , and puts Takashima in his place .\n",
            "neu 0.922\n",
            "\n",
            "###################################\n",
            " \t Sentence 22\n",
            "###################################\n",
            "{(\"Ambassador G'Kar\", 24), ('Sinclair', 19)}\n",
            "Verb: made and type: verb.social\n",
            "The Advisory Council considers a motion made by Ambassador G'Kar to turn Sinclair over to the Vorlon Empire , to stand trial for attempted murder .\n",
            "neu 0.824\n",
            "\n",
            "###################################\n",
            " \t Sentence 22\n",
            "###################################\n",
            "{(\"Ambassador G'Kar\", 24), ('Sinclair', 19)}\n",
            "Verb: stand and type: verb.social\n",
            "The Advisory Council considers a motion made by Ambassador G'Kar to turn Sinclair over to the Vorlon Empire , to stand trial for attempted murder .\n",
            "neu 0.824\n",
            "\n",
            "###################################\n",
            " \t Sentence 22\n",
            "###################################\n",
            "{(\"Ambassador G'Kar\", 24), ('Sinclair', 19)}\n",
            "Verb: attempted and type: verb.social\n",
            "The Advisory Council considers a motion made by Ambassador G'Kar to turn Sinclair over to the Vorlon Empire , to stand trial for attempted murder .\n",
            "neu 0.824\n",
            "\n",
            "###################################\n",
            " \t Sentence 24\n",
            "###################################\n",
            "{('Ambassador Delenn', 25), ('Ambassador Mollari', 26)}\n",
            "Verb: votes and type: verb.social\n",
            "Takashima votes no ; Ambassador Delenn abstains ; Ambassador Mollari votes in favor .\n",
            "neu 0.647\n",
            "\n",
            "###################################\n",
            " \t Sentence 39\n",
            "###################################\n",
            "{('Sinclair', 19), ('Kosh', 28)}\n",
            "Verb: poisoned and type: verb.social\n",
            "The crew realizes that Kosh had not been poisoned by Sinclair when he arrived at the station , but rather that he had been poisoned by someone who was using the changeling net to look like Sinclair .\n",
            "neu 0.795\n",
            "\n",
            "###################################\n",
            " \t Sentence 87\n",
            "###################################\n",
            "{('Sinclair', 19), ('Mollari', 26)}\n",
            "Verb: form and type: verb.social\n",
            "Sinclair also tells Mollari he is calling Mollari Council and the League , hopeful he can form a coalition against the Narn attack .\n",
            "neu 0.748\n",
            "\n",
            "###################################\n",
            " \t Sentence 99\n",
            "###################################\n",
            "{('Garibaldi', 33), ('Ivanova', 37)}\n",
            "Verb: try and type: verb.social\n",
            "Garibaldi recommends she try talking to Ivanova after Ivanova gets off duty .\n",
            "neu 0.853\n",
            "\n",
            "###################################\n",
            " \t Sentence 105\n",
            "###################################\n",
            "{('Sinclair', 19), ('Garibaldi', 33)}\n",
            "Verb: met and type: verb.social\n",
            "After leaving the garden , Sinclair is met by Garibaldi , who has discovered that one company that sold transport routes is the common link between all the attacks .\n",
            "neu 0.9\n",
            "\n",
            "###################################\n",
            " \t Sentence 113\n",
            "###################################\n",
            "{('Ambassador Delenn', 25), (\"G'Kar\", 24)}\n",
            "Verb: invade and type: verb.social\n",
            "Ambassador Delenn admonishes G'Kar for being willing to invade a colony over blood spilled so long ago .\n",
            "neu 1.0\n",
            "\n",
            "###################################\n",
            " \t Sentence 118\n",
            "###################################\n",
            "{('the Raiders', 43), ('Sinclair', 19)}\n",
            "Verb: track down and type: verb.social\n",
            "Meanwhile , in deep space , Sinclair and his Starfury wing successfully track down the Raiders in the midst of the latest attack on a transport .\n",
            "neu 0.769\n",
            "\n",
            "###################################\n",
            " \t Sentence 123\n",
            "###################################\n",
            "{('Mollari', 42), ('Garibaldi', 33)}\n",
            "Verb: do and type: verb.social\n",
            "She reports this directly to Garibaldi , who quickly finds Mollari and convinces him not to go through with it .\n",
            "neu 0.914\n",
            "\n",
            "###################################\n",
            " \t Sentence 123\n",
            "###################################\n",
            "{('Mollari', 42), ('Garibaldi', 33)}\n",
            "Verb: go through and type: verb.social\n",
            "She reports this directly to Garibaldi , who quickly finds Mollari and convinces him not to go through with it .\n",
            "neu 0.914\n",
            "\n",
            "###################################\n",
            " \t Sentence 127\n",
            "###################################\n",
            "{('Winters', 40), ('Ivanova', 37)}\n",
            "Verb: avoiding and type: verb.social\n",
            "Ivanova explains why she has been avoiding Winters , that her mother had refused to join the Psi Corps , and opted to take sleepers to suppress her telepathic abilities instead of going to prison .\n",
            "neu 0.698\n",
            "\n",
            "###################################\n",
            " \t Sentence 127\n",
            "###################################\n",
            "{('Winters', 40), ('Ivanova', 37)}\n",
            "Verb: join and type: verb.social\n",
            "Ivanova explains why she has been avoiding Winters , that her mother had refused to join the Psi Corps , and opted to take sleepers to suppress her telepathic abilities instead of going to prison .\n",
            "neu 0.698\n",
            "\n"
          ]
        }
      ]
    },
    {
      "cell_type": "markdown",
      "source": [
        "Now accumulate all the pairs and then apply sentiment analyzer"
      ],
      "metadata": {
        "id": "meeyxgoPEkUi"
      }
    },
    {
      "cell_type": "code",
      "source": [
        "paired_sent = {}"
      ],
      "metadata": {
        "id": "ufad56ZTFXjr"
      },
      "execution_count": 71,
      "outputs": []
    },
    {
      "cell_type": "code",
      "source": [
        "for j in range(len(sentences)):\n",
        "  check = False\n",
        "  identities = []\n",
        "  for i in range(len(text_values)):\n",
        "    if start_token_id[i]<lengths[j-1] and i!=0:\n",
        "      continue\n",
        "    if start_token_id[i]>lengths[j]:\n",
        "      break\n",
        "    if text_values[i] in sentences[j] and cat[i]=='PER' and type_of_identity[i]==\"PROP\":\n",
        "      identities.append([text_values[i], ref_id[i]])\n",
        "  if len(identities)==2 and identities[1][0]!=identities[0][0]:\n",
        "    # print(identities)\n",
        "    check = True\n",
        "  for idx, row in df_verb.iterrows():\n",
        "    if \"verb.social\" in row.supersense_category and check:\n",
        "      if row.start_token>lengths[j]:\n",
        "        break  \n",
        "      if row.start_token<lengths[j-1] and i!=0:\n",
        "        continue\n",
        "      # print('###################################')\n",
        "      # print(f' \\t Sentence {j}')\n",
        "      # print('###################################')\n",
        "      # print(identities)\n",
        "      if f'{identities[0][0]} and {identities[1][0]}' in paired_sent or f'{identities[1][0]} and {identities[0][0]}' in paired_sent:\n",
        "        if paired_sent.get(f'{identities[0][0]} and {identities[1][0]}')!=None:\n",
        "          paired_sent[f'{identities[0][0]} and {identities[1][0]}'] += \" \"+sentences[j]\n",
        "          break\n",
        "        else:\n",
        "          paired_sent[f'{identities[1][0]} and {identities[0][0]}'] += \" \"+sentences[j]\n",
        "          break\n",
        "      else:\n",
        "        paired_sent[f'{identities[0][0]} and {identities[1][0]}'] = \"\"\n",
        "        paired_sent[f'{identities[0][0]} and {identities[1][0]}'] += \" \"+sentences[j]\n",
        "        break\n",
        "\n",
        "      # print(f\"Verb: {row.text} and type: {row.supersense_category}\")\n",
        "      # print(sentences[j])\n",
        "      # ss = SentimentIntensityAnalyzer().polarity_scores(sentences[j])\n",
        "      # del ss['compound']\n",
        "      # print(max(ss, key=ss.get), ss[max(ss, key=ss.get)])\n",
        "      # print()\n",
        "      #Cannot use list for appending multiple sentences"
      ],
      "metadata": {
        "id": "1NGmhqfwEotv"
      },
      "execution_count": 72,
      "outputs": []
    },
    {
      "cell_type": "code",
      "source": [
        "paired_sent"
      ],
      "metadata": {
        "colab": {
          "base_uri": "https://localhost:8080/"
        },
        "id": "YIojHjurJiA4",
        "outputId": "f9c6ed7c-3bb0-4143-8628-19638db4b4e0"
      },
      "execution_count": 73,
      "outputs": [
        {
          "output_type": "execute_result",
          "data": {
            "text/plain": [
              "{'Ambassador Londo Mollari and Kosh': ' Ambassador Londo Mollari quickly becomes a suspect in the case , as he had failed to show up at the appointed time with the other ambassadors to welcome Kosh aboard .',\n",
              " 'Lyta and Kosh': ' Takashima persuade Lyta to perform an unauthorized mind scan on the unconscious Kosh .',\n",
              " 'Lyta and Sinclair': ' Lyta accuses Sinclair of attempting to murder the ambassador .',\n",
              " \"Ambassador G'Kar and Sinclair\": \" The Advisory Council considers a motion made by Ambassador G'Kar to turn Sinclair over to the Vorlon Empire , to stand trial for attempted murder .\",\n",
              " 'Ambassador Delenn and Ambassador Mollari': ' Takashima votes no ; Ambassador Delenn abstains ; Ambassador Mollari votes in favor .',\n",
              " 'Sinclair and Mollari': ' Sinclair also tells Mollari he is calling Mollari Council and the League , hopeful he can form a coalition against the Narn attack .',\n",
              " 'Sinclair and Garibaldi': ' After leaving the garden , Sinclair is met by Garibaldi , who has discovered that one company that sold transport routes is the common link between all the attacks .',\n",
              " \"Ambassador Delenn and G'Kar\": \" Ambassador Delenn admonishes G'Kar for being willing to invade a colony over blood spilled so long ago .\",\n",
              " 'Sinclair and the Raiders': ' Meanwhile , in deep space , Sinclair and his Starfury wing successfully track down the Raiders in the midst of the latest attack on a transport .',\n",
              " 'Garibaldi and Mollari': ' She reports this directly to Garibaldi , who quickly finds Mollari and convinces him not to go through with it .',\n",
              " 'Ivanova and Winters': ' Ivanova explains why she has been avoiding Winters , that her mother had refused to join the Psi Corps , and opted to take sleepers to suppress her telepathic abilities instead of going to prison .'}"
            ]
          },
          "metadata": {},
          "execution_count": 73
        }
      ]
    },
    {
      "cell_type": "code",
      "source": [
        "relations = {'neu':\"neutral\",'pos':\"positive\",'neg':\"negative\"}\n",
        "inter_char_relations = []\n",
        "for key in paired_sent:\n",
        "  ss = SentimentIntensityAnalyzer().polarity_scores(paired_sent[key])\n",
        "  del ss['compound']\n",
        "  # print(max(ss, key=ss.get), ss[max(ss, key=ss.get)])\n",
        "  inter_char_relations.append(f'{key} have {relations[max(ss, key=ss.get)]} relationship')"
      ],
      "metadata": {
        "id": "3bNRcB_XKZXY"
      },
      "execution_count": 78,
      "outputs": []
    },
    {
      "cell_type": "code",
      "source": [
        "inter_char_relations"
      ],
      "metadata": {
        "colab": {
          "base_uri": "https://localhost:8080/"
        },
        "id": "0nNjccTYMKh5",
        "outputId": "39201bd6-34f7-4aaf-cbed-b42794d4659a"
      },
      "execution_count": 79,
      "outputs": [
        {
          "output_type": "execute_result",
          "data": {
            "text/plain": [
              "['Ambassador Londo Mollari and Kosh have neutral relationship',\n",
              " 'Lyta and Kosh have neutral relationship',\n",
              " 'Lyta and Sinclair have negative relationship',\n",
              " \"Ambassador G'Kar and Sinclair have neutral relationship\",\n",
              " 'Ambassador Delenn and Ambassador Mollari have neutral relationship',\n",
              " 'Sinclair and Mollari have neutral relationship',\n",
              " 'Sinclair and Garibaldi have neutral relationship',\n",
              " \"Ambassador Delenn and G'Kar have neutral relationship\",\n",
              " 'Sinclair and the Raiders have neutral relationship',\n",
              " 'Garibaldi and Mollari have neutral relationship',\n",
              " 'Ivanova and Winters have neutral relationship']"
            ]
          },
          "metadata": {},
          "execution_count": 79
        }
      ]
    },
    {
      "cell_type": "code",
      "source": [
        "# lol = {[[1,23],[2,12]]:45,[[3,676],[7,234]]:23}"
      ],
      "metadata": {
        "colab": {
          "base_uri": "https://localhost:8080/",
          "height": 165
        },
        "id": "YzbgfkciI4Sk",
        "outputId": "e071351e-7d12-4d70-c66b-c6f54665189e"
      },
      "execution_count": 58,
      "outputs": [
        {
          "output_type": "error",
          "ename": "TypeError",
          "evalue": "ignored",
          "traceback": [
            "\u001b[0;31m---------------------------------------------------------------------------\u001b[0m",
            "\u001b[0;31mTypeError\u001b[0m                                 Traceback (most recent call last)",
            "\u001b[0;32m<ipython-input-58-b770f33616e3>\u001b[0m in \u001b[0;36m<cell line: 1>\u001b[0;34m()\u001b[0m\n\u001b[0;32m----> 1\u001b[0;31m \u001b[0mlol\u001b[0m \u001b[0;34m=\u001b[0m \u001b[0;34m{\u001b[0m\u001b[0;34m[\u001b[0m\u001b[0;34m[\u001b[0m\u001b[0;36m1\u001b[0m\u001b[0;34m,\u001b[0m\u001b[0;36m23\u001b[0m\u001b[0;34m]\u001b[0m\u001b[0;34m,\u001b[0m\u001b[0;34m[\u001b[0m\u001b[0;36m2\u001b[0m\u001b[0;34m,\u001b[0m\u001b[0;36m12\u001b[0m\u001b[0;34m]\u001b[0m\u001b[0;34m]\u001b[0m\u001b[0;34m:\u001b[0m\u001b[0;36m45\u001b[0m\u001b[0;34m,\u001b[0m\u001b[0;34m[\u001b[0m\u001b[0;34m[\u001b[0m\u001b[0;36m3\u001b[0m\u001b[0;34m,\u001b[0m\u001b[0;36m676\u001b[0m\u001b[0;34m]\u001b[0m\u001b[0;34m,\u001b[0m\u001b[0;34m[\u001b[0m\u001b[0;36m7\u001b[0m\u001b[0;34m,\u001b[0m\u001b[0;36m234\u001b[0m\u001b[0;34m]\u001b[0m\u001b[0;34m]\u001b[0m\u001b[0;34m:\u001b[0m\u001b[0;36m23\u001b[0m\u001b[0;34m}\u001b[0m\u001b[0;34m\u001b[0m\u001b[0;34m\u001b[0m\u001b[0m\n\u001b[0m",
            "\u001b[0;31mTypeError\u001b[0m: unhashable type: 'list'"
          ]
        }
      ]
    },
    {
      "cell_type": "code",
      "source": [
        "# if \"begins\" in df_verb.text.values:\n",
        "#   print(df_verb.supersense_category.values[list(df_verb.text.values).index(\"help\")])"
      ],
      "metadata": {
        "colab": {
          "base_uri": "https://localhost:8080/"
        },
        "id": "xSV8yzg8nJkL",
        "outputId": "e8aff4c7-8cd5-4370-f40f-f43b403d30be"
      },
      "execution_count": null,
      "outputs": [
        {
          "output_type": "stream",
          "name": "stdout",
          "text": [
            "verb.social\n"
          ]
        }
      ]
    },
    {
      "cell_type": "code",
      "source": [
        "# type(df_verb.text.values)"
      ],
      "metadata": {
        "colab": {
          "base_uri": "https://localhost:8080/"
        },
        "id": "Atm53ElvFx9R",
        "outputId": "bf271931-b7f8-4da3-f049-bf0850020d37"
      },
      "execution_count": null,
      "outputs": [
        {
          "output_type": "execute_result",
          "data": {
            "text/plain": [
              "numpy.ndarray"
            ]
          },
          "metadata": {},
          "execution_count": 61
        }
      ]
    }
  ]
}
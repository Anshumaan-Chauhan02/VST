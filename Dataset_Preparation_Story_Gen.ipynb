{
  "nbformat": 4,
  "nbformat_minor": 0,
  "metadata": {
    "colab": {
      "provenance": []
    },
    "kernelspec": {
      "name": "python3",
      "display_name": "Python 3"
    },
    "language_info": {
      "name": "python"
    }
  },
  "cells": [
    {
      "cell_type": "markdown",
      "source": [
        "## Data Preparation"
      ],
      "metadata": {
        "id": "QCkdXOHISqwx"
      }
    },
    {
      "cell_type": "code",
      "source": [
        "import pandas as pd"
      ],
      "metadata": {
        "id": "cSL9vQaLILPi"
      },
      "execution_count": 1,
      "outputs": []
    },
    {
      "cell_type": "code",
      "source": [
        "# Loading the processed dataset\n",
        "df_movie = pd.read_csv('/content/drive/MyDrive/Visual Story Telling/Dataset - Story Generation/M_Dataset_0_2K')\n",
        "df_books = pd.read_csv('/content/drive/MyDrive/Visual Story Telling/Dataset - Story Generation/B_Dataset_0K_2K')"
      ],
      "metadata": {
        "id": "B9qww2UjIKLb"
      },
      "execution_count": 2,
      "outputs": []
    },
    {
      "cell_type": "code",
      "execution_count": 5,
      "metadata": {
        "id": "eon38NSbH1Ib"
      },
      "outputs": [],
      "source": [
        "# Drop wikipedia ID\n",
        "df_movie.drop(['Wikipedia movie ID'],axis=1,inplace=True)\n",
        "df_books.drop(['Wikipedia article ID'],axis=1,inplace=True)"
      ]
    },
    {
      "cell_type": "code",
      "source": [
        "# Rename the columns to make them compatible for concatenation\n",
        "df_movie.rename(columns = {'Movie_Name':'Title'}, inplace = True)\n",
        "df_books.rename(columns = {'Plot summary':'Summary','Book title':'Title', 'Book genres':'Genre'}, inplace = True)"
      ],
      "metadata": {
        "id": "iZH4BPvvH9WX"
      },
      "execution_count": 8,
      "outputs": []
    },
    {
      "cell_type": "code",
      "source": [
        "#Concatenate the datasets\n",
        "final_df = pd.concat([df_movie,df_books])\n",
        "final_df.reset_index(drop=True, inplace=True)"
      ],
      "metadata": {
        "id": "dLZ5mAalIDz_"
      },
      "execution_count": 13,
      "outputs": []
    },
    {
      "cell_type": "code",
      "source": [
        "# Formatting Relations \n",
        "def char_extraction_format(relations):\n",
        "  formatted = []\n",
        "  for rel in relations:\n",
        "    s = rel.split()\n",
        "    idx1 = s.index(\"and\")\n",
        "    idx2 = s.index(\"have\")\n",
        "    char1 = ' '.join(s[:idx1])\n",
        "    char2 = ' '.join(s[idx1+1:idx2])\n",
        "    formatted.append(f\"<{char1},{char2}>\")\n",
        "  if formatted==[]:\n",
        "    return \"<>\"\n",
        "  else:\n",
        "    return ', '.join(formatted)\n",
        "\n",
        "def format_relations(x):\n",
        "  \"\"\"\n",
        "  \n",
        "  To get the relations to the following format:\n",
        "  Neutral: <Char1, Char2>, <Char3, Char4>\n",
        "  Positive: <>\n",
        "  Negative: <Char2, Char4>\n",
        "\n",
        "  \"\"\"\n",
        "  \n",
        "  relations = x.split(\".\")\n",
        "  neutral = []\n",
        "  positive = []\n",
        "  negative = []\n",
        "  \n",
        "  d = {\"Neutral:\":[],\"Positive:\":[],\"Negative:\":[]}\n",
        "\n",
        "  for sent in relations:\n",
        "    if \"neutral\" in sent:\n",
        "      neutral.append(sent)\n",
        "    elif \"positive\" in sent:\n",
        "      positive.append(sent)\n",
        "    else:\n",
        "      negative.append(sent)\n",
        "  \n",
        "  d[\"Neutral:\"] = char_extraction_format(neutral)\n",
        "  d[\"Positive:\"] = char_extraction_format(positive)\n",
        "  d[\"Negative:\"] = char_extraction_format(negative)\n",
        "\n",
        "  new_relations = \"\"\n",
        "  for key in d:\n",
        "    new_relations = new_relations + key + \" \" + d[key] + \". \"\n",
        "\n",
        "  return new_relations "
      ],
      "metadata": {
        "id": "eju5Aet9O02p"
      },
      "execution_count": 24,
      "outputs": []
    },
    {
      "cell_type": "code",
      "source": [
        "final_df['Relations'] = final_df['Relations'].apply(format_relations)"
      ],
      "metadata": {
        "id": "gST3vvoOV5Xs"
      },
      "execution_count": null,
      "outputs": []
    },
    {
      "cell_type": "code",
      "source": [
        "final_df"
      ],
      "metadata": {
        "colab": {
          "base_uri": "https://localhost:8080/",
          "height": 424
        },
        "id": "Cpieme0DXR3J",
        "outputId": "36c82c00-3385-4403-ddb5-b42aafbc4cb4"
      },
      "execution_count": 23,
      "outputs": [
        {
          "output_type": "execute_result",
          "data": {
            "text/plain": [
              "                                                Summary  \\\n",
              "0     Shlykov, a hard-working taxi driver and Lyosha...   \n",
              "1     The nation of Panem consists of a wealthy Capi...   \n",
              "2     Poovalli Induchoodan  is sentenced for six yea...   \n",
              "3     The Lemon Drop Kid , a New York City swindler,...   \n",
              "4     Seventh-day Adventist Church pastor Michael Ch...   \n",
              "...                                                 ...   \n",
              "3961   Much of narrative describes Hemingway's adven...   \n",
              "3962   Biblical references: Matt. 2:1-12, Luke 2:1-2...   \n",
              "3963   SAM Madison has always been totally ordinary....   \n",
              "3964   While working in the dead letter office in Ne...   \n",
              "3965   The novel revolves around the world of the Fu...   \n",
              "\n",
              "                                                  Genre  \\\n",
              "0                                   Drama, World cinema   \n",
              "1      Action/Adventure, Science Fiction, Action, Drama   \n",
              "2                     Musical, Action, Drama, Bollywood   \n",
              "3                              Screwball comedy, Comedy   \n",
              "4     Crime Fiction, Drama, Docudrama, World cinema,...   \n",
              "...                                                 ...   \n",
              "3961  Travel, Biography, Travel literature, Non-fict...   \n",
              "3962  Historical novel, Children's literature, Histo...   \n",
              "3963  Children's literature, Young adult literature,...   \n",
              "3964                       Speculative fiction, Fantasy   \n",
              "3965         Speculative fiction, Fantasy, Dark fantasy   \n",
              "\n",
              "                              Title  \\\n",
              "0                        Taxi Blues   \n",
              "1                  The Hunger Games   \n",
              "2                        Narasimham   \n",
              "3                The Lemon Drop Kid   \n",
              "4                 A Cry in the Dark   \n",
              "...                             ...   \n",
              "3961          Green Hills of Africa   \n",
              "3962  Ben-Hur: A Tale of the Christ   \n",
              "3963              All American Girl   \n",
              "3964      The Great and Secret Show   \n",
              "3965                     Weaveworld   \n",
              "\n",
              "                                             Characters  \\\n",
              "0                                                   NaN   \n",
              "1     Katniss, Peeta, Rue, Cato, Haymitch, Crane, Cl...   \n",
              "2     Induchoodan, Manapally Pavithran, Manapally Ma...   \n",
              "3     the Kid, Charley, Moran, Brainy, Nellie Thursd...   \n",
              "4                               Lindy, Michael, Azaria.   \n",
              "...                                                 ...   \n",
              "3961                                   Hemingway, Karl.   \n",
              "3962  Judah, Jesus, Messala, Simonides, Ilderim, the...   \n",
              "3963                                       SAM Madison.   \n",
              "3964  Jaffe, Tesla, Kissoon, Fletcher, Howard, Tommy...   \n",
              "3965  Immacolata, Suzanna, the Seerkind, Mimi Lasche...   \n",
              "\n",
              "                                              Relations  \n",
              "0                                                   NaN  \n",
              "1     Katniss and Rue have neutral relationship. Pee...  \n",
              "2     Induchoodan and Pavithran have neutral relatio...  \n",
              "3           Moran and Charley have neutral relationship  \n",
              "4           Michael and Lindy have neutral relationship  \n",
              "...                                                 ...  \n",
              "3961                                                NaN  \n",
              "3962  Herod the Great and the Sanhedrin have neutral...  \n",
              "3963                                                NaN  \n",
              "3964  Grillo and Tesla have neutral relationship. To...  \n",
              "3965                                                NaN  \n",
              "\n",
              "[3966 rows x 5 columns]"
            ],
            "text/html": [
              "\n",
              "  <div id=\"df-9a84f466-33e2-453a-bbd8-10e5e33b6c21\">\n",
              "    <div class=\"colab-df-container\">\n",
              "      <div>\n",
              "<style scoped>\n",
              "    .dataframe tbody tr th:only-of-type {\n",
              "        vertical-align: middle;\n",
              "    }\n",
              "\n",
              "    .dataframe tbody tr th {\n",
              "        vertical-align: top;\n",
              "    }\n",
              "\n",
              "    .dataframe thead th {\n",
              "        text-align: right;\n",
              "    }\n",
              "</style>\n",
              "<table border=\"1\" class=\"dataframe\">\n",
              "  <thead>\n",
              "    <tr style=\"text-align: right;\">\n",
              "      <th></th>\n",
              "      <th>Summary</th>\n",
              "      <th>Genre</th>\n",
              "      <th>Title</th>\n",
              "      <th>Characters</th>\n",
              "      <th>Relations</th>\n",
              "    </tr>\n",
              "  </thead>\n",
              "  <tbody>\n",
              "    <tr>\n",
              "      <th>0</th>\n",
              "      <td>Shlykov, a hard-working taxi driver and Lyosha...</td>\n",
              "      <td>Drama, World cinema</td>\n",
              "      <td>Taxi Blues</td>\n",
              "      <td>NaN</td>\n",
              "      <td>NaN</td>\n",
              "    </tr>\n",
              "    <tr>\n",
              "      <th>1</th>\n",
              "      <td>The nation of Panem consists of a wealthy Capi...</td>\n",
              "      <td>Action/Adventure, Science Fiction, Action, Drama</td>\n",
              "      <td>The Hunger Games</td>\n",
              "      <td>Katniss, Peeta, Rue, Cato, Haymitch, Crane, Cl...</td>\n",
              "      <td>Katniss and Rue have neutral relationship. Pee...</td>\n",
              "    </tr>\n",
              "    <tr>\n",
              "      <th>2</th>\n",
              "      <td>Poovalli Induchoodan  is sentenced for six yea...</td>\n",
              "      <td>Musical, Action, Drama, Bollywood</td>\n",
              "      <td>Narasimham</td>\n",
              "      <td>Induchoodan, Manapally Pavithran, Manapally Ma...</td>\n",
              "      <td>Induchoodan and Pavithran have neutral relatio...</td>\n",
              "    </tr>\n",
              "    <tr>\n",
              "      <th>3</th>\n",
              "      <td>The Lemon Drop Kid , a New York City swindler,...</td>\n",
              "      <td>Screwball comedy, Comedy</td>\n",
              "      <td>The Lemon Drop Kid</td>\n",
              "      <td>the Kid, Charley, Moran, Brainy, Nellie Thursd...</td>\n",
              "      <td>Moran and Charley have neutral relationship</td>\n",
              "    </tr>\n",
              "    <tr>\n",
              "      <th>4</th>\n",
              "      <td>Seventh-day Adventist Church pastor Michael Ch...</td>\n",
              "      <td>Crime Fiction, Drama, Docudrama, World cinema,...</td>\n",
              "      <td>A Cry in the Dark</td>\n",
              "      <td>Lindy, Michael, Azaria.</td>\n",
              "      <td>Michael and Lindy have neutral relationship</td>\n",
              "    </tr>\n",
              "    <tr>\n",
              "      <th>...</th>\n",
              "      <td>...</td>\n",
              "      <td>...</td>\n",
              "      <td>...</td>\n",
              "      <td>...</td>\n",
              "      <td>...</td>\n",
              "    </tr>\n",
              "    <tr>\n",
              "      <th>3961</th>\n",
              "      <td>Much of narrative describes Hemingway's adven...</td>\n",
              "      <td>Travel, Biography, Travel literature, Non-fict...</td>\n",
              "      <td>Green Hills of Africa</td>\n",
              "      <td>Hemingway, Karl.</td>\n",
              "      <td>NaN</td>\n",
              "    </tr>\n",
              "    <tr>\n",
              "      <th>3962</th>\n",
              "      <td>Biblical references: Matt. 2:1-12, Luke 2:1-2...</td>\n",
              "      <td>Historical novel, Children's literature, Histo...</td>\n",
              "      <td>Ben-Hur: A Tale of the Christ</td>\n",
              "      <td>Judah, Jesus, Messala, Simonides, Ilderim, the...</td>\n",
              "      <td>Herod the Great and the Sanhedrin have neutral...</td>\n",
              "    </tr>\n",
              "    <tr>\n",
              "      <th>3963</th>\n",
              "      <td>SAM Madison has always been totally ordinary....</td>\n",
              "      <td>Children's literature, Young adult literature,...</td>\n",
              "      <td>All American Girl</td>\n",
              "      <td>SAM Madison.</td>\n",
              "      <td>NaN</td>\n",
              "    </tr>\n",
              "    <tr>\n",
              "      <th>3964</th>\n",
              "      <td>While working in the dead letter office in Ne...</td>\n",
              "      <td>Speculative fiction, Fantasy</td>\n",
              "      <td>The Great and Secret Show</td>\n",
              "      <td>Jaffe, Tesla, Kissoon, Fletcher, Howard, Tommy...</td>\n",
              "      <td>Grillo and Tesla have neutral relationship. To...</td>\n",
              "    </tr>\n",
              "    <tr>\n",
              "      <th>3965</th>\n",
              "      <td>The novel revolves around the world of the Fu...</td>\n",
              "      <td>Speculative fiction, Fantasy, Dark fantasy</td>\n",
              "      <td>Weaveworld</td>\n",
              "      <td>Immacolata, Suzanna, the Seerkind, Mimi Lasche...</td>\n",
              "      <td>NaN</td>\n",
              "    </tr>\n",
              "  </tbody>\n",
              "</table>\n",
              "<p>3966 rows × 5 columns</p>\n",
              "</div>\n",
              "      <button class=\"colab-df-convert\" onclick=\"convertToInteractive('df-9a84f466-33e2-453a-bbd8-10e5e33b6c21')\"\n",
              "              title=\"Convert this dataframe to an interactive table.\"\n",
              "              style=\"display:none;\">\n",
              "        \n",
              "  <svg xmlns=\"http://www.w3.org/2000/svg\" height=\"24px\"viewBox=\"0 0 24 24\"\n",
              "       width=\"24px\">\n",
              "    <path d=\"M0 0h24v24H0V0z\" fill=\"none\"/>\n",
              "    <path d=\"M18.56 5.44l.94 2.06.94-2.06 2.06-.94-2.06-.94-.94-2.06-.94 2.06-2.06.94zm-11 1L8.5 8.5l.94-2.06 2.06-.94-2.06-.94L8.5 2.5l-.94 2.06-2.06.94zm10 10l.94 2.06.94-2.06 2.06-.94-2.06-.94-.94-2.06-.94 2.06-2.06.94z\"/><path d=\"M17.41 7.96l-1.37-1.37c-.4-.4-.92-.59-1.43-.59-.52 0-1.04.2-1.43.59L10.3 9.45l-7.72 7.72c-.78.78-.78 2.05 0 2.83L4 21.41c.39.39.9.59 1.41.59.51 0 1.02-.2 1.41-.59l7.78-7.78 2.81-2.81c.8-.78.8-2.07 0-2.86zM5.41 20L4 18.59l7.72-7.72 1.47 1.35L5.41 20z\"/>\n",
              "  </svg>\n",
              "      </button>\n",
              "      \n",
              "  <style>\n",
              "    .colab-df-container {\n",
              "      display:flex;\n",
              "      flex-wrap:wrap;\n",
              "      gap: 12px;\n",
              "    }\n",
              "\n",
              "    .colab-df-convert {\n",
              "      background-color: #E8F0FE;\n",
              "      border: none;\n",
              "      border-radius: 50%;\n",
              "      cursor: pointer;\n",
              "      display: none;\n",
              "      fill: #1967D2;\n",
              "      height: 32px;\n",
              "      padding: 0 0 0 0;\n",
              "      width: 32px;\n",
              "    }\n",
              "\n",
              "    .colab-df-convert:hover {\n",
              "      background-color: #E2EBFA;\n",
              "      box-shadow: 0px 1px 2px rgba(60, 64, 67, 0.3), 0px 1px 3px 1px rgba(60, 64, 67, 0.15);\n",
              "      fill: #174EA6;\n",
              "    }\n",
              "\n",
              "    [theme=dark] .colab-df-convert {\n",
              "      background-color: #3B4455;\n",
              "      fill: #D2E3FC;\n",
              "    }\n",
              "\n",
              "    [theme=dark] .colab-df-convert:hover {\n",
              "      background-color: #434B5C;\n",
              "      box-shadow: 0px 1px 3px 1px rgba(0, 0, 0, 0.15);\n",
              "      filter: drop-shadow(0px 1px 2px rgba(0, 0, 0, 0.3));\n",
              "      fill: #FFFFFF;\n",
              "    }\n",
              "  </style>\n",
              "\n",
              "      <script>\n",
              "        const buttonEl =\n",
              "          document.querySelector('#df-9a84f466-33e2-453a-bbd8-10e5e33b6c21 button.colab-df-convert');\n",
              "        buttonEl.style.display =\n",
              "          google.colab.kernel.accessAllowed ? 'block' : 'none';\n",
              "\n",
              "        async function convertToInteractive(key) {\n",
              "          const element = document.querySelector('#df-9a84f466-33e2-453a-bbd8-10e5e33b6c21');\n",
              "          const dataTable =\n",
              "            await google.colab.kernel.invokeFunction('convertToInteractive',\n",
              "                                                     [key], {});\n",
              "          if (!dataTable) return;\n",
              "\n",
              "          const docLinkHtml = 'Like what you see? Visit the ' +\n",
              "            '<a target=\"_blank\" href=https://colab.research.google.com/notebooks/data_table.ipynb>data table notebook</a>'\n",
              "            + ' to learn more about interactive tables.';\n",
              "          element.innerHTML = '';\n",
              "          dataTable['output_type'] = 'display_data';\n",
              "          await google.colab.output.renderOutput(dataTable, element);\n",
              "          const docLink = document.createElement('div');\n",
              "          docLink.innerHTML = docLinkHtml;\n",
              "          element.appendChild(docLink);\n",
              "        }\n",
              "      </script>\n",
              "    </div>\n",
              "  </div>\n",
              "  "
            ]
          },
          "metadata": {},
          "execution_count": 23
        }
      ]
    },
    {
      "cell_type": "code",
      "source": [
        "# Adding a period at the end of each column (already done for Relations)\n",
        "final_df['Title'] = final_df['Title']+\".\"\n",
        "final_df['Genre'] = final_df['Genre']+\".\"\n",
        "final_df['Characters'] = final_df['Characters']+\".\""
      ],
      "metadata": {
        "id": "nhl6_DLUXJyB"
      },
      "execution_count": null,
      "outputs": []
    },
    {
      "cell_type": "code",
      "source": [
        "# Merging all columns in a single input for T5\n",
        "prepare_text = lambda x: ' '.join([\"Title:\" , x['Title'], \"Genre:\", x['Genre'], \"Characters:\", x['Characters'], \"Relations:\", x['Relations']])\n",
        "final_df['Input'] = final_df.apply(prepare_text, axis=1)"
      ],
      "metadata": {
        "id": "IyjyZfp6NZzy"
      },
      "execution_count": null,
      "outputs": []
    },
    {
      "cell_type": "code",
      "source": [
        "# Dropping redundant columns\n",
        "final_df.drop(['Genre', 'Title', 'Characters', 'Relations'], axis=1, inpalce=True)"
      ],
      "metadata": {
        "id": "wTYRQQSgOeNp"
      },
      "execution_count": null,
      "outputs": []
    },
    {
      "cell_type": "code",
      "source": [
        "#Save the dataset\n",
        "final_df.to_csv('/content/drive/MyDrive/Visual Story Telling/Dataset - Story Generation/Training_Dataset', index=False)"
      ],
      "metadata": {
        "id": "CsdeQxcHIVOb"
      },
      "execution_count": null,
      "outputs": []
    }
  ]
}
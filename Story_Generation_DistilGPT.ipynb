{
 "cells": [
  {
   "cell_type": "markdown",
   "id": "cd015331",
   "metadata": {},
   "source": [
    "## Importing Necessary Libraries"
   ]
  },
  {
   "cell_type": "code",
   "execution_count": null,
   "id": "05863eac",
   "metadata": {},
   "outputs": [],
   "source": [
    "import pandas as pd\n",
    "import numpy as np \n",
    "import random\n",
    "import torch\n",
    "from transformers import AutoTokenizer, DataCollatorForLanguageModeling, AutoModelForCausalLM, TrainingArguments, Trainer\n",
    "from tqdm import tqdm, trange\n",
    "import math"
   ]
  },
  {
   "cell_type": "markdown",
   "id": "aad3a0ce",
   "metadata": {},
   "source": [
    "## Model and Tokenizer Initialization"
   ]
  },
  {
   "cell_type": "code",
   "execution_count": null,
   "id": "69e85e88",
   "metadata": {},
   "outputs": [],
   "source": [
    "base_model = AutoModelForCausalLM.from_pretrained(\"distilgpt2\")\n",
    "base_tokenizer = AutoTokenizer.from_pretrained('distilgpt2')"
   ]
  },
  {
   "cell_type": "markdown",
   "id": "3c40d7a6",
   "metadata": {},
   "source": [
    "## Data Preprocessing"
   ]
  },
  {
   "cell_type": "code",
   "execution_count": null,
   "id": "80d44428",
   "metadata": {},
   "outputs": [],
   "source": [
    "def combine(x, base_tokenizer=base_tokenizer):\n",
    "    return x[\"Input\"]+\" \"+\"Summary: \"+x['Summary']"
   ]
  },
  {
   "cell_type": "code",
   "execution_count": null,
   "id": "92fbe6ee",
   "metadata": {},
   "outputs": [],
   "source": [
    "def encode_sequences(x, base_tokenizer = base_tokenizer):\n",
    "    # Max length of the input sequence in DistilGPT2 is 1024 tokens \n",
    "    return base_tokenizer(x, max_length = 1024, truncation=True, add_special_tokens = True)['input_ids']"
   ]
  },
  {
   "cell_type": "code",
   "execution_count": null,
   "id": "e1b461ac",
   "metadata": {},
   "outputs": [],
   "source": [
    "import pandas as pd\n",
    "df = pd.read_csv('Plot_Summary_Dataset')"
   ]
  },
  {
   "cell_type": "code",
   "execution_count": null,
   "id": "938df2dc",
   "metadata": {},
   "outputs": [],
   "source": [
    "df['Input'] = df.apply(combine, axis=1)\n",
    "df = df['Input']"
   ]
  },
  {
   "cell_type": "code",
   "execution_count": null,
   "id": "8682398e",
   "metadata": {},
   "outputs": [],
   "source": [
    "from sklearn.model_selection import train_test_split\n",
    "train_df, test_df = train_test_split(df, test_size=0.1, random_state=1)"
   ]
  },
  {
   "cell_type": "code",
   "execution_count": null,
   "id": "f01a3554",
   "metadata": {},
   "outputs": [],
   "source": [
    "train_df = train_df['Input'].apply(encode_sequences)\n",
    "test_df = test_df['Input'].apply(encode_sequences)"
   ]
  },
  {
   "cell_type": "code",
   "execution_count": null,
   "id": "3edf21a2",
   "metadata": {},
   "outputs": [],
   "source": [
    "train_df.dropna(inplace = True)\n",
    "test_df.dropna(inplace = True)"
   ]
  },
  {
   "cell_type": "code",
   "execution_count": null,
   "id": "8b3b1f09",
   "metadata": {},
   "outputs": [],
   "source": [
    "train_df.reset_index(drop=True, inplace=True)\n",
    "test_df.reset_index(drop=True, inplace=True)"
   ]
  },
  {
   "cell_type": "markdown",
   "id": "4d245e0d",
   "metadata": {},
   "source": [
    "## Model Training"
   ]
  },
  {
   "cell_type": "code",
   "execution_count": null,
   "id": "d2b8a7d1",
   "metadata": {},
   "outputs": [],
   "source": [
    "#Setting pad token same as eos token\n",
    "base_tokenizer.pad_token = base_tokenizer.eos_token\n",
    "\n",
    "#Initializing Data Collator that forms batches and sends the input in a proper language modeling format to the model for training and evaluation\n",
    "data_collator = DataCollatorForLanguageModeling(\n",
    "        tokenizer=base_tokenizer,\n",
    "        mlm=False,\n",
    "        return_tensors=\"pt\"\n",
    "    )"
   ]
  },
  {
   "cell_type": "code",
   "execution_count": null,
   "id": "764d3293",
   "metadata": {},
   "outputs": [],
   "source": [
    "model_path = 'Story_Gen_Model/DistilGPT2'\n",
    "\n",
    "#Specifying the Training arguments for the model training \n",
    "training_args = TrainingArguments(\n",
    "    output_dir=model_path,\n",
    "    per_device_train_batch_size=8, \n",
    "    overwrite_output_dir = True, \n",
    "    evaluation_strategy=\"no\", \n",
    "    gradient_accumulation_steps=8, \n",
    "    num_train_epochs=15,\n",
    "    weight_decay=0.01, \n",
    "    lr_scheduler_type=\"cosine\",\n",
    "    learning_rate=5e-4, \n",
    "    fp16=True \n",
    ")"
   ]
  },
  {
   "cell_type": "code",
   "execution_count": null,
   "id": "1107c26d",
   "metadata": {},
   "outputs": [],
   "source": [
    "# Initializing the trainer\n",
    "\n",
    "trainer = Seq2SeqTrainer(\n",
    "    model=base_model,                         # the instantiated  Transformers model to be trained\n",
    "    args=training_args,                  # training arguments, defined above\n",
    "    data_collator=data_collator,\n",
    "    train_dataset=train_df,       # training dataset\n",
    "    eval_dataset = test_df,\n",
    ")"
   ]
  },
  {
   "cell_type": "code",
   "execution_count": null,
   "id": "7aca45c9",
   "metadata": {},
   "outputs": [],
   "source": [
    "# Starting the training\n",
    "trainer.train()"
   ]
  },
  {
   "cell_type": "code",
   "execution_count": null,
   "id": "95600d06",
   "metadata": {},
   "outputs": [],
   "source": [
    "# Saving the final model\n",
    "trainer.save_model()"
   ]
  },
  {
   "cell_type": "markdown",
   "id": "a7e6aeef",
   "metadata": {},
   "source": [
    "## Model Evaluation (Perplexity)"
   ]
  },
  {
   "cell_type": "code",
   "execution_count": null,
   "id": "f735a4c9",
   "metadata": {},
   "outputs": [],
   "source": [
    "trainer.evaluate()"
   ]
  },
  {
   "cell_type": "markdown",
   "id": "8a0d4aaf",
   "metadata": {},
   "source": [
    "## Loading and Testing "
   ]
  },
  {
   "cell_type": "code",
   "execution_count": null,
   "id": "28cc5097",
   "metadata": {},
   "outputs": [],
   "source": [
    "base_model = AutoModelForCausalLM.from_pretrained(\"add path to trained model\")\n",
    "base_tokenizer = AutoTokenizer.from_pretrained('distilgpt2')"
   ]
  },
  {
   "cell_type": "code",
   "execution_count": null,
   "id": "db048ee8",
   "metadata": {},
   "outputs": [],
   "source": [
    "baseline_tokenizer.pad_token = baseline_tokenizer.eos_token"
   ]
  },
  {
   "cell_type": "code",
   "execution_count": null,
   "id": "3532d171",
   "metadata": {},
   "outputs": [],
   "source": [
    "from transformers import pipeline\n",
    "\n",
    "input = \"\"\n",
    "generator = pipeline(\"text-generation\", model=base_model, tokenizer = base_tokenizer)\n",
    "do_sample = False\n",
    "num_beams = 1\n",
    "top_p = 0.9\n",
    "generator(input, num_beams = num_beams, top_p = top_p, do_sample = do_sample, max_length = 150)[0]['generated_text']"
   ]
  },
  {
   "cell_type": "markdown",
   "id": "d810147c",
   "metadata": {},
   "source": [
    "## BLEU Score Evaluation"
   ]
  },
  {
   "cell_type": "code",
   "execution_count": null,
   "id": "fd29ef56",
   "metadata": {},
   "outputs": [],
   "source": []
  },
  {
   "cell_type": "markdown",
   "id": "7d5b2c5a",
   "metadata": {},
   "source": [
    "## Loss Curve"
   ]
  },
  {
   "cell_type": "code",
   "execution_count": null,
   "id": "febb3f69",
   "metadata": {},
   "outputs": [],
   "source": [
    "import matplotlib.pyplot as plt\n",
    "%matplotlib inline"
   ]
  },
  {
   "cell_type": "code",
   "execution_count": null,
   "id": "61d3bd44",
   "metadata": {},
   "outputs": [],
   "source": [
    "df = pd.read_json('Add path to the json file')"
   ]
  },
  {
   "cell_type": "code",
   "execution_count": null,
   "id": "24ae061f",
   "metadata": {},
   "outputs": [],
   "source": [
    "def get_epoch(x):\n",
    "  return x['epoch']\n",
    "\n",
    "def get_loss(x):\n",
    "  return x['loss']"
   ]
  },
  {
   "cell_type": "code",
   "execution_count": null,
   "id": "e2b87e76",
   "metadata": {},
   "outputs": [],
   "source": [
    "df['epoch_number'] = df['log_history'].apply(get_epoch)\n",
    "df ['loss'] = df['log_history'].apply(get_loss)"
   ]
  },
  {
   "cell_type": "code",
   "execution_count": null,
   "id": "950a08b8",
   "metadata": {},
   "outputs": [],
   "source": [
    "plt.plot(df['epoch_number'].values, df['loss'].values) \n",
    "plt.xlabel('#Epochs')\n",
    "plt.ylabel('Loss value')\n",
    "plt.title('Training curve T5')"
   ]
  }
 ],
 "metadata": {
  "kernelspec": {
   "display_name": "Python (torch-gpu)",
   "language": "python",
   "name": "torch-gpu"
  },
  "language_info": {
   "codemirror_mode": {
    "name": "ipython",
    "version": 3
   },
   "file_extension": ".py",
   "mimetype": "text/x-python",
   "name": "python",
   "nbconvert_exporter": "python",
   "pygments_lexer": "ipython3",
   "version": "3.9.16"
  }
 },
 "nbformat": 4,
 "nbformat_minor": 5
}

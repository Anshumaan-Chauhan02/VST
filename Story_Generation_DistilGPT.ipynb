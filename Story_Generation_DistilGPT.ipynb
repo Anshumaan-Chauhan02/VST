{
  "cells": [
    {
      "cell_type": "markdown",
      "id": "02538164",
      "metadata": {
        "id": "02538164"
      },
      "source": [
        "## Importing Necessary Libraries"
      ]
    },
    {
      "cell_type": "code",
      "execution_count": null,
      "id": "ccf66873",
      "metadata": {
        "id": "ccf66873"
      },
      "outputs": [],
      "source": [
        "import pandas as pd\n",
        "import numpy as np\n",
        "import random\n",
        "import torch\n",
        "from transformers import AutoTokenizer, DataCollatorForLanguageModeling, AutoModelForCausalLM, TrainingArguments, Trainer\n",
        "from tqdm import tqdm, trange\n",
        "import math"
      ]
    },
    {
      "cell_type": "markdown",
      "id": "a41acde8",
      "metadata": {
        "id": "a41acde8"
      },
      "source": [
        "## Model and Tokenizer Initialization"
      ]
    },
    {
      "cell_type": "code",
      "execution_count": null,
      "id": "2e4a8d27",
      "metadata": {
        "id": "2e4a8d27"
      },
      "outputs": [],
      "source": [
        "base_model = AutoModelForCausalLM.from_pretrained(\"distilgpt2\")\n",
        "base_tokenizer = AutoTokenizer.from_pretrained('distilgpt2')"
      ]
    },
    {
      "cell_type": "markdown",
      "id": "530a46f3",
      "metadata": {
        "id": "530a46f3"
      },
      "source": [
        "## Data Preprocessing"
      ]
    },
    {
      "cell_type": "code",
      "execution_count": null,
      "id": "122119d3",
      "metadata": {
        "id": "122119d3"
      },
      "outputs": [],
      "source": [
        "def combine(x, base_tokenizer=base_tokenizer):\n",
        "    return x[\"Input\"]+\" \"+\"Summary: \"+x['Summary']"
      ]
    },
    {
      "cell_type": "code",
      "execution_count": null,
      "id": "1403062f",
      "metadata": {
        "id": "1403062f"
      },
      "outputs": [],
      "source": [
        "import pandas as pd\n",
        "df = pd.read_csv('/content/drive/MyDrive/Visual Story Telling/Dataset - Story Generation/Plot_Summary_Dataset')"
      ]
    },
    {
      "cell_type": "code",
      "execution_count": null,
      "id": "4e3d026d",
      "metadata": {
        "id": "4e3d026d"
      },
      "outputs": [],
      "source": [
        "df['Input'] = df.apply(combine, axis=1)\n",
        "df = df['Input']\n",
        "df.to_csv('/content/drive/MyDrive/Visual Story Telling/Dataset - Story Generation/Plot_Summary_DistilGPT2', index=False)"
      ]
    },
    {
      "cell_type": "markdown",
      "source": [
        "## Data Split"
      ],
      "metadata": {
        "id": "RpTA0yPprG7R"
      },
      "id": "RpTA0yPprG7R"
    },
    {
      "cell_type": "code",
      "execution_count": null,
      "id": "4c90d107",
      "metadata": {
        "id": "4c90d107"
      },
      "outputs": [],
      "source": [
        "def encode_sequences(x, base_tokenizer = base_tokenizer):\n",
        "    # Max length of the input sequence in DistilGPT2 is 1024 tokens\n",
        "    return base_tokenizer(x, max_length = 1024, truncation=True, add_special_tokens = True)['input_ids']"
      ]
    },
    {
      "cell_type": "code",
      "source": [
        "import pandas as pd\n",
        "df = pd.read_csv('/content/drive/MyDrive/Visual Story Telling/Dataset - Story Generation/Plot_Summary_DistilGPT2')"
      ],
      "metadata": {
        "id": "QmUO0NlJrMSA"
      },
      "id": "QmUO0NlJrMSA",
      "execution_count": null,
      "outputs": []
    },
    {
      "cell_type": "code",
      "execution_count": null,
      "id": "5a8632c4",
      "metadata": {
        "id": "5a8632c4"
      },
      "outputs": [],
      "source": [
        "from sklearn.model_selection import train_test_split\n",
        "train_df, test_df = train_test_split(df, test_size=0.1, random_state=1)"
      ]
    },
    {
      "cell_type": "code",
      "execution_count": null,
      "id": "20cb639d",
      "metadata": {
        "id": "20cb639d"
      },
      "outputs": [],
      "source": [
        "train_df = train_df['Input'].apply(encode_sequences)\n",
        "test_df = test_df['Input'].apply(encode_sequences)"
      ]
    },
    {
      "cell_type": "code",
      "execution_count": null,
      "id": "23d49a95",
      "metadata": {
        "id": "23d49a95"
      },
      "outputs": [],
      "source": [
        "train_df.dropna(inplace = True)\n",
        "test_df.dropna(inplace = True)"
      ]
    },
    {
      "cell_type": "code",
      "execution_count": null,
      "id": "5354f0fd",
      "metadata": {
        "id": "5354f0fd"
      },
      "outputs": [],
      "source": [
        "train_df.reset_index(drop=True, inplace=True)\n",
        "test_df.reset_index(drop=True, inplace=True)"
      ]
    },
    {
      "cell_type": "markdown",
      "id": "f0dce2a5",
      "metadata": {
        "id": "f0dce2a5"
      },
      "source": [
        "## Model Training"
      ]
    },
    {
      "cell_type": "code",
      "execution_count": null,
      "id": "b562a478",
      "metadata": {
        "id": "b562a478"
      },
      "outputs": [],
      "source": [
        "#Setting pad token same as eos token\n",
        "base_tokenizer.pad_token = base_tokenizer.eos_token\n",
        "\n",
        "#Initializing Data Collator that forms batches and sends the input in a proper language modeling format to the model for training and evaluation\n",
        "data_collator = DataCollatorForLanguageModeling(\n",
        "        tokenizer=base_tokenizer,\n",
        "        mlm=False,\n",
        "        return_tensors=\"pt\"\n",
        "    )"
      ]
    },
    {
      "cell_type": "code",
      "execution_count": null,
      "id": "c8e2ed6c",
      "metadata": {
        "id": "c8e2ed6c"
      },
      "outputs": [],
      "source": [
        "model_path = '/content/drive/MyDrive/Visual Story Telling/Story_Gen_Model/DistilGPT2'\n",
        "\n",
        "#Specifying the Training arguments for the model training\n",
        "training_args = TrainingArguments(\n",
        "    output_dir=model_path,\n",
        "    overwrite_output_dir = True,\n",
        "    evaluation_strategy=\"no\",\n",
        "    gradient_accumulation_steps=8,\n",
        "    num_train_epochs=30,\n",
        "    weight_decay=0.01,\n",
        "    lr_scheduler_type=\"cosine\",\n",
        "    learning_rate=5e-4,\n",
        "    fp16=True\n",
        ")"
      ]
    },
    {
      "cell_type": "code",
      "execution_count": null,
      "id": "0fa2f49b",
      "metadata": {
        "id": "0fa2f49b"
      },
      "outputs": [],
      "source": [
        "# Initializing the trainer\n",
        "\n",
        "trainer = Seq2SeqTrainer(\n",
        "    model=base_model,                         # the instantiated  Transformers model to be trained\n",
        "    args=training_args,                  # training arguments, defined above\n",
        "    data_collator=data_collator,\n",
        "    train_dataset=train_df,       # training dataset\n",
        "    eval_dataset = test_df,\n",
        ")"
      ]
    },
    {
      "cell_type": "code",
      "source": [
        "import gc\n",
        "gc.collect()\n",
        "torch.cuda.empty_cache()"
      ],
      "metadata": {
        "id": "GC2Xh931OcD3"
      },
      "id": "GC2Xh931OcD3",
      "execution_count": null,
      "outputs": []
    },
    {
      "cell_type": "code",
      "execution_count": null,
      "id": "3fb1918c",
      "metadata": {
        "id": "3fb1918c"
      },
      "outputs": [],
      "source": [
        "# Starting the training\n",
        "trainer.train()"
      ]
    },
    {
      "cell_type": "code",
      "execution_count": null,
      "id": "20fd75ae",
      "metadata": {
        "id": "20fd75ae"
      },
      "outputs": [],
      "source": [
        "# Saving the final model\n",
        "trainer.save_model()"
      ]
    },
    {
      "cell_type": "markdown",
      "id": "f4880a22",
      "metadata": {
        "id": "f4880a22"
      },
      "source": [
        "## Model Evaluation (Perplexity)"
      ]
    },
    {
      "cell_type": "code",
      "execution_count": null,
      "id": "e093d1d8",
      "metadata": {
        "id": "e093d1d8"
      },
      "outputs": [],
      "source": [
        "eval_results = trainer.evaluate()"
      ]
    },
    {
      "cell_type": "code",
      "source": [
        "print(f\"Perplexity: {math.exp(eval_results['eval_loss']):.2f}\")"
      ],
      "metadata": {
        "id": "xhbatHObrtPq"
      },
      "id": "xhbatHObrtPq",
      "execution_count": null,
      "outputs": []
    },
    {
      "cell_type": "markdown",
      "id": "9e098d0e",
      "metadata": {
        "id": "9e098d0e"
      },
      "source": [
        "## Loading and Testing"
      ]
    },
    {
      "cell_type": "code",
      "execution_count": null,
      "id": "10acf61d",
      "metadata": {
        "id": "10acf61d"
      },
      "outputs": [],
      "source": [
        "base_model = AutoModelForCausalLM.from_pretrained(\"/content/drive/MyDrive/Visual Story Telling/Story_Gen_Model/DistilGPT2\")\n",
        "base_tokenizer = AutoTokenizer.from_pretrained('distilgpt2')"
      ]
    },
    {
      "cell_type": "code",
      "execution_count": null,
      "id": "b44662c0",
      "metadata": {
        "id": "b44662c0"
      },
      "outputs": [],
      "source": [
        "baseline_tokenizer.pad_token = baseline_tokenizer.eos_token"
      ]
    },
    {
      "cell_type": "code",
      "execution_count": null,
      "id": "92cd96eb",
      "metadata": {
        "id": "92cd96eb"
      },
      "outputs": [],
      "source": [
        "\"\"\"\n",
        "Format of the input\n",
        "Title: ADD_TITLE. Genre: ADD_GENRES. Characters: ADD_CHARS. Relations: Neutral: <>. Positive: <>. Negative: <>.  Plot: ADD_PLOT\n",
        "\"\"\"\n",
        "\n",
        "from transformers import pipeline\n",
        "\n",
        "input = \"Title: Saiyan Warrior. Genre: Action, Adventure, Drama. Characters: Goku, Vegeta, Beerus. Relations: Neutral: <Beerus, Vegeta>. Positive: <Goku, Vegeta>. Negative: <Goku, Beerus>. Plot: Beerus is a god of destruction, who came to Earth to destroy it. Goku and Vegeta in order to protect their family fight and defeat him.\"\n",
        "generator = pipeline(\"text-generation\", model=base_model, tokenizer = base_tokenizer)\n",
        "do_sample = False\n",
        "num_beams = 1\n",
        "top_p = 0.9\n",
        "generator(input, num_beams = num_beams, top_p = top_p, do_sample = do_sample, min_length = 150, max_length = 250)[0]['generated_text'][len(input)+1:]"
      ]
    },
    {
      "cell_type": "markdown",
      "id": "64fcea26",
      "metadata": {
        "id": "64fcea26"
      },
      "source": [
        "## BLEU Score Evaluation"
      ]
    },
    {
      "cell_type": "code",
      "execution_count": null,
      "id": "49f6c44a",
      "metadata": {
        "id": "49f6c44a"
      },
      "outputs": [],
      "source": [
        "import evaluate\n",
        "bleu = evaluate.load('bleu')"
      ]
    },
    {
      "cell_type": "code",
      "source": [
        "base_model = AutoModelForCausalLM.from_pretrained(\"/content/drive/MyDrive/Visual Story Telling/Story_Gen_Model/DistilGPT2\")\n",
        "base_tokenizer = AutoTokenizer.from_pretrained('distilgpt2')\n",
        "base_tokenizer.pad_token = base_tokenizer.eos_token"
      ],
      "metadata": {
        "id": "O166sGENOwLp"
      },
      "id": "O166sGENOwLp",
      "execution_count": null,
      "outputs": []
    },
    {
      "cell_type": "code",
      "source": [
        "def encode_input(x, base_tokenizer = base_tokenizer):\n",
        "  x = str(x)\n",
        "  idx = x.index(\"Summary:\")\n",
        "  input = x[:idx]\n",
        "  summary = x[idx+9:]\n",
        "  return (input, summary, len(summary))"
      ],
      "metadata": {
        "id": "RwL_BNQeO1gZ"
      },
      "id": "RwL_BNQeO1gZ",
      "execution_count": null,
      "outputs": []
    },
    {
      "cell_type": "code",
      "source": [
        "df = pd.read_csv('/content/drive/MyDrive/Visual Story Telling/Dataset - Story Generation/Plot_Summary_DistilGPT2')"
      ],
      "metadata": {
        "id": "EmMIu7pbO2pv"
      },
      "id": "EmMIu7pbO2pv",
      "execution_count": null,
      "outputs": []
    },
    {
      "cell_type": "code",
      "source": [
        "from sklearn.model_selection import train_test_split\n",
        "df.drop(['Unnamed: 0'], axis=1, inplace=True)\n",
        "train_df, test_df = train_test_split(df, test_size=0.1, random_state=1)\n",
        "test_df.reset_index(drop=True, inplace=True)"
      ],
      "metadata": {
        "id": "buz6KvAPO6Vm"
      },
      "id": "buz6KvAPO6Vm",
      "execution_count": null,
      "outputs": []
    },
    {
      "cell_type": "code",
      "source": [
        "test_df = test_df.assign(Summary=\"\", Len=0)"
      ],
      "metadata": {
        "id": "jBkRIAmJO7a_"
      },
      "id": "jBkRIAmJO7a_",
      "execution_count": null,
      "outputs": []
    },
    {
      "cell_type": "code",
      "source": [
        "for idx, row in test_df.iterrows():\n",
        "    test_df['Input'].iloc[idx], test_df['Summary'].iloc[idx], test_df['Len'].iloc[idx] = encode_input(test_df['Input'].iloc[idx])"
      ],
      "metadata": {
        "id": "j9W89v28O8l5"
      },
      "id": "j9W89v28O8l5",
      "execution_count": null,
      "outputs": []
    },
    {
      "cell_type": "code",
      "source": [
        "test_df = test_df[test_df['Len']<350]"
      ],
      "metadata": {
        "id": "DslHtvkeO-GX"
      },
      "id": "DslHtvkeO-GX",
      "execution_count": null,
      "outputs": []
    },
    {
      "cell_type": "code",
      "source": [
        "test_df.reset_index(drop=True, inplace=True)"
      ],
      "metadata": {
        "id": "jP9Unw1fO_kj"
      },
      "id": "jP9Unw1fO_kj",
      "execution_count": null,
      "outputs": []
    },
    {
      "cell_type": "code",
      "source": [
        "#Greedy, Ancestral and Nucleus\n",
        "decoding_strats = [[1,1.0, False],[1,1.0, True],[1,0.9, True]]"
      ],
      "metadata": {
        "id": "pfKCnGw5PBDS"
      },
      "id": "pfKCnGw5PBDS",
      "execution_count": null,
      "outputs": []
    },
    {
      "cell_type": "code",
      "source": [
        "import warnings\n",
        "warnings.simplefilter(\"ignore\")\n",
        "from transformers import pipeline\n",
        "generator = pipeline(\"text-generation\", model=base_model, tokenizer = base_tokenizer)\n",
        "results = []\n",
        "for x in decoding_strats:\n",
        "  predictions = []\n",
        "  references = []\n",
        "  num_beams, top_p, do_sample = x\n",
        "  for idx,row in test_df.iterrows():\n",
        "    references.append(test_df['Summary'].iloc[idx])\n",
        "    predictions.append(generator(test_df['Input'].iloc[idx], num_beams = num_beams, top_p = top_p, do_sample = do_sample, max_length = len(test_df['Input'].iloc[idx])+test_df[\"Len\"].iloc[idx])[0]['generated_text'][len(test_df['Input'].iloc[idx])+10:])\n",
        "  base_results = bleu.compute(predictions=predictions, references=references)\n",
        "  results.append(base_results)\n",
        "print(results)"
      ],
      "metadata": {
        "id": "6Sz5JGuyPCbP"
      },
      "id": "6Sz5JGuyPCbP",
      "execution_count": null,
      "outputs": []
    },
    {
      "cell_type": "markdown",
      "id": "14b3fe47",
      "metadata": {
        "id": "14b3fe47"
      },
      "source": [
        "## Loss Curve"
      ]
    },
    {
      "cell_type": "code",
      "execution_count": 2,
      "id": "dad7b725",
      "metadata": {
        "id": "dad7b725"
      },
      "outputs": [],
      "source": [
        "import matplotlib.pyplot as plt\n",
        "%matplotlib inline"
      ]
    },
    {
      "cell_type": "code",
      "execution_count": 5,
      "id": "8115afa2",
      "metadata": {
        "id": "8115afa2"
      },
      "outputs": [],
      "source": [
        "df = pd.read_json('/content/drive/MyDrive/Visual Story Telling/Story_Gen_Model/DistilGPT2/checkpoint-16000/trainer_state.json')"
      ]
    },
    {
      "cell_type": "code",
      "execution_count": 6,
      "id": "6c696df1",
      "metadata": {
        "id": "6c696df1"
      },
      "outputs": [],
      "source": [
        "def get_epoch(x):\n",
        "  return x['epoch']\n",
        "\n",
        "def get_loss(x):\n",
        "  return x['loss']"
      ]
    },
    {
      "cell_type": "code",
      "execution_count": 7,
      "id": "991e7d31",
      "metadata": {
        "id": "991e7d31"
      },
      "outputs": [],
      "source": [
        "df['epoch_number'] = df['log_history'].apply(get_epoch)\n",
        "df ['loss'] = df['log_history'].apply(get_loss)"
      ]
    },
    {
      "cell_type": "code",
      "execution_count": 8,
      "id": "2eef7468",
      "metadata": {
        "id": "2eef7468",
        "colab": {
          "base_uri": "https://localhost:8080/",
          "height": 489
        },
        "outputId": "8c236480-90aa-40f4-cd1b-337d55a887ad"
      },
      "outputs": [
        {
          "output_type": "execute_result",
          "data": {
            "text/plain": [
              "Text(0.5, 1.0, 'Training curve DistilGPT2')"
            ]
          },
          "metadata": {},
          "execution_count": 8
        },
        {
          "output_type": "display_data",
          "data": {
            "text/plain": [
              "<Figure size 640x480 with 1 Axes>"
            ],
            "image/png": "[encoded data removed]"
          },
          "metadata": {}
        }
      ],
      "source": [
        "plt.plot(df['epoch_number'].values, df['loss'].values)\n",
        "plt.xlabel('#Epochs')\n",
        "plt.ylabel('Loss value')\n",
        "plt.title('Training curve DistilGPT2')"
      ]
    }
  ],
  "metadata": {
    "kernelspec": {
      "display_name": "Python (torch-gpu)",
      "language": "python",
      "name": "torch-gpu"
    },
    "language_info": {
      "codemirror_mode": {
        "name": "ipython",
        "version": 3
      },
      "file_extension": ".py",
      "mimetype": "text/x-python",
      "name": "python",
      "nbconvert_exporter": "python",
      "pygments_lexer": "ipython3",
      "version": "3.9.16"
    },
    "colab": {
      "provenance": []
    }
  },
  "nbformat": 4,
  "nbformat_minor": 5
}
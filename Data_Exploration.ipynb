{
  "nbformat": 4,
  "nbformat_minor": 0,
  "metadata": {
    "colab": {
      "provenance": []
    },
    "kernelspec": {
      "name": "python3",
      "display_name": "Python 3"
    },
    "language_info": {
      "name": "python"
    }
  },
  "cells": [
    {
      "cell_type": "markdown",
      "source": [
        "### Scifi TV Shows"
      ],
      "metadata": {
        "id": "Jazjyb5JuaUC"
      }
    },
    {
      "cell_type": "code",
      "source": [
        "!unzip '/content/drive/MyDrive/Visual Story Telling/Dataset - Story Generation/scifiTVshows.zip'"
      ],
      "metadata": {
        "colab": {
          "base_uri": "https://localhost:8080/"
        },
        "id": "42vTlYaYuTt_",
        "outputId": "883e64f1-c810-432e-bb47-2f2f05c8c6b1"
      },
      "execution_count": null,
      "outputs": [
        {
          "output_type": "stream",
          "name": "stdout",
          "text": [
            "Archive:  /content/drive/MyDrive/Visual Story Telling/Dataset - Story Generation/scifiTVshows.zip\n",
            "   creating: OriginalStoriesSeparated/\n",
            "  inflating: OriginalStoriesSeparated/Babylon5.txt  \n",
            "  inflating: OriginalStoriesSeparated/DoctorWhoSpinoffs.txt  \n",
            "  inflating: OriginalStoriesSeparated/DoctorWho.txt  \n",
            "  inflating: OriginalStoriesSeparated/Fringe.txt  \n",
            "  inflating: OriginalStoriesSeparated/Farscape.txt  \n",
            "  inflating: OriginalStoriesSeparated/Futurama.txt  \n",
            "  inflating: OriginalStoriesSeparated/Stargate.txt  \n",
            "  inflating: OriginalStoriesSeparated/StarTrek.txt  \n",
            "  inflating: OriginalStoriesSeparated/StarWarsBooks.txt  \n",
            "  inflating: OriginalStoriesSeparated/StarWarsRebels.txt  \n",
            "  inflating: OriginalStoriesSeparated/XFiles.txt  \n",
            "  inflating: scifi-test.txt          \n",
            "  inflating: scifi-train.txt         \n",
            "  inflating: scifi-val.txt           \n"
          ]
        }
      ]
    },
    {
      "cell_type": "code",
      "source": [],
      "metadata": {
        "id": "0iJVeO4Uugtz"
      },
      "execution_count": null,
      "outputs": []
    },
    {
      "cell_type": "markdown",
      "source": [
        "### CMU Summaries"
      ],
      "metadata": {
        "id": "vE1rON7FugVv"
      }
    },
    {
      "cell_type": "code",
      "execution_count": 1,
      "metadata": {
        "id": "c60skQNyQ_GX"
      },
      "outputs": [],
      "source": [
        "import tarfile\n",
        "my_tar = tarfile.open('/content/drive/MyDrive/Visual Story Telling/Dataset - Story Generation/MovieSummaries.tar.gz')\n",
        "my_tar.extractall('./CMU_Summaries')\n",
        "my_tar.close()"
      ]
    },
    {
      "cell_type": "code",
      "source": [
        "with open('/content/CMU_Summaries/MovieSummaries/README.txt','r') as f:\n",
        "  readme_data = f.read()\n",
        "# print(readme_data)"
      ],
      "metadata": {
        "id": "TcymvbAwv0t5"
      },
      "execution_count": 1,
      "outputs": []
    },
    {
      "cell_type": "code",
      "source": [
        "import pandas as pd\n",
        "df_movie_meta = pd.read_table('/content/CMU_Summaries/MovieSummaries/movie.metadata.tsv', header=None, names = ['Wikipedia movie ID','Freebase movie ID','Movie name','Movie release date','Movie box office revenue','Movie runtime','Movie language','Movie countries','Movie genres'])"
      ],
      "metadata": {
        "id": "oJFvapk3u5LE"
      },
      "execution_count": 2,
      "outputs": []
    },
    {
      "cell_type": "code",
      "source": [
        "df_movie_meta"
      ],
      "metadata": {
        "id": "YBGxLdagu7jU"
      },
      "execution_count": null,
      "outputs": []
    },
    {
      "cell_type": "code",
      "source": [
        "df_charac_meta = pd.read_table('/content/CMU_Summaries/MovieSummaries/character.metadata.tsv',header=None, names = ['Wikipedia movie ID', 'Freebase movie ID','Movie release date','Character name','Actor date of birth','Actor gender','Actor height','Actor ethnicity','Actor name','Actor age at movie release','Freebase character/actor map ID','Freebase character ID','Freebase actor ID'])"
      ],
      "metadata": {
        "id": "OgaS110TvegQ"
      },
      "execution_count": 3,
      "outputs": []
    },
    {
      "cell_type": "code",
      "source": [
        "df_charac_meta"
      ],
      "metadata": {
        "id": "RRhZQs7lxyPQ"
      },
      "execution_count": null,
      "outputs": []
    },
    {
      "cell_type": "code",
      "source": [
        "with open('/content/CMU_Summaries/MovieSummaries/plot_summaries.txt','r') as f:\n",
        "  summaries = f.read()"
      ],
      "metadata": {
        "id": "fgzRFS8MuZql"
      },
      "execution_count": 4,
      "outputs": []
    },
    {
      "cell_type": "code",
      "source": [
        "summaries = summaries.split('\\n')"
      ],
      "metadata": {
        "id": "D7--yfOoxzjc"
      },
      "execution_count": 5,
      "outputs": []
    },
    {
      "cell_type": "code",
      "source": [
        "summaries"
      ],
      "metadata": {
        "id": "sx4Lc9IZykd0"
      },
      "execution_count": null,
      "outputs": []
    },
    {
      "cell_type": "code",
      "source": [
        "df_summaries = pd.DataFrame(columns=['Wikipedia movie ID', 'Summary'])"
      ],
      "metadata": {
        "id": "-rPYJVQbylTa"
      },
      "execution_count": 6,
      "outputs": []
    },
    {
      "cell_type": "code",
      "source": [
        "df_summaries['Summary'] = summaries"
      ],
      "metadata": {
        "id": "XZYsKkrBy445"
      },
      "execution_count": 7,
      "outputs": []
    },
    {
      "cell_type": "code",
      "source": [
        "def sep_id(x):\n",
        "  return x.split('\\t')[0]\n",
        "def sep_summary(x):\n",
        "  try:\n",
        "    return x.split('\\t')[1]\n",
        "  except:\n",
        "    return None"
      ],
      "metadata": {
        "id": "3wWvW9YXzSpk"
      },
      "execution_count": 8,
      "outputs": []
    },
    {
      "cell_type": "code",
      "source": [
        "df_summaries['Wikipedia movie ID']  = df_summaries['Summary'].apply(sep_id)\n",
        "df_summaries['Summary'] = df_summaries['Summary'].apply(sep_summary)"
      ],
      "metadata": {
        "id": "Cs0rf0F7zUPj"
      },
      "execution_count": 9,
      "outputs": []
    },
    {
      "cell_type": "code",
      "source": [
        "df_summaries.dropna(inplace=True)"
      ],
      "metadata": {
        "id": "reGBOUa23IKz"
      },
      "execution_count": 10,
      "outputs": []
    },
    {
      "cell_type": "code",
      "source": [
        "df_summaries.reset_index(inplace=True, drop=True)"
      ],
      "metadata": {
        "id": "e-K2xAOQ4Fq3"
      },
      "execution_count": 11,
      "outputs": []
    },
    {
      "cell_type": "code",
      "source": [
        "#Combining movie summaries with other information - movie and character metadata "
      ],
      "metadata": {
        "id": "THKGw3wd2tmh"
      },
      "execution_count": null,
      "outputs": []
    },
    {
      "cell_type": "code",
      "source": [
        "df_summaries = df_summaries.assign(Genre=\"\", Movie_Name=\"\",Characters=\"\")"
      ],
      "metadata": {
        "id": "HpAVXlpHS3-P"
      },
      "execution_count": 12,
      "outputs": []
    },
    {
      "cell_type": "code",
      "source": [
        "df_summaries"
      ],
      "metadata": {
        "id": "uOlBuB0iUJpt"
      },
      "execution_count": null,
      "outputs": []
    },
    {
      "cell_type": "code",
      "source": [
        "labels = []\n",
        "for idx, row in df_summaries.iterrows():\n",
        "  # for idx2, row2 in df_movie_meta.iterrows():\n",
        "    #Get index and then assign values, avoid the for loop and if condition (do the same for characters)\n",
        "    # if row2['Wikipedia movie ID'] == row['Wikipedia movie ID']:\n",
        "      # df_summaries['Movie_Name'].iloc[idx] = row2['Movie name']\n",
        "      # df_summaries['Genre'].iloc[idx] = row2['Movie genres']\n",
        "      # break\n",
        "  try: \n",
        "    index = df_movie_meta['Wikipedia movie ID'].values.tolist().index(int(row['Wikipedia movie ID']))\n",
        "    df_summaries['Movie_Name'].iloc[idx] = df_movie_meta['Movie name'].iloc[index]\n",
        "    df_summaries['Genre'].iloc[idx] = df_movie_meta['Movie genres'].iloc[index]\n",
        "  except:\n",
        "    labels.append(idx)"
      ],
      "metadata": {
        "id": "rg1tYif5SG5C"
      },
      "execution_count": 13,
      "outputs": []
    },
    {
      "cell_type": "code",
      "source": [
        "labels"
      ],
      "metadata": {
        "id": "EWULtoMD3z5J"
      },
      "execution_count": null,
      "outputs": []
    },
    {
      "cell_type": "code",
      "source": [
        "len(labels)"
      ],
      "metadata": {
        "id": "YJnfy_cR4eT9"
      },
      "execution_count": null,
      "outputs": []
    },
    {
      "cell_type": "code",
      "source": [
        "df_summaries"
      ],
      "metadata": {
        "id": "insaAuNw4btl"
      },
      "execution_count": null,
      "outputs": []
    },
    {
      "cell_type": "code",
      "source": [
        "df_summaries.drop(index=labels, axis=0, inplace=True)\n",
        "df_summaries.reset_index(drop=True, inplace=True)"
      ],
      "metadata": {
        "id": "gtG0GAo12ruh"
      },
      "execution_count": 14,
      "outputs": []
    },
    {
      "cell_type": "code",
      "source": [
        "# Extract Genre "
      ],
      "metadata": {
        "id": "ZgjNyeWQrfDk"
      },
      "execution_count": null,
      "outputs": []
    },
    {
      "cell_type": "code",
      "source": [
        "labels=[]\n",
        "for idx, row in df_summaries.iterrows():\n",
        "  index=-1\n",
        "  check = True\n",
        "  # for idx2, row2 in df_charac_meta.iterrows():\n",
        "  #   if row2['Wikipedia movie ID'] == row['Wikipedia movie ID']:\n",
        "  #     df_summaries['Characters'].iloc[idx] = df_summaries['Characters'].iloc[idx]+row2['Character name']\n",
        "  print()\n",
        "  print(row['Movie_Name'], end=' ')\n",
        "  try:  \n",
        "    while True:\n",
        "      index = df_charac_meta['Wikipedia movie ID'].values.tolist()[index+1:].index(int(row['Wikipedia movie ID']))+index+1\n",
        "      df_summaries['Characters'].iloc[idx] = df_summaries['Characters'].iloc[idx] + df_charac_meta['Character name'].iloc[index]\n",
        "      print(df_charac_meta['Character name'].iloc[index], end=' ')\n",
        "      check = False\n",
        "  except:\n",
        "    if check:\n",
        "      labels.append(idx)"
      ],
      "metadata": {
        "id": "dc7AJyU5URJu"
      },
      "execution_count": 15,
      "outputs": []
    },
    {
      "cell_type": "code",
      "source": [
        "df_summaries"
      ],
      "metadata": {
        "colab": {
          "base_uri": "https://localhost:8080/",
          "height": 658
        },
        "id": "cTK5mZ2aC4E1",
        "outputId": "68f7afa1-f971-4306-8d55-9bb55b33b9d2"
      },
      "execution_count": 16,
      "outputs": [
        {
          "output_type": "execute_result",
          "data": {
            "text/plain": [
              "      Wikipedia movie ID                                            Summary  \\\n",
              "0               23890098  Shlykov, a hard-working taxi driver and Lyosha...   \n",
              "1               31186339  The nation of Panem consists of a wealthy Capi...   \n",
              "2               20663735  Poovalli Induchoodan  is sentenced for six yea...   \n",
              "3                2231378  The Lemon Drop Kid , a New York City swindler,...   \n",
              "4                 595909  Seventh-day Adventist Church pastor Michael Ch...   \n",
              "...                  ...                                                ...   \n",
              "42202           34808485  The story is about Reema , a young Muslim scho...   \n",
              "42203            1096473  In 1928 Hollywood, director Leo Andreyev  look...   \n",
              "42204           35102018  American Luthier focuses on Randy Parsons’ tra...   \n",
              "42205            8628195  Abdur Rehman Khan , a middle-aged dry fruit se...   \n",
              "42206            6040782  1940 - Operation Dynamo has just taken place. ...   \n",
              "\n",
              "                                                   Genre  \\\n",
              "0      {\"/m/07s9rl0\": \"Drama\", \"/m/03q4nz\": \"World ci...   \n",
              "1      {\"/m/03btsm8\": \"Action/Adventure\", \"/m/06n90\":...   \n",
              "2      {\"/m/04t36\": \"Musical\", \"/m/02kdv5l\": \"Action\"...   \n",
              "3      {\"/m/06qm3\": \"Screwball comedy\", \"/m/01z4y\": \"...   \n",
              "4      {\"/m/0lsxr\": \"Crime Fiction\", \"/m/07s9rl0\": \"D...   \n",
              "...                                                  ...   \n",
              "42202                        {\"/m/0bj8m2\": \"Children's\"}   \n",
              "42203  {\"/m/06ppq\": \"Silent film\", \"/m/0219x_\": \"Indi...   \n",
              "42204  {\"/m/02hmvc\": \"Short Film\", \"/m/04rlf\": \"Music...   \n",
              "42205                            {\"/m/07s9rl0\": \"Drama\"}   \n",
              "42206                             {\"/m/01z4y\": \"Comedy\"}   \n",
              "\n",
              "                            Movie_Name  \\\n",
              "0                           Taxi Blues   \n",
              "1                     The Hunger Games   \n",
              "2                           Narasimham   \n",
              "3                   The Lemon Drop Kid   \n",
              "4                    A Cry in the Dark   \n",
              "...                                ...   \n",
              "42202              Oomakkuyil Padumbol   \n",
              "42203                 The Last Command   \n",
              "42204  Randy Parsons: American Luthier   \n",
              "42205                       Kabuliwala   \n",
              "42206                       Dad's Army   \n",
              "\n",
              "                                              Characters  \n",
              "0                                                         \n",
              "1      FoxfaceKatniss EverdeenPeeta MellarkEffie Trin...  \n",
              "2                                             M.K. Menon  \n",
              "3                                                         \n",
              "4                                                         \n",
              "...                                                  ...  \n",
              "42202                                                     \n",
              "42203                                                     \n",
              "42204                                                     \n",
              "42205                   LakshmiAbdul Rehman KhanMiniRama  \n",
              "42206                                                     \n",
              "\n",
              "[42207 rows x 5 columns]"
            ],
            "text/html": [
              "\n",
              "  <div id=\"df-baed756f-c718-429b-8ed8-15b9fd2dfcc1\">\n",
              "    <div class=\"colab-df-container\">\n",
              "      <div>\n",
              "<style scoped>\n",
              "    .dataframe tbody tr th:only-of-type {\n",
              "        vertical-align: middle;\n",
              "    }\n",
              "\n",
              "    .dataframe tbody tr th {\n",
              "        vertical-align: top;\n",
              "    }\n",
              "\n",
              "    .dataframe thead th {\n",
              "        text-align: right;\n",
              "    }\n",
              "</style>\n",
              "<table border=\"1\" class=\"dataframe\">\n",
              "  <thead>\n",
              "    <tr style=\"text-align: right;\">\n",
              "      <th></th>\n",
              "      <th>Wikipedia movie ID</th>\n",
              "      <th>Summary</th>\n",
              "      <th>Genre</th>\n",
              "      <th>Movie_Name</th>\n",
              "      <th>Characters</th>\n",
              "    </tr>\n",
              "  </thead>\n",
              "  <tbody>\n",
              "    <tr>\n",
              "      <th>0</th>\n",
              "      <td>23890098</td>\n",
              "      <td>Shlykov, a hard-working taxi driver and Lyosha...</td>\n",
              "      <td>{\"/m/07s9rl0\": \"Drama\", \"/m/03q4nz\": \"World ci...</td>\n",
              "      <td>Taxi Blues</td>\n",
              "      <td></td>\n",
              "    </tr>\n",
              "    <tr>\n",
              "      <th>1</th>\n",
              "      <td>31186339</td>\n",
              "      <td>The nation of Panem consists of a wealthy Capi...</td>\n",
              "      <td>{\"/m/03btsm8\": \"Action/Adventure\", \"/m/06n90\":...</td>\n",
              "      <td>The Hunger Games</td>\n",
              "      <td>FoxfaceKatniss EverdeenPeeta MellarkEffie Trin...</td>\n",
              "    </tr>\n",
              "    <tr>\n",
              "      <th>2</th>\n",
              "      <td>20663735</td>\n",
              "      <td>Poovalli Induchoodan  is sentenced for six yea...</td>\n",
              "      <td>{\"/m/04t36\": \"Musical\", \"/m/02kdv5l\": \"Action\"...</td>\n",
              "      <td>Narasimham</td>\n",
              "      <td>M.K. Menon</td>\n",
              "    </tr>\n",
              "    <tr>\n",
              "      <th>3</th>\n",
              "      <td>2231378</td>\n",
              "      <td>The Lemon Drop Kid , a New York City swindler,...</td>\n",
              "      <td>{\"/m/06qm3\": \"Screwball comedy\", \"/m/01z4y\": \"...</td>\n",
              "      <td>The Lemon Drop Kid</td>\n",
              "      <td></td>\n",
              "    </tr>\n",
              "    <tr>\n",
              "      <th>4</th>\n",
              "      <td>595909</td>\n",
              "      <td>Seventh-day Adventist Church pastor Michael Ch...</td>\n",
              "      <td>{\"/m/0lsxr\": \"Crime Fiction\", \"/m/07s9rl0\": \"D...</td>\n",
              "      <td>A Cry in the Dark</td>\n",
              "      <td></td>\n",
              "    </tr>\n",
              "    <tr>\n",
              "      <th>...</th>\n",
              "      <td>...</td>\n",
              "      <td>...</td>\n",
              "      <td>...</td>\n",
              "      <td>...</td>\n",
              "      <td>...</td>\n",
              "    </tr>\n",
              "    <tr>\n",
              "      <th>42202</th>\n",
              "      <td>34808485</td>\n",
              "      <td>The story is about Reema , a young Muslim scho...</td>\n",
              "      <td>{\"/m/0bj8m2\": \"Children's\"}</td>\n",
              "      <td>Oomakkuyil Padumbol</td>\n",
              "      <td></td>\n",
              "    </tr>\n",
              "    <tr>\n",
              "      <th>42203</th>\n",
              "      <td>1096473</td>\n",
              "      <td>In 1928 Hollywood, director Leo Andreyev  look...</td>\n",
              "      <td>{\"/m/06ppq\": \"Silent film\", \"/m/0219x_\": \"Indi...</td>\n",
              "      <td>The Last Command</td>\n",
              "      <td></td>\n",
              "    </tr>\n",
              "    <tr>\n",
              "      <th>42204</th>\n",
              "      <td>35102018</td>\n",
              "      <td>American Luthier focuses on Randy Parsons’ tra...</td>\n",
              "      <td>{\"/m/02hmvc\": \"Short Film\", \"/m/04rlf\": \"Music...</td>\n",
              "      <td>Randy Parsons: American Luthier</td>\n",
              "      <td></td>\n",
              "    </tr>\n",
              "    <tr>\n",
              "      <th>42205</th>\n",
              "      <td>8628195</td>\n",
              "      <td>Abdur Rehman Khan , a middle-aged dry fruit se...</td>\n",
              "      <td>{\"/m/07s9rl0\": \"Drama\"}</td>\n",
              "      <td>Kabuliwala</td>\n",
              "      <td>LakshmiAbdul Rehman KhanMiniRama</td>\n",
              "    </tr>\n",
              "    <tr>\n",
              "      <th>42206</th>\n",
              "      <td>6040782</td>\n",
              "      <td>1940 - Operation Dynamo has just taken place. ...</td>\n",
              "      <td>{\"/m/01z4y\": \"Comedy\"}</td>\n",
              "      <td>Dad's Army</td>\n",
              "      <td></td>\n",
              "    </tr>\n",
              "  </tbody>\n",
              "</table>\n",
              "<p>42207 rows × 5 columns</p>\n",
              "</div>\n",
              "      <button class=\"colab-df-convert\" onclick=\"convertToInteractive('df-baed756f-c718-429b-8ed8-15b9fd2dfcc1')\"\n",
              "              title=\"Convert this dataframe to an interactive table.\"\n",
              "              style=\"display:none;\">\n",
              "        \n",
              "  <svg xmlns=\"http://www.w3.org/2000/svg\" height=\"24px\"viewBox=\"0 0 24 24\"\n",
              "       width=\"24px\">\n",
              "    <path d=\"M0 0h24v24H0V0z\" fill=\"none\"/>\n",
              "    <path d=\"M18.56 5.44l.94 2.06.94-2.06 2.06-.94-2.06-.94-.94-2.06-.94 2.06-2.06.94zm-11 1L8.5 8.5l.94-2.06 2.06-.94-2.06-.94L8.5 2.5l-.94 2.06-2.06.94zm10 10l.94 2.06.94-2.06 2.06-.94-2.06-.94-.94-2.06-.94 2.06-2.06.94z\"/><path d=\"M17.41 7.96l-1.37-1.37c-.4-.4-.92-.59-1.43-.59-.52 0-1.04.2-1.43.59L10.3 9.45l-7.72 7.72c-.78.78-.78 2.05 0 2.83L4 21.41c.39.39.9.59 1.41.59.51 0 1.02-.2 1.41-.59l7.78-7.78 2.81-2.81c.8-.78.8-2.07 0-2.86zM5.41 20L4 18.59l7.72-7.72 1.47 1.35L5.41 20z\"/>\n",
              "  </svg>\n",
              "      </button>\n",
              "      \n",
              "  <style>\n",
              "    .colab-df-container {\n",
              "      display:flex;\n",
              "      flex-wrap:wrap;\n",
              "      gap: 12px;\n",
              "    }\n",
              "\n",
              "    .colab-df-convert {\n",
              "      background-color: #E8F0FE;\n",
              "      border: none;\n",
              "      border-radius: 50%;\n",
              "      cursor: pointer;\n",
              "      display: none;\n",
              "      fill: #1967D2;\n",
              "      height: 32px;\n",
              "      padding: 0 0 0 0;\n",
              "      width: 32px;\n",
              "    }\n",
              "\n",
              "    .colab-df-convert:hover {\n",
              "      background-color: #E2EBFA;\n",
              "      box-shadow: 0px 1px 2px rgba(60, 64, 67, 0.3), 0px 1px 3px 1px rgba(60, 64, 67, 0.15);\n",
              "      fill: #174EA6;\n",
              "    }\n",
              "\n",
              "    [theme=dark] .colab-df-convert {\n",
              "      background-color: #3B4455;\n",
              "      fill: #D2E3FC;\n",
              "    }\n",
              "\n",
              "    [theme=dark] .colab-df-convert:hover {\n",
              "      background-color: #434B5C;\n",
              "      box-shadow: 0px 1px 3px 1px rgba(0, 0, 0, 0.15);\n",
              "      filter: drop-shadow(0px 1px 2px rgba(0, 0, 0, 0.3));\n",
              "      fill: #FFFFFF;\n",
              "    }\n",
              "  </style>\n",
              "\n",
              "      <script>\n",
              "        const buttonEl =\n",
              "          document.querySelector('#df-baed756f-c718-429b-8ed8-15b9fd2dfcc1 button.colab-df-convert');\n",
              "        buttonEl.style.display =\n",
              "          google.colab.kernel.accessAllowed ? 'block' : 'none';\n",
              "\n",
              "        async function convertToInteractive(key) {\n",
              "          const element = document.querySelector('#df-baed756f-c718-429b-8ed8-15b9fd2dfcc1');\n",
              "          const dataTable =\n",
              "            await google.colab.kernel.invokeFunction('convertToInteractive',\n",
              "                                                     [key], {});\n",
              "          if (!dataTable) return;\n",
              "\n",
              "          const docLinkHtml = 'Like what you see? Visit the ' +\n",
              "            '<a target=\"_blank\" href=https://colab.research.google.com/notebooks/data_table.ipynb>data table notebook</a>'\n",
              "            + ' to learn more about interactive tables.';\n",
              "          element.innerHTML = '';\n",
              "          dataTable['output_type'] = 'display_data';\n",
              "          await google.colab.output.renderOutput(dataTable, element);\n",
              "          const docLink = document.createElement('div');\n",
              "          docLink.innerHTML = docLinkHtml;\n",
              "          element.appendChild(docLink);\n",
              "        }\n",
              "      </script>\n",
              "    </div>\n",
              "  </div>\n",
              "  "
            ]
          },
          "metadata": {},
          "execution_count": 16
        }
      ]
    },
    {
      "cell_type": "code",
      "source": [
        "len(labels)"
      ],
      "metadata": {
        "colab": {
          "base_uri": "https://localhost:8080/"
        },
        "id": "Al2MRw4_HHmf",
        "outputId": "556983eb-9303-40b6-cdc8-c90d617fc84e"
      },
      "execution_count": 17,
      "outputs": [
        {
          "output_type": "execute_result",
          "data": {
            "text/plain": [
              "28289"
            ]
          },
          "metadata": {},
          "execution_count": 17
        }
      ]
    },
    {
      "cell_type": "code",
      "source": [
        "# Take characters from BookNLP instead of the corpus"
      ],
      "metadata": {
        "id": "heyCw72kq-fc"
      },
      "execution_count": null,
      "outputs": []
    }
  ]
}
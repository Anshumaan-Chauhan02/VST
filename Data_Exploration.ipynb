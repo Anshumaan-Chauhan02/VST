{
  "nbformat": 4,
  "nbformat_minor": 0,
  "metadata": {
    "colab": {
      "provenance": [],
      "collapsed_sections": [
        "Jazjyb5JuaUC"
      ]
    },
    "kernelspec": {
      "name": "python3",
      "display_name": "Python 3"
    },
    "language_info": {
      "name": "python"
    }
  },
  "cells": [
    {
      "cell_type": "markdown",
      "source": [
        "### Scifi TV Shows"
      ],
      "metadata": {
        "id": "Jazjyb5JuaUC"
      }
    },
    {
      "cell_type": "code",
      "source": [
        "!unzip '/content/drive/MyDrive/Visual Story Telling/Dataset - Story Generation/scifiTVshows.zip'"
      ],
      "metadata": {
        "colab": {
          "base_uri": "https://localhost:8080/"
        },
        "id": "42vTlYaYuTt_",
        "outputId": "883e64f1-c810-432e-bb47-2f2f05c8c6b1"
      },
      "execution_count": 2,
      "outputs": [
        {
          "output_type": "stream",
          "name": "stdout",
          "text": [
            "Archive:  /content/drive/MyDrive/Visual Story Telling/Dataset - Story Generation/scifiTVshows.zip\n",
            "   creating: OriginalStoriesSeparated/\n",
            "  inflating: OriginalStoriesSeparated/Babylon5.txt  \n",
            "  inflating: OriginalStoriesSeparated/DoctorWhoSpinoffs.txt  \n",
            "  inflating: OriginalStoriesSeparated/DoctorWho.txt  \n",
            "  inflating: OriginalStoriesSeparated/Fringe.txt  \n",
            "  inflating: OriginalStoriesSeparated/Farscape.txt  \n",
            "  inflating: OriginalStoriesSeparated/Futurama.txt  \n",
            "  inflating: OriginalStoriesSeparated/Stargate.txt  \n",
            "  inflating: OriginalStoriesSeparated/StarTrek.txt  \n",
            "  inflating: OriginalStoriesSeparated/StarWarsBooks.txt  \n",
            "  inflating: OriginalStoriesSeparated/StarWarsRebels.txt  \n",
            "  inflating: OriginalStoriesSeparated/XFiles.txt  \n",
            "  inflating: scifi-test.txt          \n",
            "  inflating: scifi-train.txt         \n",
            "  inflating: scifi-val.txt           \n"
          ]
        }
      ]
    },
    {
      "cell_type": "code",
      "source": [],
      "metadata": {
        "id": "0iJVeO4Uugtz"
      },
      "execution_count": null,
      "outputs": []
    },
    {
      "cell_type": "markdown",
      "source": [
        "### CMU Summaries"
      ],
      "metadata": {
        "id": "vE1rON7FugVv"
      }
    },
    {
      "cell_type": "code",
      "execution_count": 1,
      "metadata": {
        "id": "c60skQNyQ_GX"
      },
      "outputs": [],
      "source": [
        "import tarfile\n",
        "my_tar = tarfile.open('/content/drive/MyDrive/Visual Story Telling/Dataset - Story Generation/MovieSummaries.tar.gz')\n",
        "my_tar.extractall('./CMU_Summaries')\n",
        "my_tar.close()"
      ]
    },
    {
      "cell_type": "code",
      "source": [
        "with open('/content/CMU_Summaries/MovieSummaries/README.txt','r') as f:\n",
        "  readme_data = f.read()\n",
        "print(readme_data)"
      ],
      "metadata": {
        "id": "TcymvbAwv0t5"
      },
      "execution_count": null,
      "outputs": []
    },
    {
      "cell_type": "code",
      "source": [
        "import pandas as pd\n",
        "df_movie_meta = pd.read_table('/content/CMU_Summaries/MovieSummaries/movie.metadata.tsv', header=None, names = ['Wikipedia movie ID','Freebase movie ID','Movie name','Movie release date','Movie box office revenue','Movie runtime','Movie language','Movie countries','Movie genres'])"
      ],
      "metadata": {
        "id": "oJFvapk3u5LE"
      },
      "execution_count": 17,
      "outputs": []
    },
    {
      "cell_type": "code",
      "source": [
        "df_movie_meta"
      ],
      "metadata": {
        "colab": {
          "base_uri": "https://localhost:8080/",
          "height": 866
        },
        "id": "YBGxLdagu7jU",
        "outputId": "2c71e43c-1ff8-49e1-98fe-c87e4c1fbd21"
      },
      "execution_count": 87,
      "outputs": [
        {
          "output_type": "execute_result",
          "data": {
            "text/plain": [
              "       Wikipedia movie ID Freebase movie ID  \\\n",
              "0                  975900         /m/03vyhn   \n",
              "1                 3196793         /m/08yl5d   \n",
              "2                28463795        /m/0crgdbh   \n",
              "3                 9363483        /m/0285_cd   \n",
              "4                  261236         /m/01mrr1   \n",
              "...                   ...               ...   \n",
              "81736            35228177        /m/0j7hxnt   \n",
              "81737            34980460        /m/0g4pl34   \n",
              "81738             9971909        /m/02pygw1   \n",
              "81739              913762         /m/03pcrp   \n",
              "81740            12476867        /m/02w7zz8   \n",
              "\n",
              "                                              Movie name Movie release date  \\\n",
              "0                                         Ghosts of Mars         2001-08-24   \n",
              "1      Getting Away with Murder: The JonBenét Ramsey ...         2000-02-16   \n",
              "2                                            Brun bitter               1988   \n",
              "3                                       White Of The Eye               1987   \n",
              "4                                      A Woman in Flames               1983   \n",
              "...                                                  ...                ...   \n",
              "81736                           Mermaids: The Body Found         2011-03-19   \n",
              "81737                                            Knuckle         2011-01-21   \n",
              "81738                                  Another Nice Mess         1972-09-22   \n",
              "81739  The Super Dimension Fortress Macross II: Lover...         1992-05-21   \n",
              "81740                                            Spliced               2002   \n",
              "\n",
              "       Movie box office revenue  Movie runtime  \\\n",
              "0                    14010832.0           98.0   \n",
              "1                           NaN           95.0   \n",
              "2                           NaN           83.0   \n",
              "3                           NaN          110.0   \n",
              "4                           NaN          106.0   \n",
              "...                         ...            ...   \n",
              "81736                       NaN          120.0   \n",
              "81737                       NaN           96.0   \n",
              "81738                       NaN           66.0   \n",
              "81739                       NaN          150.0   \n",
              "81740                       NaN           86.0   \n",
              "\n",
              "                           Movie language  \\\n",
              "0      {\"/m/02h40lc\": \"English Language\"}   \n",
              "1      {\"/m/02h40lc\": \"English Language\"}   \n",
              "2      {\"/m/05f_3\": \"Norwegian Language\"}   \n",
              "3      {\"/m/02h40lc\": \"English Language\"}   \n",
              "4       {\"/m/04306rv\": \"German Language\"}   \n",
              "...                                   ...   \n",
              "81736  {\"/m/02h40lc\": \"English Language\"}   \n",
              "81737  {\"/m/02h40lc\": \"English Language\"}   \n",
              "81738  {\"/m/02h40lc\": \"English Language\"}   \n",
              "81739   {\"/m/03_9r\": \"Japanese Language\"}   \n",
              "81740  {\"/m/02h40lc\": \"English Language\"}   \n",
              "\n",
              "                                         Movie countries  \\\n",
              "0              {\"/m/09c7w0\": \"United States of America\"}   \n",
              "1              {\"/m/09c7w0\": \"United States of America\"}   \n",
              "2                                 {\"/m/05b4w\": \"Norway\"}   \n",
              "3                         {\"/m/07ssc\": \"United Kingdom\"}   \n",
              "4                                {\"/m/0345h\": \"Germany\"}   \n",
              "...                                                  ...   \n",
              "81736          {\"/m/09c7w0\": \"United States of America\"}   \n",
              "81737  {\"/m/03rt9\": \"Ireland\", \"/m/07ssc\": \"United Ki...   \n",
              "81738          {\"/m/09c7w0\": \"United States of America\"}   \n",
              "81739                              {\"/m/03_3d\": \"Japan\"}   \n",
              "81740                            {\"/m/0d060g\": \"Canada\"}   \n",
              "\n",
              "                                            Movie genres  \n",
              "0      {\"/m/01jfsb\": \"Thriller\", \"/m/06n90\": \"Science...  \n",
              "1      {\"/m/02n4kr\": \"Mystery\", \"/m/03bxz7\": \"Biograp...  \n",
              "2      {\"/m/0lsxr\": \"Crime Fiction\", \"/m/07s9rl0\": \"D...  \n",
              "3      {\"/m/01jfsb\": \"Thriller\", \"/m/0glj9q\": \"Erotic...  \n",
              "4                                {\"/m/07s9rl0\": \"Drama\"}  \n",
              "...                                                  ...  \n",
              "81736                            {\"/m/07s9rl0\": \"Drama\"}  \n",
              "81737  {\"/m/03bxz7\": \"Biographical film\", \"/m/07s9rl0...  \n",
              "81738       {\"/m/06nbt\": \"Satire\", \"/m/01z4y\": \"Comedy\"}  \n",
              "81739  {\"/m/06n90\": \"Science Fiction\", \"/m/0gw5n2f\": ...  \n",
              "81740  {\"/m/01jfsb\": \"Thriller\", \"/m/03npn\": \"Horror\"...  \n",
              "\n",
              "[81741 rows x 9 columns]"
            ],
            "text/html": [
              "\n",
              "  <div id=\"df-ebc06d8b-3fd8-4a85-868d-3a475ad17ec0\">\n",
              "    <div class=\"colab-df-container\">\n",
              "      <div>\n",
              "<style scoped>\n",
              "    .dataframe tbody tr th:only-of-type {\n",
              "        vertical-align: middle;\n",
              "    }\n",
              "\n",
              "    .dataframe tbody tr th {\n",
              "        vertical-align: top;\n",
              "    }\n",
              "\n",
              "    .dataframe thead th {\n",
              "        text-align: right;\n",
              "    }\n",
              "</style>\n",
              "<table border=\"1\" class=\"dataframe\">\n",
              "  <thead>\n",
              "    <tr style=\"text-align: right;\">\n",
              "      <th></th>\n",
              "      <th>Wikipedia movie ID</th>\n",
              "      <th>Freebase movie ID</th>\n",
              "      <th>Movie name</th>\n",
              "      <th>Movie release date</th>\n",
              "      <th>Movie box office revenue</th>\n",
              "      <th>Movie runtime</th>\n",
              "      <th>Movie language</th>\n",
              "      <th>Movie countries</th>\n",
              "      <th>Movie genres</th>\n",
              "    </tr>\n",
              "  </thead>\n",
              "  <tbody>\n",
              "    <tr>\n",
              "      <th>0</th>\n",
              "      <td>975900</td>\n",
              "      <td>/m/03vyhn</td>\n",
              "      <td>Ghosts of Mars</td>\n",
              "      <td>2001-08-24</td>\n",
              "      <td>14010832.0</td>\n",
              "      <td>98.0</td>\n",
              "      <td>{\"/m/02h40lc\": \"English Language\"}</td>\n",
              "      <td>{\"/m/09c7w0\": \"United States of America\"}</td>\n",
              "      <td>{\"/m/01jfsb\": \"Thriller\", \"/m/06n90\": \"Science...</td>\n",
              "    </tr>\n",
              "    <tr>\n",
              "      <th>1</th>\n",
              "      <td>3196793</td>\n",
              "      <td>/m/08yl5d</td>\n",
              "      <td>Getting Away with Murder: The JonBenét Ramsey ...</td>\n",
              "      <td>2000-02-16</td>\n",
              "      <td>NaN</td>\n",
              "      <td>95.0</td>\n",
              "      <td>{\"/m/02h40lc\": \"English Language\"}</td>\n",
              "      <td>{\"/m/09c7w0\": \"United States of America\"}</td>\n",
              "      <td>{\"/m/02n4kr\": \"Mystery\", \"/m/03bxz7\": \"Biograp...</td>\n",
              "    </tr>\n",
              "    <tr>\n",
              "      <th>2</th>\n",
              "      <td>28463795</td>\n",
              "      <td>/m/0crgdbh</td>\n",
              "      <td>Brun bitter</td>\n",
              "      <td>1988</td>\n",
              "      <td>NaN</td>\n",
              "      <td>83.0</td>\n",
              "      <td>{\"/m/05f_3\": \"Norwegian Language\"}</td>\n",
              "      <td>{\"/m/05b4w\": \"Norway\"}</td>\n",
              "      <td>{\"/m/0lsxr\": \"Crime Fiction\", \"/m/07s9rl0\": \"D...</td>\n",
              "    </tr>\n",
              "    <tr>\n",
              "      <th>3</th>\n",
              "      <td>9363483</td>\n",
              "      <td>/m/0285_cd</td>\n",
              "      <td>White Of The Eye</td>\n",
              "      <td>1987</td>\n",
              "      <td>NaN</td>\n",
              "      <td>110.0</td>\n",
              "      <td>{\"/m/02h40lc\": \"English Language\"}</td>\n",
              "      <td>{\"/m/07ssc\": \"United Kingdom\"}</td>\n",
              "      <td>{\"/m/01jfsb\": \"Thriller\", \"/m/0glj9q\": \"Erotic...</td>\n",
              "    </tr>\n",
              "    <tr>\n",
              "      <th>4</th>\n",
              "      <td>261236</td>\n",
              "      <td>/m/01mrr1</td>\n",
              "      <td>A Woman in Flames</td>\n",
              "      <td>1983</td>\n",
              "      <td>NaN</td>\n",
              "      <td>106.0</td>\n",
              "      <td>{\"/m/04306rv\": \"German Language\"}</td>\n",
              "      <td>{\"/m/0345h\": \"Germany\"}</td>\n",
              "      <td>{\"/m/07s9rl0\": \"Drama\"}</td>\n",
              "    </tr>\n",
              "    <tr>\n",
              "      <th>...</th>\n",
              "      <td>...</td>\n",
              "      <td>...</td>\n",
              "      <td>...</td>\n",
              "      <td>...</td>\n",
              "      <td>...</td>\n",
              "      <td>...</td>\n",
              "      <td>...</td>\n",
              "      <td>...</td>\n",
              "      <td>...</td>\n",
              "    </tr>\n",
              "    <tr>\n",
              "      <th>81736</th>\n",
              "      <td>35228177</td>\n",
              "      <td>/m/0j7hxnt</td>\n",
              "      <td>Mermaids: The Body Found</td>\n",
              "      <td>2011-03-19</td>\n",
              "      <td>NaN</td>\n",
              "      <td>120.0</td>\n",
              "      <td>{\"/m/02h40lc\": \"English Language\"}</td>\n",
              "      <td>{\"/m/09c7w0\": \"United States of America\"}</td>\n",
              "      <td>{\"/m/07s9rl0\": \"Drama\"}</td>\n",
              "    </tr>\n",
              "    <tr>\n",
              "      <th>81737</th>\n",
              "      <td>34980460</td>\n",
              "      <td>/m/0g4pl34</td>\n",
              "      <td>Knuckle</td>\n",
              "      <td>2011-01-21</td>\n",
              "      <td>NaN</td>\n",
              "      <td>96.0</td>\n",
              "      <td>{\"/m/02h40lc\": \"English Language\"}</td>\n",
              "      <td>{\"/m/03rt9\": \"Ireland\", \"/m/07ssc\": \"United Ki...</td>\n",
              "      <td>{\"/m/03bxz7\": \"Biographical film\", \"/m/07s9rl0...</td>\n",
              "    </tr>\n",
              "    <tr>\n",
              "      <th>81738</th>\n",
              "      <td>9971909</td>\n",
              "      <td>/m/02pygw1</td>\n",
              "      <td>Another Nice Mess</td>\n",
              "      <td>1972-09-22</td>\n",
              "      <td>NaN</td>\n",
              "      <td>66.0</td>\n",
              "      <td>{\"/m/02h40lc\": \"English Language\"}</td>\n",
              "      <td>{\"/m/09c7w0\": \"United States of America\"}</td>\n",
              "      <td>{\"/m/06nbt\": \"Satire\", \"/m/01z4y\": \"Comedy\"}</td>\n",
              "    </tr>\n",
              "    <tr>\n",
              "      <th>81739</th>\n",
              "      <td>913762</td>\n",
              "      <td>/m/03pcrp</td>\n",
              "      <td>The Super Dimension Fortress Macross II: Lover...</td>\n",
              "      <td>1992-05-21</td>\n",
              "      <td>NaN</td>\n",
              "      <td>150.0</td>\n",
              "      <td>{\"/m/03_9r\": \"Japanese Language\"}</td>\n",
              "      <td>{\"/m/03_3d\": \"Japan\"}</td>\n",
              "      <td>{\"/m/06n90\": \"Science Fiction\", \"/m/0gw5n2f\": ...</td>\n",
              "    </tr>\n",
              "    <tr>\n",
              "      <th>81740</th>\n",
              "      <td>12476867</td>\n",
              "      <td>/m/02w7zz8</td>\n",
              "      <td>Spliced</td>\n",
              "      <td>2002</td>\n",
              "      <td>NaN</td>\n",
              "      <td>86.0</td>\n",
              "      <td>{\"/m/02h40lc\": \"English Language\"}</td>\n",
              "      <td>{\"/m/0d060g\": \"Canada\"}</td>\n",
              "      <td>{\"/m/01jfsb\": \"Thriller\", \"/m/03npn\": \"Horror\"...</td>\n",
              "    </tr>\n",
              "  </tbody>\n",
              "</table>\n",
              "<p>81741 rows × 9 columns</p>\n",
              "</div>\n",
              "      <button class=\"colab-df-convert\" onclick=\"convertToInteractive('df-ebc06d8b-3fd8-4a85-868d-3a475ad17ec0')\"\n",
              "              title=\"Convert this dataframe to an interactive table.\"\n",
              "              style=\"display:none;\">\n",
              "        \n",
              "  <svg xmlns=\"http://www.w3.org/2000/svg\" height=\"24px\"viewBox=\"0 0 24 24\"\n",
              "       width=\"24px\">\n",
              "    <path d=\"M0 0h24v24H0V0z\" fill=\"none\"/>\n",
              "    <path d=\"M18.56 5.44l.94 2.06.94-2.06 2.06-.94-2.06-.94-.94-2.06-.94 2.06-2.06.94zm-11 1L8.5 8.5l.94-2.06 2.06-.94-2.06-.94L8.5 2.5l-.94 2.06-2.06.94zm10 10l.94 2.06.94-2.06 2.06-.94-2.06-.94-.94-2.06-.94 2.06-2.06.94z\"/><path d=\"M17.41 7.96l-1.37-1.37c-.4-.4-.92-.59-1.43-.59-.52 0-1.04.2-1.43.59L10.3 9.45l-7.72 7.72c-.78.78-.78 2.05 0 2.83L4 21.41c.39.39.9.59 1.41.59.51 0 1.02-.2 1.41-.59l7.78-7.78 2.81-2.81c.8-.78.8-2.07 0-2.86zM5.41 20L4 18.59l7.72-7.72 1.47 1.35L5.41 20z\"/>\n",
              "  </svg>\n",
              "      </button>\n",
              "      \n",
              "  <style>\n",
              "    .colab-df-container {\n",
              "      display:flex;\n",
              "      flex-wrap:wrap;\n",
              "      gap: 12px;\n",
              "    }\n",
              "\n",
              "    .colab-df-convert {\n",
              "      background-color: #E8F0FE;\n",
              "      border: none;\n",
              "      border-radius: 50%;\n",
              "      cursor: pointer;\n",
              "      display: none;\n",
              "      fill: #1967D2;\n",
              "      height: 32px;\n",
              "      padding: 0 0 0 0;\n",
              "      width: 32px;\n",
              "    }\n",
              "\n",
              "    .colab-df-convert:hover {\n",
              "      background-color: #E2EBFA;\n",
              "      box-shadow: 0px 1px 2px rgba(60, 64, 67, 0.3), 0px 1px 3px 1px rgba(60, 64, 67, 0.15);\n",
              "      fill: #174EA6;\n",
              "    }\n",
              "\n",
              "    [theme=dark] .colab-df-convert {\n",
              "      background-color: #3B4455;\n",
              "      fill: #D2E3FC;\n",
              "    }\n",
              "\n",
              "    [theme=dark] .colab-df-convert:hover {\n",
              "      background-color: #434B5C;\n",
              "      box-shadow: 0px 1px 3px 1px rgba(0, 0, 0, 0.15);\n",
              "      filter: drop-shadow(0px 1px 2px rgba(0, 0, 0, 0.3));\n",
              "      fill: #FFFFFF;\n",
              "    }\n",
              "  </style>\n",
              "\n",
              "      <script>\n",
              "        const buttonEl =\n",
              "          document.querySelector('#df-ebc06d8b-3fd8-4a85-868d-3a475ad17ec0 button.colab-df-convert');\n",
              "        buttonEl.style.display =\n",
              "          google.colab.kernel.accessAllowed ? 'block' : 'none';\n",
              "\n",
              "        async function convertToInteractive(key) {\n",
              "          const element = document.querySelector('#df-ebc06d8b-3fd8-4a85-868d-3a475ad17ec0');\n",
              "          const dataTable =\n",
              "            await google.colab.kernel.invokeFunction('convertToInteractive',\n",
              "                                                     [key], {});\n",
              "          if (!dataTable) return;\n",
              "\n",
              "          const docLinkHtml = 'Like what you see? Visit the ' +\n",
              "            '<a target=\"_blank\" href=https://colab.research.google.com/notebooks/data_table.ipynb>data table notebook</a>'\n",
              "            + ' to learn more about interactive tables.';\n",
              "          element.innerHTML = '';\n",
              "          dataTable['output_type'] = 'display_data';\n",
              "          await google.colab.output.renderOutput(dataTable, element);\n",
              "          const docLink = document.createElement('div');\n",
              "          docLink.innerHTML = docLinkHtml;\n",
              "          element.appendChild(docLink);\n",
              "        }\n",
              "      </script>\n",
              "    </div>\n",
              "  </div>\n",
              "  "
            ]
          },
          "metadata": {},
          "execution_count": 87
        }
      ]
    },
    {
      "cell_type": "code",
      "source": [
        "df_charac_meta = pd.read_table('/content/CMU_Summaries/MovieSummaries/character.metadata.tsv',header=None, names = ['Wikipedia movie ID', 'Freebase movie ID','Movie release date','Character name','Actor date of birth','Actor gender','Actor height','Actor ethnicity','Actor name','Actor age at movie release','Freebase character/actor map ID','Freebase character ID','Freebase actor ID'])"
      ],
      "metadata": {
        "id": "OgaS110TvegQ"
      },
      "execution_count": 19,
      "outputs": []
    },
    {
      "cell_type": "code",
      "source": [
        "df_charac_meta"
      ],
      "metadata": {
        "id": "RRhZQs7lxyPQ"
      },
      "execution_count": null,
      "outputs": []
    },
    {
      "cell_type": "code",
      "source": [
        "with open('/content/CMU_Summaries/MovieSummaries/plot_summaries.txt','r') as f:\n",
        "  summaries = f.read()"
      ],
      "metadata": {
        "id": "fgzRFS8MuZql"
      },
      "execution_count": 21,
      "outputs": []
    },
    {
      "cell_type": "code",
      "source": [
        "summaries = summaries.split('\\n')"
      ],
      "metadata": {
        "id": "D7--yfOoxzjc"
      },
      "execution_count": 22,
      "outputs": []
    },
    {
      "cell_type": "code",
      "source": [
        "summaries"
      ],
      "metadata": {
        "id": "sx4Lc9IZykd0"
      },
      "execution_count": null,
      "outputs": []
    },
    {
      "cell_type": "code",
      "source": [
        "df_summaries = pd.DataFrame(columns=['Wikipedia movie ID', 'Summary'])"
      ],
      "metadata": {
        "id": "-rPYJVQbylTa"
      },
      "execution_count": 26,
      "outputs": []
    },
    {
      "cell_type": "code",
      "source": [
        "df_summaries['Summary'] = summaries"
      ],
      "metadata": {
        "id": "XZYsKkrBy445"
      },
      "execution_count": 27,
      "outputs": []
    },
    {
      "cell_type": "code",
      "source": [
        "def sep_id(x):\n",
        "  return x.split('\\t')[0]\n",
        "def sep_summary(x):\n",
        "  try:\n",
        "    return x.split('\\t')[1]\n",
        "  except:\n",
        "    return None"
      ],
      "metadata": {
        "id": "3wWvW9YXzSpk"
      },
      "execution_count": 81,
      "outputs": []
    },
    {
      "cell_type": "code",
      "source": [
        "df_summaries['Wikipedia movie ID']  = df_summaries['Summary'].apply(sep_id)\n",
        "df_summaries['Summary'] = df_summaries['Summary'].apply(sep_summary)"
      ],
      "metadata": {
        "id": "Cs0rf0F7zUPj"
      },
      "execution_count": 82,
      "outputs": []
    },
    {
      "cell_type": "code",
      "source": [
        "df_summaries.dropna(inplace=True)"
      ],
      "metadata": {
        "id": "reGBOUa23IKz"
      },
      "execution_count": 83,
      "outputs": []
    },
    {
      "cell_type": "code",
      "source": [
        "df_summaries.reset_index(inplace=True, drop=True)"
      ],
      "metadata": {
        "id": "e-K2xAOQ4Fq3"
      },
      "execution_count": 84,
      "outputs": []
    },
    {
      "cell_type": "code",
      "source": [
        "df_summaries"
      ],
      "metadata": {
        "colab": {
          "base_uri": "https://localhost:8080/",
          "height": 423
        },
        "id": "j05xM-KF19Wz",
        "outputId": "f3b6b5f1-96d3-46ba-e459-3c3931c8f8cf"
      },
      "execution_count": 85,
      "outputs": [
        {
          "output_type": "execute_result",
          "data": {
            "text/plain": [
              "      Wikipedia movie ID                                            Summary\n",
              "0               23890098  Shlykov, a hard-working taxi driver and Lyosha...\n",
              "1               31186339  The nation of Panem consists of a wealthy Capi...\n",
              "2               20663735  Poovalli Induchoodan  is sentenced for six yea...\n",
              "3                2231378  The Lemon Drop Kid , a New York City swindler,...\n",
              "4                 595909  Seventh-day Adventist Church pastor Michael Ch...\n",
              "...                  ...                                                ...\n",
              "42301           34808485  The story is about Reema , a young Muslim scho...\n",
              "42302            1096473  In 1928 Hollywood, director Leo Andreyev  look...\n",
              "42303           35102018  American Luthier focuses on Randy Parsons’ tra...\n",
              "42304            8628195  Abdur Rehman Khan , a middle-aged dry fruit se...\n",
              "42305            6040782  1940 - Operation Dynamo has just taken place. ...\n",
              "\n",
              "[42306 rows x 2 columns]"
            ],
            "text/html": [
              "\n",
              "  <div id=\"df-7b151b01-a315-44c4-8094-188a6b08d97b\">\n",
              "    <div class=\"colab-df-container\">\n",
              "      <div>\n",
              "<style scoped>\n",
              "    .dataframe tbody tr th:only-of-type {\n",
              "        vertical-align: middle;\n",
              "    }\n",
              "\n",
              "    .dataframe tbody tr th {\n",
              "        vertical-align: top;\n",
              "    }\n",
              "\n",
              "    .dataframe thead th {\n",
              "        text-align: right;\n",
              "    }\n",
              "</style>\n",
              "<table border=\"1\" class=\"dataframe\">\n",
              "  <thead>\n",
              "    <tr style=\"text-align: right;\">\n",
              "      <th></th>\n",
              "      <th>Wikipedia movie ID</th>\n",
              "      <th>Summary</th>\n",
              "    </tr>\n",
              "  </thead>\n",
              "  <tbody>\n",
              "    <tr>\n",
              "      <th>0</th>\n",
              "      <td>23890098</td>\n",
              "      <td>Shlykov, a hard-working taxi driver and Lyosha...</td>\n",
              "    </tr>\n",
              "    <tr>\n",
              "      <th>1</th>\n",
              "      <td>31186339</td>\n",
              "      <td>The nation of Panem consists of a wealthy Capi...</td>\n",
              "    </tr>\n",
              "    <tr>\n",
              "      <th>2</th>\n",
              "      <td>20663735</td>\n",
              "      <td>Poovalli Induchoodan  is sentenced for six yea...</td>\n",
              "    </tr>\n",
              "    <tr>\n",
              "      <th>3</th>\n",
              "      <td>2231378</td>\n",
              "      <td>The Lemon Drop Kid , a New York City swindler,...</td>\n",
              "    </tr>\n",
              "    <tr>\n",
              "      <th>4</th>\n",
              "      <td>595909</td>\n",
              "      <td>Seventh-day Adventist Church pastor Michael Ch...</td>\n",
              "    </tr>\n",
              "    <tr>\n",
              "      <th>...</th>\n",
              "      <td>...</td>\n",
              "      <td>...</td>\n",
              "    </tr>\n",
              "    <tr>\n",
              "      <th>42301</th>\n",
              "      <td>34808485</td>\n",
              "      <td>The story is about Reema , a young Muslim scho...</td>\n",
              "    </tr>\n",
              "    <tr>\n",
              "      <th>42302</th>\n",
              "      <td>1096473</td>\n",
              "      <td>In 1928 Hollywood, director Leo Andreyev  look...</td>\n",
              "    </tr>\n",
              "    <tr>\n",
              "      <th>42303</th>\n",
              "      <td>35102018</td>\n",
              "      <td>American Luthier focuses on Randy Parsons’ tra...</td>\n",
              "    </tr>\n",
              "    <tr>\n",
              "      <th>42304</th>\n",
              "      <td>8628195</td>\n",
              "      <td>Abdur Rehman Khan , a middle-aged dry fruit se...</td>\n",
              "    </tr>\n",
              "    <tr>\n",
              "      <th>42305</th>\n",
              "      <td>6040782</td>\n",
              "      <td>1940 - Operation Dynamo has just taken place. ...</td>\n",
              "    </tr>\n",
              "  </tbody>\n",
              "</table>\n",
              "<p>42306 rows × 2 columns</p>\n",
              "</div>\n",
              "      <button class=\"colab-df-convert\" onclick=\"convertToInteractive('df-7b151b01-a315-44c4-8094-188a6b08d97b')\"\n",
              "              title=\"Convert this dataframe to an interactive table.\"\n",
              "              style=\"display:none;\">\n",
              "        \n",
              "  <svg xmlns=\"http://www.w3.org/2000/svg\" height=\"24px\"viewBox=\"0 0 24 24\"\n",
              "       width=\"24px\">\n",
              "    <path d=\"M0 0h24v24H0V0z\" fill=\"none\"/>\n",
              "    <path d=\"M18.56 5.44l.94 2.06.94-2.06 2.06-.94-2.06-.94-.94-2.06-.94 2.06-2.06.94zm-11 1L8.5 8.5l.94-2.06 2.06-.94-2.06-.94L8.5 2.5l-.94 2.06-2.06.94zm10 10l.94 2.06.94-2.06 2.06-.94-2.06-.94-.94-2.06-.94 2.06-2.06.94z\"/><path d=\"M17.41 7.96l-1.37-1.37c-.4-.4-.92-.59-1.43-.59-.52 0-1.04.2-1.43.59L10.3 9.45l-7.72 7.72c-.78.78-.78 2.05 0 2.83L4 21.41c.39.39.9.59 1.41.59.51 0 1.02-.2 1.41-.59l7.78-7.78 2.81-2.81c.8-.78.8-2.07 0-2.86zM5.41 20L4 18.59l7.72-7.72 1.47 1.35L5.41 20z\"/>\n",
              "  </svg>\n",
              "      </button>\n",
              "      \n",
              "  <style>\n",
              "    .colab-df-container {\n",
              "      display:flex;\n",
              "      flex-wrap:wrap;\n",
              "      gap: 12px;\n",
              "    }\n",
              "\n",
              "    .colab-df-convert {\n",
              "      background-color: #E8F0FE;\n",
              "      border: none;\n",
              "      border-radius: 50%;\n",
              "      cursor: pointer;\n",
              "      display: none;\n",
              "      fill: #1967D2;\n",
              "      height: 32px;\n",
              "      padding: 0 0 0 0;\n",
              "      width: 32px;\n",
              "    }\n",
              "\n",
              "    .colab-df-convert:hover {\n",
              "      background-color: #E2EBFA;\n",
              "      box-shadow: 0px 1px 2px rgba(60, 64, 67, 0.3), 0px 1px 3px 1px rgba(60, 64, 67, 0.15);\n",
              "      fill: #174EA6;\n",
              "    }\n",
              "\n",
              "    [theme=dark] .colab-df-convert {\n",
              "      background-color: #3B4455;\n",
              "      fill: #D2E3FC;\n",
              "    }\n",
              "\n",
              "    [theme=dark] .colab-df-convert:hover {\n",
              "      background-color: #434B5C;\n",
              "      box-shadow: 0px 1px 3px 1px rgba(0, 0, 0, 0.15);\n",
              "      filter: drop-shadow(0px 1px 2px rgba(0, 0, 0, 0.3));\n",
              "      fill: #FFFFFF;\n",
              "    }\n",
              "  </style>\n",
              "\n",
              "      <script>\n",
              "        const buttonEl =\n",
              "          document.querySelector('#df-7b151b01-a315-44c4-8094-188a6b08d97b button.colab-df-convert');\n",
              "        buttonEl.style.display =\n",
              "          google.colab.kernel.accessAllowed ? 'block' : 'none';\n",
              "\n",
              "        async function convertToInteractive(key) {\n",
              "          const element = document.querySelector('#df-7b151b01-a315-44c4-8094-188a6b08d97b');\n",
              "          const dataTable =\n",
              "            await google.colab.kernel.invokeFunction('convertToInteractive',\n",
              "                                                     [key], {});\n",
              "          if (!dataTable) return;\n",
              "\n",
              "          const docLinkHtml = 'Like what you see? Visit the ' +\n",
              "            '<a target=\"_blank\" href=https://colab.research.google.com/notebooks/data_table.ipynb>data table notebook</a>'\n",
              "            + ' to learn more about interactive tables.';\n",
              "          element.innerHTML = '';\n",
              "          dataTable['output_type'] = 'display_data';\n",
              "          await google.colab.output.renderOutput(dataTable, element);\n",
              "          const docLink = document.createElement('div');\n",
              "          docLink.innerHTML = docLinkHtml;\n",
              "          element.appendChild(docLink);\n",
              "        }\n",
              "      </script>\n",
              "    </div>\n",
              "  </div>\n",
              "  "
            ]
          },
          "metadata": {},
          "execution_count": 85
        }
      ]
    },
    {
      "cell_type": "code",
      "source": [
        "#Combining movie summaries with other information - movie and character metadata "
      ],
      "metadata": {
        "id": "THKGw3wd2tmh"
      },
      "execution_count": null,
      "outputs": []
    }
  ]
}